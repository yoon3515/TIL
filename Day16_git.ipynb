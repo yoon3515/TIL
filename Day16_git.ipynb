{
 "cells": [
  {
   "attachments": {},
   "cell_type": "markdown",
   "metadata": {},
   "source": [
    "# 위치 통계량\n",
    "\n",
    "통계량의 필요성 : 간단하게 확률분포 확인 \n",
    "- 통계량 : 확률 분포의 특성을 나타내는 지표 의미\n",
    "- 통계량 계산하는 기술통계(=기초통계) 바탕 -> 확률분포 간단하게 확인 가능 \n",
    "- 변수가 많을 경우 훨씬 효율적 \n",
    "\n",
    "통계량 종류 \n",
    "- 대표 통계량 : 데이터의 중심 / 집중 경향 나타냄 (ex. 평균, 최빈값 등)\n",
    "- 산포 통계량 : 데이터의 퍼진 정도 나타냄 (ex. 분산, 범위, 표준편차)\n",
    "- 분포 통계량 : 데이터의 위치 정보 / 모양 나타냄 (ex. 왜도, 첨도, 사분위수, 최댓값, 최솟값)\n",
    "\n",
    "--- \n",
    "\n",
    "## 기술통계량 \n",
    "데이터의 특징 요약, 기술하는 통계량 \n",
    "\n",
    "- 위치통계량(measure of location)\n",
    "    - 데이터의 중심, 위치를 나타내는 척도(대표값)\n",
    "    - 평균, 중위수, 절사평균, 최빈수, 사분위수 등 \n",
    "- 변이통계량(measure of dispersion)\n",
    "    - 데이터의 퍼짐, 흩어진 정도를 나타내는 척도(산포도)\n",
    "    - 표준편차, 분산, 사분위간 범위 등 \n",
    "- 모양 통계량(measure of shape)\n",
    "    - 왜도 : 중심위치로 부터 어느 한쪽으로 치우친 정도를 나타내는 척도 \n",
    "    - 첨도 : 분포의 뾰족한 정도"
   ]
  },
  {
   "attachments": {},
   "cell_type": "markdown",
   "metadata": {},
   "source": [
    "### 1. 위치통계량(중심경향성)\n",
    "\n",
    "#### 평균(mean)\n",
    "가장 많이 사용되는 대표값 \n",
    "- 산술평균 : 모든 데이터의 합 / 데이터의 개수\n",
    "    - 계산이 쉽고 수학적으로 활용하기 편리하며, 각 자료에 대해 유일한 값을 가짐 \n",
    "    - 분산의 계산, 모수 추정, 가설 검정 등 통계분석의 대표적인 통계량으로 널리 사용됨 \n",
    "    - 극단치가 있는 경우 평균이 왜곡될 수 있음 -> 이경우에는 대표값으로 중앙값을 사용 \n",
    "- 모평균 : 값을 구하기 위한 모든 데이터들의 평균 \n",
    "- 표준평균 :  모든 값을 구할 수 없기 때문에 신뢰도가 훼손되지 않는 선에서 값들을 추출하여 구한 평균 "
   ]
  },
  {
   "attachments": {},
   "cell_type": "markdown",
   "metadata": {},
   "source": [
    "#### 산술평균"
   ]
  },
  {
   "cell_type": "code",
   "execution_count": 4,
   "metadata": {},
   "outputs": [
    {
     "name": "stdout",
     "output_type": "stream",
     "text": [
      "3.0\n",
      "3.0\n",
      "3.0\n",
      "\n",
      "0.4\n",
      "0.4\n",
      "0.4\n"
     ]
    }
   ],
   "source": [
    " \n",
    "\n",
    "import numpy as np\n",
    "import pandas as pd\n",
    "import matplotlib.pyplot  as plt\n",
    "\n",
    "x = [1,2,3,4,5]\n",
    "print(np.mean(x))\n",
    "print(np.array(x).mean())\n",
    "print(pd.Series(x).mean())\n",
    "\n",
    "print()\n",
    "\n",
    "# 이진변수에 대한 평균  - 이진변수에 대한 산술평균 : 1의 비율과 같음 \n",
    " \n",
    "x1 = [1,0,0,0,1]\n",
    "print(np.mean(x1))\n",
    "print(np.array(x1).mean())\n",
    "print(pd.Series(x1).mean())\n"
   ]
  },
  {
   "cell_type": "code",
   "execution_count": 7,
   "metadata": {},
   "outputs": [
    {
     "name": "stdout",
     "output_type": "stream",
     "text": [
      "                english  mathematics\n",
      "student number                      \n",
      "1                    42           65\n",
      "2                    69           80\n",
      "3                    56           63\n",
      "4                    41           63\n",
      "5                    57           76\n",
      "(50, 2)\n"
     ]
    }
   ],
   "source": [
    "df = pd.read_csv('c:\\my_python\\data\\ch2_scores_em.csv', index_col = 'student number')\n",
    "print(df.head())\n",
    "print(df.shape)"
   ]
  },
  {
   "cell_type": "code",
   "execution_count": 18,
   "metadata": {},
   "outputs": [
    {
     "data": {
      "text/plain": [
       "array([42, 69, 56, 41, 57, 48, 65, 49, 65, 58], dtype=int64)"
      ]
     },
     "execution_count": 18,
     "metadata": {},
     "output_type": "execute_result"
    }
   ],
   "source": [
    "# 10개 영어점수만 추출 후 저장 \n",
    "\n",
    "scores = np.array(df['english'])[:10]\n",
    "scores # <class 'numpy.ndarray'>"
   ]
  },
  {
   "cell_type": "code",
   "execution_count": 35,
   "metadata": {},
   "outputs": [
    {
     "data": {
      "text/html": [
       "<div>\n",
       "<style scoped>\n",
       "    .dataframe tbody tr th:only-of-type {\n",
       "        vertical-align: middle;\n",
       "    }\n",
       "\n",
       "    .dataframe tbody tr th {\n",
       "        vertical-align: top;\n",
       "    }\n",
       "\n",
       "    .dataframe thead th {\n",
       "        text-align: right;\n",
       "    }\n",
       "</style>\n",
       "<table border=\"1\" class=\"dataframe\">\n",
       "  <thead>\n",
       "    <tr style=\"text-align: right;\">\n",
       "      <th></th>\n",
       "      <th>scores</th>\n",
       "    </tr>\n",
       "    <tr>\n",
       "      <th>student</th>\n",
       "      <th></th>\n",
       "    </tr>\n",
       "  </thead>\n",
       "  <tbody>\n",
       "    <tr>\n",
       "      <th>A</th>\n",
       "      <td>42</td>\n",
       "    </tr>\n",
       "    <tr>\n",
       "      <th>B</th>\n",
       "      <td>69</td>\n",
       "    </tr>\n",
       "    <tr>\n",
       "      <th>C</th>\n",
       "      <td>56</td>\n",
       "    </tr>\n",
       "    <tr>\n",
       "      <th>D</th>\n",
       "      <td>41</td>\n",
       "    </tr>\n",
       "    <tr>\n",
       "      <th>E</th>\n",
       "      <td>57</td>\n",
       "    </tr>\n",
       "    <tr>\n",
       "      <th>F</th>\n",
       "      <td>48</td>\n",
       "    </tr>\n",
       "    <tr>\n",
       "      <th>G</th>\n",
       "      <td>65</td>\n",
       "    </tr>\n",
       "    <tr>\n",
       "      <th>H</th>\n",
       "      <td>49</td>\n",
       "    </tr>\n",
       "    <tr>\n",
       "      <th>I</th>\n",
       "      <td>65</td>\n",
       "    </tr>\n",
       "    <tr>\n",
       "      <th>J</th>\n",
       "      <td>58</td>\n",
       "    </tr>\n",
       "  </tbody>\n",
       "</table>\n",
       "</div>"
      ],
      "text/plain": [
       "         scores\n",
       "student        \n",
       "A            42\n",
       "B            69\n",
       "C            56\n",
       "D            41\n",
       "E            57\n",
       "F            48\n",
       "G            65\n",
       "H            49\n",
       "I            65\n",
       "J            58"
      ]
     },
     "execution_count": 35,
     "metadata": {},
     "output_type": "execute_result"
    }
   ],
   "source": [
    "scores_df = pd.DataFrame({'scores':scores}, \n",
    "                          index = pd.Index(['A','B','C','D','E','F','G','H','I','J'],\n",
    "                          name='student'))\n",
    "scores_df\n"
   ]
  },
  {
   "cell_type": "code",
   "execution_count": 42,
   "metadata": {},
   "outputs": [
    {
     "name": "stdout",
     "output_type": "stream",
     "text": [
      "55.0\n",
      "55.0\n",
      "55.0\n",
      "scores    55.0\n",
      "dtype: float64\n",
      "\n",
      "3.0\n",
      "3.0\n",
      "3.0\n"
     ]
    }
   ],
   "source": [
    "# 산술평균\n",
    "# scores : numpy 배열\n",
    "# scores_df : pandas 데이터프레임\n",
    "print(sum(scores)/len(scores))\n",
    "print(np.mean(scores)) # 넘파이 평균 구하기\n",
    "print(scores.mean()) # 넘파이 평균 구하기\n",
    "print(scores_df.mean()) # 판다스 평균 구하기 \n",
    "print()\n",
    "#비교해보기 \n",
    "x = [1,2,3,4,5]\n",
    "print(np.mean(x))\n",
    "print(np.array(x).mean())\n",
    "print(pd.Series(x).mean())\n"
   ]
  },
  {
   "attachments": {},
   "cell_type": "markdown",
   "metadata": {},
   "source": [
    "#### 기하평균 \n",
    "- n개의 양수 값을 모두 곱한것의 n제곱근 \n",
    "- 성장률 평균 "
   ]
  },
  {
   "attachments": {},
   "cell_type": "markdown",
   "metadata": {},
   "source": [
    "- 아래 year데이터는 어느 회사의 매출 증가율을 수집해높은 데이터이다. \n",
    "- 1차년도에 200%, 2차년도에 800%, 3차년도에 300% 성장을 했다면 연평균 성장률은 어떻게 되는가?"
   ]
  },
  {
   "cell_type": "code",
   "execution_count": 44,
   "metadata": {},
   "outputs": [
    {
     "name": "stdout",
     "output_type": "stream",
     "text": [
      "4.333333333333333\n"
     ]
    }
   ],
   "source": [
    "year = [2,8,3]\n",
    "\n",
    "#산술평균\n",
    "print(np.mean(year)) # 4.333333333333333\n",
    "\n",
    "# 매년 430% 성장으로 나타남 - 1차년도에 430퍼 2차년도 430퍼, 3차년도 430퍼 라면 전년대비 성장이므로\n",
    "# 이 회사는 3개년동안 430*430*430 성장한게 되므로 총 79507000 성장한상황이 됨  \n",
    "\n",
    "# 실제 성장은 200*800*300 이므로 차이가 많다. \n",
    "\n",
    "# 이렇게 곱하기를 해서 나오는 값에 대한 평균은 산술평균을 사용하면 의미가 달라짐 \n",
    "\n",
    "# -> 기하평균을 사용해야함 \n"
   ]
  },
  {
   "cell_type": "code",
   "execution_count": 45,
   "metadata": {},
   "outputs": [],
   "source": [
    "# 집합자료형을 인수로 받아 모든 원소를 곱한 결과를 반환하는 함수\n",
    "\n",
    "def multiply(arr) :\n",
    "    ans = 1\n",
    "    for n in arr :\n",
    "        if n == 0 :\n",
    "            return 0\n",
    "        ans *= n \n",
    "    return ans "
   ]
  },
  {
   "cell_type": "code",
   "execution_count": 47,
   "metadata": {},
   "outputs": [
    {
     "data": {
      "text/plain": [
       "47.99044410399999"
      ]
     },
     "execution_count": 47,
     "metadata": {},
     "output_type": "execute_result"
    }
   ],
   "source": [
    "# 기하평균 \n",
    "multiply(year) ** (1/len(year)) # 3.634241185664279\n",
    "\n",
    "# 연평균 약 363% 증가함을 알 수 있음 \n",
    "3.634*3.634*3.634 # 47.99044410399999"
   ]
  },
  {
   "attachments": {},
   "cell_type": "markdown",
   "metadata": {},
   "source": [
    "#### 조화평균\n",
    "- mmean()함수 사용\n",
    "- 비율 및 변화율에 대한 평균을 계산할 때 사용 \n",
    "- 주어진 수들의 -> 역수들의 -> 산술평균에서 -> 역수를 취한 값 "
   ]
  },
  {
   "cell_type": "code",
   "execution_count": null,
   "metadata": {},
   "outputs": [],
   "source": []
  }
 ],
 "metadata": {
  "kernelspec": {
   "display_name": "base",
   "language": "python",
   "name": "python3"
  },
  "language_info": {
   "codemirror_mode": {
    "name": "ipython",
    "version": 3
   },
   "file_extension": ".py",
   "mimetype": "text/x-python",
   "name": "python",
   "nbconvert_exporter": "python",
   "pygments_lexer": "ipython3",
   "version": "3.9.13"
  },
  "orig_nbformat": 4,
  "vscode": {
   "interpreter": {
    "hash": "d7288e82646d3164eca24130947288f8779d11454649f2c02a5dfc42af7f324c"
   }
  }
 },
 "nbformat": 4,
 "nbformat_minor": 2
}
