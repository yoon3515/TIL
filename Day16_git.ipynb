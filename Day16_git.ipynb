{
 "cells": [
  {
   "attachments": {},
   "cell_type": "markdown",
   "metadata": {},
   "source": [
    "# 위치 통계량\n",
    "\n",
    "통계량의 필요성 : 간단하게 확률분포 확인 \n",
    "- 통계량 : 확률 분포의 특성을 나타내는 지표 의미\n",
    "- 통계량 계산하는 기술통계(=기초통계) 바탕 -> 확률분포 간단하게 확인 가능 \n",
    "- 변수가 많을 경우 훨씬 효율적 \n",
    "\n",
    "통계량 종류 \n",
    "- 대표 통계량 : 데이터의 중심 / 집중 경향 나타냄 (ex. 평균, 최빈값 등)\n",
    "- 산포 통계량 : 데이터의 퍼진 정도 나타냄 (ex. 분산, 범위, 표준편차)\n",
    "- 분포 통계량 : 데이터의 위치 정보 / 모양 나타냄 (ex. 왜도, 첨도, 사분위수, 최댓값, 최솟값)\n",
    "\n",
    "--- \n",
    "\n",
    "## 기술통계량 \n",
    "데이터의 특징 요약, 기술하는 통계량 \n",
    "\n",
    "- 위치통계량(measure of location)\n",
    "    - 데이터의 중심, 위치를 나타내는 척도(대표값)\n",
    "    - 평균, 중위수, 절사평균, 최빈수, 사분위수 등 \n",
    "- 변이통계량(measure of dispersion)\n",
    "    - 데이터의 퍼짐, 흩어진 정도를 나타내는 척도(산포도)\n",
    "    - 표준편차, 분산, 사분위간 범위 등 \n",
    "- 모양 통계량(measure of shape)\n",
    "    - 왜도 : 중심위치로 부터 어느 한쪽으로 치우친 정도를 나타내는 척도 \n",
    "    - 첨도 : 분포의 뾰족한 정도"
   ]
  },
  {
   "attachments": {},
   "cell_type": "markdown",
   "metadata": {},
   "source": [
    "### 1. 위치통계량(중심경향성)\n",
    "\n",
    "#### 평균(mean)\n",
    "가장 많이 사용되는 대표값 \n",
    "- 산술평균 : 모든 데이터의 합 / 데이터의 개수\n",
    "    - 계산이 쉽고 수학적으로 활용하기 편리하며, 각 자료에 대해 유일한 값을 가짐 \n",
    "    - 분산의 계산, 모수 추정, 가설 검정 등 통계분석의 대표적인 통계량으로 널리 사용됨 \n",
    "    - 극단치가 있는 경우 평균이 왜곡될 수 있음 -> 이경우에는 대표값으로 중앙값을 사용 \n",
    "- 모평균 : 값을 구하기 위한 모든 데이터들의 평균 \n",
    "- 표준평균 :  모든 값을 구할 수 없기 때문에 신뢰도가 훼손되지 않는 선에서 값들을 추출하여 구한 평균 "
   ]
  },
  {
   "cell_type": "code",
   "execution_count": 4,
   "metadata": {},
   "outputs": [
    {
     "name": "stdout",
     "output_type": "stream",
     "text": [
      "3.0\n",
      "3.0\n",
      "3.0\n",
      "\n",
      "0.4\n",
      "0.4\n",
      "0.4\n"
     ]
    }
   ],
   "source": [
    "# 산술평균 \n",
    "\n",
    "import numpy as np\n",
    "import pandas as pd\n",
    "import matplotlib.pyplot  as plt\n",
    "\n",
    "x = [1,2,3,4,5]\n",
    "print(np.mean(x))\n",
    "print(np.array(x).mean())\n",
    "print(pd.Series(x).mean())\n",
    "\n",
    "print()\n",
    "\n",
    "# 이진변수에 대한 평균  - 이진변수에 대한 산술평균 : 1의 비율과 같음 \n",
    " \n",
    "x1 = [1,0,0,0,1]\n",
    "print(np.mean(x1))\n",
    "print(np.array(x1).mean())\n",
    "print(pd.Series(x1).mean())\n"
   ]
  },
  {
   "cell_type": "code",
   "execution_count": 7,
   "metadata": {},
   "outputs": [
    {
     "name": "stdout",
     "output_type": "stream",
     "text": [
      "                english  mathematics\n",
      "student number                      \n",
      "1                    42           65\n",
      "2                    69           80\n",
      "3                    56           63\n",
      "4                    41           63\n",
      "5                    57           76\n",
      "(50, 2)\n"
     ]
    }
   ],
   "source": [
    "df = pd.read_csv('c:\\my_python\\data\\ch2_scores_em.csv', index_col = 'student number')\n",
    "print(df.head())\n",
    "print(df.shape)"
   ]
  },
  {
   "cell_type": "code",
   "execution_count": 18,
   "metadata": {},
   "outputs": [
    {
     "data": {
      "text/plain": [
       "array([42, 69, 56, 41, 57, 48, 65, 49, 65, 58], dtype=int64)"
      ]
     },
     "execution_count": 18,
     "metadata": {},
     "output_type": "execute_result"
    }
   ],
   "source": [
    "# 10개 영어점수만 추출 후 저장 \n",
    "\n",
    "scores = np.array(df['english'])[:10]\n",
    "scores # <class 'numpy.ndarray'>"
   ]
  },
  {
   "cell_type": "code",
   "execution_count": null,
   "metadata": {},
   "outputs": [],
   "source": []
  }
 ],
 "metadata": {
  "kernelspec": {
   "display_name": "base",
   "language": "python",
   "name": "python3"
  },
  "language_info": {
   "codemirror_mode": {
    "name": "ipython",
    "version": 3
   },
   "file_extension": ".py",
   "mimetype": "text/x-python",
   "name": "python",
   "nbconvert_exporter": "python",
   "pygments_lexer": "ipython3",
   "version": "3.9.13"
  },
  "orig_nbformat": 4,
  "vscode": {
   "interpreter": {
    "hash": "d7288e82646d3164eca24130947288f8779d11454649f2c02a5dfc42af7f324c"
   }
  }
 },
 "nbformat": 4,
 "nbformat_minor": 2
}
