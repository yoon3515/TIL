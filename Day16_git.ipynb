{
 "cells": [
  {
   "attachments": {},
   "cell_type": "markdown",
   "metadata": {},
   "source": [
    "# 위치 통계량\n",
    "\n",
    "통계량의 필요성 : 간단하게 확률분포 확인 \n",
    "- 통계량 : 확률 분포의 특성을 나타내는 지표 의미\n",
    "- 통계량 계산하는 기술통계(=기초통계) 바탕 -> 확률분포 간단하게 확인 가능 \n",
    "- 변수가 많을 경우 훨씬 효율적 \n",
    "\n",
    "통계량 종류 \n",
    "- 대표 통계량 : 데이터의 중심 / 집중 경향 나타냄 (ex. 평균, 최빈값 등)\n",
    "- 산포 통계량 : 데이터의 퍼진 정도 나타냄 (ex. 분산, 범위, 표준편차)\n",
    "- 분포 통계량 : 데이터의 위치 정보 / 모양 나타냄 (ex. 왜도, 첨도, 사분위수, 최댓값, 최솟값)\n",
    "\n",
    "--- \n",
    "\n",
    "## 기술통계량 \n",
    "데이터의 특징 요약, 기술하는 통계량 \n",
    "\n",
    "- 위치통계량(measure of location)\n",
    "    - 데이터의 중심, 위치를 나타내는 척도(대표값)\n",
    "    - 평균, 중위수, 절사평균, 최빈수, 사분위수 등 \n",
    "- 변이통계량(measure of dispersion)\n",
    "    - 데이터의 퍼짐, 흩어진 정도를 나타내는 척도(산포도)\n",
    "    - 표준편차, 분산, 사분위간 범위 등 \n",
    "- 모양 통계량(measure of shape)\n",
    "    - 왜도 : 중심위치로 부터 어느 한쪽으로 치우친 정도를 나타내는 척도 \n",
    "    - 첨도 : 분포의 뾰족한 정도"
   ]
  },
  {
   "attachments": {},
   "cell_type": "markdown",
   "metadata": {},
   "source": [
    "### 1. 위치통계량(중심경향성)\n",
    "\n",
    "#### 평균(mean)\n",
    "가장 많이 사용되는 대표값 \n",
    "- 산술평균 : 모든 데이터의 합 / 데이터의 개수\n",
    "    - 계산이 쉽고 수학적으로 활용하기 편리하며, 각 자료에 대해 유일한 값을 가짐 \n",
    "    - 분산의 계산, 모수 추정, 가설 검정 등 통계분석의 대표적인 통계량으로 널리 사용됨 \n",
    "    - 극단치가 있는 경우 평균이 왜곡될 수 있음 -> 이경우에는 대표값으로 중앙값을 사용 \n",
    "- 모평균 : 값을 구하기 위한 모든 데이터들의 평균 \n",
    "- 표준평균 :  모든 값을 구할 수 없기 때문에 신뢰도가 훼손되지 않는 선에서 값들을 추출하여 구한 평균 "
   ]
  },
  {
   "attachments": {},
   "cell_type": "markdown",
   "metadata": {},
   "source": [
    "#### 산술평균"
   ]
  },
  {
   "cell_type": "code",
   "execution_count": 1,
   "metadata": {},
   "outputs": [
    {
     "name": "stdout",
     "output_type": "stream",
     "text": [
      "3.0\n",
      "3.0\n",
      "3.0\n",
      "\n",
      "0.4\n",
      "0.4\n",
      "0.4\n"
     ]
    }
   ],
   "source": [
    " \n",
    "\n",
    "import numpy as np\n",
    "import pandas as pd\n",
    "import matplotlib.pyplot  as plt\n",
    "\n",
    "x = [1,2,3,4,5]\n",
    "print(np.mean(x))\n",
    "print(np.array(x).mean())\n",
    "print(pd.Series(x).mean())\n",
    "\n",
    "print()\n",
    "\n",
    "# 이진변수에 대한 평균  - 이진변수에 대한 산술평균 : 1의 비율과 같음 \n",
    " \n",
    "x1 = [1,0,0,0,1]\n",
    "print(np.mean(x1))\n",
    "print(np.array(x1).mean())\n",
    "print(pd.Series(x1).mean())\n"
   ]
  },
  {
   "cell_type": "code",
   "execution_count": 2,
   "metadata": {},
   "outputs": [
    {
     "name": "stdout",
     "output_type": "stream",
     "text": [
      "                english  mathematics\n",
      "student number                      \n",
      "1                    42           65\n",
      "2                    69           80\n",
      "3                    56           63\n",
      "4                    41           63\n",
      "5                    57           76\n",
      "(50, 2)\n"
     ]
    }
   ],
   "source": [
    "df = pd.read_csv('c:\\my_python\\data\\ch2_scores_em.csv', index_col = 'student number')\n",
    "print(df.head())\n",
    "print(df.shape)"
   ]
  },
  {
   "cell_type": "code",
   "execution_count": 3,
   "metadata": {},
   "outputs": [
    {
     "data": {
      "text/plain": [
       "array([42, 69, 56, 41, 57, 48, 65, 49, 65, 58], dtype=int64)"
      ]
     },
     "execution_count": 3,
     "metadata": {},
     "output_type": "execute_result"
    }
   ],
   "source": [
    "# 10개 영어점수만 추출 후 저장 \n",
    "\n",
    "scores = np.array(df['english'])[:10]\n",
    "scores # <class 'numpy.ndarray'>"
   ]
  },
  {
   "cell_type": "code",
   "execution_count": 4,
   "metadata": {},
   "outputs": [
    {
     "data": {
      "text/html": [
       "<div>\n",
       "<style scoped>\n",
       "    .dataframe tbody tr th:only-of-type {\n",
       "        vertical-align: middle;\n",
       "    }\n",
       "\n",
       "    .dataframe tbody tr th {\n",
       "        vertical-align: top;\n",
       "    }\n",
       "\n",
       "    .dataframe thead th {\n",
       "        text-align: right;\n",
       "    }\n",
       "</style>\n",
       "<table border=\"1\" class=\"dataframe\">\n",
       "  <thead>\n",
       "    <tr style=\"text-align: right;\">\n",
       "      <th></th>\n",
       "      <th>scores</th>\n",
       "    </tr>\n",
       "    <tr>\n",
       "      <th>student</th>\n",
       "      <th></th>\n",
       "    </tr>\n",
       "  </thead>\n",
       "  <tbody>\n",
       "    <tr>\n",
       "      <th>A</th>\n",
       "      <td>42</td>\n",
       "    </tr>\n",
       "    <tr>\n",
       "      <th>B</th>\n",
       "      <td>69</td>\n",
       "    </tr>\n",
       "    <tr>\n",
       "      <th>C</th>\n",
       "      <td>56</td>\n",
       "    </tr>\n",
       "    <tr>\n",
       "      <th>D</th>\n",
       "      <td>41</td>\n",
       "    </tr>\n",
       "    <tr>\n",
       "      <th>E</th>\n",
       "      <td>57</td>\n",
       "    </tr>\n",
       "    <tr>\n",
       "      <th>F</th>\n",
       "      <td>48</td>\n",
       "    </tr>\n",
       "    <tr>\n",
       "      <th>G</th>\n",
       "      <td>65</td>\n",
       "    </tr>\n",
       "    <tr>\n",
       "      <th>H</th>\n",
       "      <td>49</td>\n",
       "    </tr>\n",
       "    <tr>\n",
       "      <th>I</th>\n",
       "      <td>65</td>\n",
       "    </tr>\n",
       "    <tr>\n",
       "      <th>J</th>\n",
       "      <td>58</td>\n",
       "    </tr>\n",
       "  </tbody>\n",
       "</table>\n",
       "</div>"
      ],
      "text/plain": [
       "         scores\n",
       "student        \n",
       "A            42\n",
       "B            69\n",
       "C            56\n",
       "D            41\n",
       "E            57\n",
       "F            48\n",
       "G            65\n",
       "H            49\n",
       "I            65\n",
       "J            58"
      ]
     },
     "execution_count": 4,
     "metadata": {},
     "output_type": "execute_result"
    }
   ],
   "source": [
    "scores_df = pd.DataFrame({'scores':scores}, \n",
    "                          index = pd.Index(['A','B','C','D','E','F','G','H','I','J'],\n",
    "                          name='student'))\n",
    "scores_df\n"
   ]
  },
  {
   "cell_type": "code",
   "execution_count": 5,
   "metadata": {},
   "outputs": [
    {
     "name": "stdout",
     "output_type": "stream",
     "text": [
      "55.0\n",
      "55.0\n",
      "55.0\n",
      "scores    55.0\n",
      "dtype: float64\n",
      "\n",
      "3.0\n",
      "3.0\n",
      "3.0\n"
     ]
    }
   ],
   "source": [
    "# 산술평균\n",
    "# scores : numpy 배열\n",
    "# scores_df : pandas 데이터프레임\n",
    "print(sum(scores)/len(scores))\n",
    "print(np.mean(scores)) # 넘파이 평균 구하기\n",
    "print(scores.mean()) # 넘파이 평균 구하기\n",
    "print(scores_df.mean()) # 판다스 평균 구하기 \n",
    "print()\n",
    "#비교해보기 \n",
    "x = [1,2,3,4,5]\n",
    "print(np.mean(x))\n",
    "print(np.array(x).mean())\n",
    "print(pd.Series(x).mean())\n"
   ]
  },
  {
   "attachments": {},
   "cell_type": "markdown",
   "metadata": {},
   "source": [
    "#### 기하평균 \n",
    "- n개의 양수 값을 모두 곱한것의 n제곱근 \n",
    "- 성장률 평균 "
   ]
  },
  {
   "attachments": {},
   "cell_type": "markdown",
   "metadata": {},
   "source": [
    "- 아래 year데이터는 어느 회사의 매출 증가율을 수집해높은 데이터이다. \n",
    "- 1차년도에 200%, 2차년도에 800%, 3차년도에 300% 성장을 했다면 연평균 성장률은 어떻게 되는가?"
   ]
  },
  {
   "cell_type": "code",
   "execution_count": 6,
   "metadata": {},
   "outputs": [
    {
     "name": "stdout",
     "output_type": "stream",
     "text": [
      "4.333333333333333\n"
     ]
    }
   ],
   "source": [
    "year = [2,8,3]\n",
    "\n",
    "#산술평균\n",
    "print(np.mean(year)) # 4.333333333333333\n",
    "\n",
    "# 매년 430% 성장으로 나타남 - 1차년도에 430퍼 2차년도 430퍼, 3차년도 430퍼 라면 전년대비 성장이므로\n",
    "# 이 회사는 3개년동안 430*430*430 성장한게 되므로 총 79507000 성장한상황이 됨  \n",
    "\n",
    "# 실제 성장은 200*800*300 이므로 차이가 많다. \n",
    "\n",
    "# 이렇게 곱하기를 해서 나오는 값에 대한 평균은 산술평균을 사용하면 의미가 달라짐 \n",
    "\n",
    "# -> 기하평균을 사용해야함 \n"
   ]
  },
  {
   "cell_type": "code",
   "execution_count": 7,
   "metadata": {},
   "outputs": [],
   "source": [
    "# 집합자료형을 인수로 받아 모든 원소를 곱한 결과를 반환하는 함수\n",
    "\n",
    "def multiply(arr) :\n",
    "    ans = 1\n",
    "    for n in arr :\n",
    "        if n == 0 :\n",
    "            return 0\n",
    "        ans *= n \n",
    "    return ans "
   ]
  },
  {
   "cell_type": "code",
   "execution_count": 8,
   "metadata": {},
   "outputs": [
    {
     "data": {
      "text/plain": [
       "47.99044410399999"
      ]
     },
     "execution_count": 8,
     "metadata": {},
     "output_type": "execute_result"
    }
   ],
   "source": [
    "# 기하평균 \n",
    "multiply(year) ** (1/len(year)) # 3.634241185664279\n",
    "\n",
    "# 연평균 약 363% 증가함을 알 수 있음 \n",
    "3.634*3.634*3.634 # 47.99044410399999"
   ]
  },
  {
   "attachments": {},
   "cell_type": "markdown",
   "metadata": {},
   "source": [
    "#### 조화평균\n",
    "- mmean()함수 사용\n",
    "- 비율 및 변화율에 대한 평균을 계산할 때 사용 \n",
    "- 주어진 수들의 -> 역수들의 -> 산술평균에서 -> 역수를 취한 값 "
   ]
  },
  {
   "attachments": {},
   "cell_type": "markdown",
   "metadata": {},
   "source": [
    "------------------------------------\n",
    "\n",
    "### 2. 변이통계량 \n",
    "\n",
    "데이터가 얼마나 퍼져있는지를 나타냄 (= 산포도)\n",
    "- 하나의 수치로 데이터가 흩어진 저도를 계산 \n",
    "- 대표값(평균, 중앙값, 최빈수 등)과 더불어 데이터를 비교하는 경우에 유용하게 사용\n",
    "    > ex) 평균이 같은 A와 B반의 성적 : 두 집단이 동일한 집단일까? (데이터 비교)\\\n",
    "      ex2) 어느 대학에서 같은 과목을 두 교수가 가르친다 하자.\\\n",
    "           두 교수 모두 평균 C학점을 학생들에게 준다면, 어떤 교수를 선택해도 마찬가지인 상황\\\n",
    "           하지만 한 교수는 대부분의 학생들이 평범해서 C를 줬고,\\\n",
    "           다른 교수는 반은 우수하여 A를 주고 반은 공부를 안 다 생각하여 -D를 준것이다. \n",
    "           따라서, 흩어짐의 정도(산포도)를 생각하지 않고 평균 성적만 고려하여 교수를 선택하면 학점을 받는데 어려움을 겪을 수 있다. \n"
   ]
  },
  {
   "attachments": {},
   "cell_type": "markdown",
   "metadata": {},
   "source": [
    "범위(range)\n",
    "- 데이터의 최대값과 최소값의 차이 \n",
    "- 데이터가 퍼져 있는 정도를 나타내는 가장 **간단한** 방법 \n",
    "- 범위가 클 수록 산포가 크다고 말할 수 있지만, 평균과 마찬가지로 극단값에 영향을 받음 \n",
    "- 데이터 중 2개의 정보 (최댓값, 최솟값)만을 이용 -> 적절한 척도로 사용하기 어려움 \n",
    "- R = max - min\n",
    "\n",
    "중간 범위(중앙값과 다름!!)\n",
    "- 최댓값과 최솟값의 평균 \n",
    "\n",
    "사분위간 범위(interquartile range : IQR)\n",
    "- 데이터를 크기순으로 나열 -> 4등분 -> Q3(75%) - Q1(25%)\n",
    "\n",
    "사분위수 편차(quartile deviation) -> 이미지, 동영상에서 음파를 분리한 파형 편차를 구할 때 사용 \n",
    "- 범위의 문제점을 보완한 척도 \n",
    "- 사분위간 범위의 값을 2로 나눈 값 (= 사분위범위의 평균값)\n",
    "\n",
    "분산 (variance)\n",
    "- 산포도의 척도로 가장 널리 사용되는 방법 \n",
    "- 데이터가 퍼져있는 정도의 기준으로 평균을 사용 (기준=평균)\n",
    "- 계산법 : 각 데이터와 평균과의 차이를 제곱하여 합한 값의 평균 (양수와 음수가 함께 있으면 상쇄가 발생 -> 제곱하는 이유)\n",
    "    - 데이터 = 모집단 전체 -> 데이터의 개수(n개)로 나누어줌 \n",
    "    - 데이터 = 표본일 경우 -> (n-1)로 나누어줌\n",
    "        - 표본의 경우 n으로 나누어 주는것 보다 n-1로 나누어주는것이 더 좋은 척도가 됨\n",
    "        - 표본의 크기가 클 경우엔 별 차이 없음 \n",
    "\n",
    "        "
   ]
  },
  {
   "cell_type": "code",
   "execution_count": 9,
   "metadata": {},
   "outputs": [
    {
     "name": "stdout",
     "output_type": "stream",
     "text": [
      "2.5\n",
      "2.0\n",
      "2.0\n"
     ]
    }
   ],
   "source": [
    "# 분산 계산 - var() 사용\n",
    "\n",
    "import numpy as np\n",
    "import pandas as pd\n",
    "\n",
    "x = [1,2,3,4,5]\n",
    "print(np.var(x, ddof = 1)) # ddof : 1 = 자유도가 표본 / 0 = 자유도가 모집단 # 여기서는 분모가 n-1\n",
    "print(np.array(x).var()) # ddof = 0 : 자유도가 모집단 (분모 =n)\n",
    "print(pd.Series(x).var(ddof=0)) # ddof = 0 : 자유도가 모집단 (분모 =n)\n",
    "\n",
    "# 값의 스케일에 크게 영향을 받기 때문에 \n",
    "# 변수를 스케일링한 후 -> 분산, 표준편차를 구하는게 좋음 "
   ]
  },
  {
   "attachments": {},
   "cell_type": "markdown",
   "metadata": {},
   "source": [
    "표준편차(standard deviation)\n",
    "- 계산된 분산의 제곱근으로 계산 \n",
    "- 평균을 중심으로 일정한 거리에 포함된 데이터의 비율이 얼마인가를 계산 \n",
    "- **모든 데이터를** 고려한 척도\n",
    "- 특징 \n",
    "    - 모든 데이터가 동일한 값을 갖는다면 분산과 표준편차 = 0\n",
    "    - 모든 데이터에 동일한 값을 더해주거나 빼도 변하지 않음 \n",
    "    - 모든 데이터에 동일한 값(c)을 곱하면 분산은 분산x𝐶^2으로 표준편차는 표준편차×𝐶 만큼 커짐\n",
    "- 분산에서 제곱의 영향을 없앤 지표\n",
    "- 분산과 표준편차가 크면 클수록 산포가 크다 "
   ]
  },
  {
   "cell_type": "code",
   "execution_count": 10,
   "metadata": {},
   "outputs": [
    {
     "name": "stdout",
     "output_type": "stream",
     "text": [
      "1.5811388300841898\n",
      "1.4142135623730951\n",
      "1.5811388300841898\n",
      "1.5811388300841898\n"
     ]
    }
   ],
   "source": [
    "# 표준편차 계산 : std()\n",
    "\n",
    "x = [1,2,3,4,5]\n",
    "print(np.std(x, ddof = 1))\n",
    "print(np.std(x, ddof = 0))\n",
    "print(np.array(x).std(ddof=1))\n",
    "print(pd.Series(x).std())\n"
   ]
  },
  {
   "attachments": {},
   "cell_type": "markdown",
   "metadata": {},
   "source": [
    "변동계수 (CV : Coefficient of variable)\n",
    "- 표본 표준편차를 표본평균으로 나눈 값 또는 그 값에 100을 곱한 값 \n",
    "- 상대 표준편차\n",
    "- **서로 다른 평균과 표준편차를 갖는 여러 데이터의 흩어진 정도를 비교** 할 때 시용\n",
    "- 변동계수 값이 크다는 것은 데이터의 흩어진 정도가 상대적으로 크다는 의미 \n",
    "\n",
    "변동계수의 필요성\n",
    "- 변수 스케일링 한 후 표준편차를 구함(데이터가 모두 양수인 경우 변동계수 사용)"
   ]
  },
  {
   "cell_type": "code",
   "execution_count": 11,
   "metadata": {},
   "outputs": [
    {
     "name": "stdout",
     "output_type": "stream",
     "text": [
      "1.5811388300841898\n",
      "15.811388300841896\n",
      "0.47140452079103173\n",
      "0.4714045207910317\n",
      "0.5270462766947299\n",
      "0.5270462766947299\n"
     ]
    }
   ],
   "source": [
    "from scipy.stats import *\n",
    "x1 = np.array([1,2,3,4,5])\n",
    "x2 = x1 * 10\n",
    "print(np.std(x1, ddof=1)) # 표준편찾\n",
    "print(np.std(x2, ddof=1))\n",
    "\n",
    "# 변동계수는 동일 !!\n",
    "print(variation(x1, ddof = 0)) \n",
    "print(variation(x2)) # 자유도 = 0\n",
    "\n",
    "# 변동 계수 수식\n",
    "print(np.std(x1, ddof=1)/np.mean(x1))\n",
    "print(np.std(x2, ddof=1)/np.mean(x2))"
   ]
  },
  {
   "attachments": {},
   "cell_type": "markdown",
   "metadata": {},
   "source": [
    "### 3. 스케일링(표준화)\n",
    "- 평균 : 0, 표준편차 : 1 이됨\n",
    "- 각 값들을 상대적인 값으로 변화시키는 기법 \n",
    "- 평균이 95점(국어), 평균이 30(수학) 일 때, \n",
    "    - 국어-90, 수학-80이라면 어떤 과목을 더 잘 하는건가?\n",
    "- 표준화된 데이터는 점수 같은 단위를 사용하지 않는다."
   ]
  },
  {
   "cell_type": "code",
   "execution_count": 12,
   "metadata": {},
   "outputs": [
    {
     "name": "stdout",
     "output_type": "stream",
     "text": [
      "[1 2 3 4 5]\n",
      "[10 20 30 40 50]\n",
      "[-1.41421356 -0.70710678  0.          0.70710678  1.41421356]\n",
      "[-1.41421356 -0.70710678  0.          0.70710678  1.41421356]\n",
      "0.0\n",
      "0.9999999999999999\n"
     ]
    }
   ],
   "source": [
    "print(x1)\n",
    "print(x2)\n",
    "\n",
    "# standard scaling - 평균이 0, 표준편차가 1이됨 \n",
    "# (data - data_set.mean())/data_set.std()\n",
    "\n",
    "z1 = (x1 - x1.mean())/x1.std()\n",
    "z2 = (x2-x2.mean())/x2.std()\n",
    "\n",
    "print(z1)\n",
    "print(z2) # 보통 -3에서 +3까지 분포됨\n",
    "\n",
    "print(z1.mean())\n",
    "print(z1.std())"
   ]
  },
  {
   "attachments": {},
   "cell_type": "markdown",
   "metadata": {},
   "source": [
    "#### 표준화 예제 "
   ]
  },
  {
   "cell_type": "code",
   "execution_count": 13,
   "metadata": {},
   "outputs": [
    {
     "data": {
      "text/html": [
       "<div>\n",
       "<style scoped>\n",
       "    .dataframe tbody tr th:only-of-type {\n",
       "        vertical-align: middle;\n",
       "    }\n",
       "\n",
       "    .dataframe tbody tr th {\n",
       "        vertical-align: top;\n",
       "    }\n",
       "\n",
       "    .dataframe thead th {\n",
       "        text-align: right;\n",
       "    }\n",
       "</style>\n",
       "<table border=\"1\" class=\"dataframe\">\n",
       "  <thead>\n",
       "    <tr style=\"text-align: right;\">\n",
       "      <th></th>\n",
       "      <th>english</th>\n",
       "      <th>mathematics</th>\n",
       "    </tr>\n",
       "    <tr>\n",
       "      <th>student number</th>\n",
       "      <th></th>\n",
       "      <th></th>\n",
       "    </tr>\n",
       "  </thead>\n",
       "  <tbody>\n",
       "    <tr>\n",
       "      <th>1</th>\n",
       "      <td>42</td>\n",
       "      <td>65</td>\n",
       "    </tr>\n",
       "    <tr>\n",
       "      <th>2</th>\n",
       "      <td>69</td>\n",
       "      <td>80</td>\n",
       "    </tr>\n",
       "    <tr>\n",
       "      <th>3</th>\n",
       "      <td>56</td>\n",
       "      <td>63</td>\n",
       "    </tr>\n",
       "    <tr>\n",
       "      <th>4</th>\n",
       "      <td>41</td>\n",
       "      <td>63</td>\n",
       "    </tr>\n",
       "    <tr>\n",
       "      <th>5</th>\n",
       "      <td>57</td>\n",
       "      <td>76</td>\n",
       "    </tr>\n",
       "  </tbody>\n",
       "</table>\n",
       "</div>"
      ],
      "text/plain": [
       "                english  mathematics\n",
       "student number                      \n",
       "1                    42           65\n",
       "2                    69           80\n",
       "3                    56           63\n",
       "4                    41           63\n",
       "5                    57           76"
      ]
     },
     "execution_count": 13,
     "metadata": {},
     "output_type": "execute_result"
    }
   ],
   "source": [
    "df = pd.read_csv('c:/my_python/data/ch2_scores_em.csv',\n",
    "                 index_col = 'student number')\n",
    "df.head()"
   ]
  },
  {
   "cell_type": "code",
   "execution_count": 26,
   "metadata": {},
   "outputs": [
    {
     "name": "stdout",
     "output_type": "stream",
     "text": [
      "english        55.0\n",
      "mathematics    71.4\n",
      "dtype: float64\n",
      "english        9.775252\n",
      "mathematics    8.720347\n",
      "dtype: float64\n"
     ]
    },
    {
     "data": {
      "text/html": [
       "<div>\n",
       "<style scoped>\n",
       "    .dataframe tbody tr th:only-of-type {\n",
       "        vertical-align: middle;\n",
       "    }\n",
       "\n",
       "    .dataframe tbody tr th {\n",
       "        vertical-align: top;\n",
       "    }\n",
       "\n",
       "    .dataframe thead th {\n",
       "        text-align: right;\n",
       "    }\n",
       "</style>\n",
       "<table border=\"1\" class=\"dataframe\">\n",
       "  <thead>\n",
       "    <tr style=\"text-align: right;\">\n",
       "      <th></th>\n",
       "      <th>english</th>\n",
       "      <th>mathematics</th>\n",
       "    </tr>\n",
       "    <tr>\n",
       "      <th>students</th>\n",
       "      <th></th>\n",
       "      <th></th>\n",
       "    </tr>\n",
       "  </thead>\n",
       "  <tbody>\n",
       "    <tr>\n",
       "      <th>A</th>\n",
       "      <td>42</td>\n",
       "      <td>65</td>\n",
       "    </tr>\n",
       "    <tr>\n",
       "      <th>B</th>\n",
       "      <td>69</td>\n",
       "      <td>80</td>\n",
       "    </tr>\n",
       "    <tr>\n",
       "      <th>C</th>\n",
       "      <td>56</td>\n",
       "      <td>63</td>\n",
       "    </tr>\n",
       "    <tr>\n",
       "      <th>D</th>\n",
       "      <td>41</td>\n",
       "      <td>63</td>\n",
       "    </tr>\n",
       "    <tr>\n",
       "      <th>E</th>\n",
       "      <td>57</td>\n",
       "      <td>76</td>\n",
       "    </tr>\n",
       "    <tr>\n",
       "      <th>F</th>\n",
       "      <td>48</td>\n",
       "      <td>60</td>\n",
       "    </tr>\n",
       "    <tr>\n",
       "      <th>G</th>\n",
       "      <td>65</td>\n",
       "      <td>81</td>\n",
       "    </tr>\n",
       "    <tr>\n",
       "      <th>H</th>\n",
       "      <td>49</td>\n",
       "      <td>66</td>\n",
       "    </tr>\n",
       "    <tr>\n",
       "      <th>I</th>\n",
       "      <td>65</td>\n",
       "      <td>78</td>\n",
       "    </tr>\n",
       "    <tr>\n",
       "      <th>J</th>\n",
       "      <td>58</td>\n",
       "      <td>82</td>\n",
       "    </tr>\n",
       "  </tbody>\n",
       "</table>\n",
       "</div>"
      ],
      "text/plain": [
       "          english  mathematics\n",
       "students                      \n",
       "A              42           65\n",
       "B              69           80\n",
       "C              56           63\n",
       "D              41           63\n",
       "E              57           76\n",
       "F              48           60\n",
       "G              65           81\n",
       "H              49           66\n",
       "I              65           78\n",
       "J              58           82"
      ]
     },
     "execution_count": 26,
     "metadata": {},
     "output_type": "execute_result"
    }
   ],
   "source": [
    "scores = df.loc[1:10]\n",
    "scores.index = ['A','B','C','D','E','F','G','H','I','J']\n",
    "scores.index.name = 'students'\n",
    "print(scores.mean())\n",
    "print(scores.std())\n",
    "scores"
   ]
  },
  {
   "cell_type": "code",
   "execution_count": 30,
   "metadata": {},
   "outputs": [
    {
     "name": "stdout",
     "output_type": "stream",
     "text": [
      "           english  mathematics\n",
      "students                       \n",
      "A        -1.329889    -0.733916\n",
      "B         1.432188     0.986199\n",
      "C         0.102299    -0.963264\n",
      "D        -1.432188    -0.963264\n",
      "E         0.204598     0.527502\n",
      "F        -0.716094    -1.307287\n",
      "G         1.022992     1.100874\n",
      "H        -0.613795    -0.619241\n",
      "I         1.022992     0.756851\n",
      "J         0.306897     1.215548\n",
      "english        2.775558e-17\n",
      "mathematics   -6.883383e-16\n",
      "dtype: float64\n",
      "english        1.0\n",
      "mathematics    1.0\n",
      "dtype: float64\n"
     ]
    }
   ],
   "source": [
    "# 표준화\n",
    "z_scores = (scores-scores.mean())/scores.std()\n",
    "print(z_scores)\n",
    "print(z_scores.mean()) # 거의 0이라고 봄 \n",
    "print(z_scores.std())"
   ]
  },
  {
   "attachments": {},
   "cell_type": "markdown",
   "metadata": {},
   "source": [
    "#### sklearn을 이용한 스케일링 - 머신러닝을 위해 쓰는 경우가 대부분\n",
    "- df의 각 **열**에 대해서 스케일링 하는데 적합 \n",
    "     - 따로 따로 구해줄 필요 없음 "
   ]
  },
  {
   "cell_type": "code",
   "execution_count": 45,
   "metadata": {},
   "outputs": [
    {
     "data": {
      "text/html": [
       "<div>\n",
       "<style scoped>\n",
       "    .dataframe tbody tr th:only-of-type {\n",
       "        vertical-align: middle;\n",
       "    }\n",
       "\n",
       "    .dataframe tbody tr th {\n",
       "        vertical-align: top;\n",
       "    }\n",
       "\n",
       "    .dataframe thead th {\n",
       "        text-align: right;\n",
       "    }\n",
       "</style>\n",
       "<table border=\"1\" class=\"dataframe\">\n",
       "  <thead>\n",
       "    <tr style=\"text-align: right;\">\n",
       "      <th></th>\n",
       "      <th>X1</th>\n",
       "      <th>X2</th>\n",
       "    </tr>\n",
       "  </thead>\n",
       "  <tbody>\n",
       "    <tr>\n",
       "      <th>0</th>\n",
       "      <td>1</td>\n",
       "      <td>10</td>\n",
       "    </tr>\n",
       "    <tr>\n",
       "      <th>1</th>\n",
       "      <td>2</td>\n",
       "      <td>20</td>\n",
       "    </tr>\n",
       "    <tr>\n",
       "      <th>2</th>\n",
       "      <td>3</td>\n",
       "      <td>30</td>\n",
       "    </tr>\n",
       "    <tr>\n",
       "      <th>3</th>\n",
       "      <td>4</td>\n",
       "      <td>40</td>\n",
       "    </tr>\n",
       "    <tr>\n",
       "      <th>4</th>\n",
       "      <td>5</td>\n",
       "      <td>50</td>\n",
       "    </tr>\n",
       "  </tbody>\n",
       "</table>\n",
       "</div>"
      ],
      "text/plain": [
       "   X1  X2\n",
       "0   1  10\n",
       "1   2  20\n",
       "2   3  30\n",
       "3   4  40\n",
       "4   5  50"
      ]
     },
     "execution_count": 45,
     "metadata": {},
     "output_type": "execute_result"
    }
   ],
   "source": [
    "import numpy as np\n",
    "import pandas as pd\n",
    "\n",
    "X = pd.DataFrame({'X1' : [1,2,3,4,5],\n",
    "                  'X2' : [10, 20, 30, 40, 50]})\n",
    "X"
   ]
  },
  {
   "cell_type": "code",
   "execution_count": 52,
   "metadata": {},
   "outputs": [
    {
     "name": "stdout",
     "output_type": "stream",
     "text": [
      "[[-1.41421356 -1.41421356]\n",
      " [-0.70710678 -0.70710678]\n",
      " [ 0.          0.        ]\n",
      " [ 0.70710678  0.70710678]\n",
      " [ 1.41421356  1.41421356]]\n",
      "<class 'numpy.ndarray'>\n",
      "0.0\n",
      "0.9999999999999999\n"
     ]
    }
   ],
   "source": [
    "# 표준화\n",
    "from sklearn.preprocessing import StandardScaler \n",
    "scaler = StandardScaler() # 인스턴스 생성 \n",
    "Z = scaler.fit_transform(X) # 표준화 진행 후 array 반환 !!! 중요!!!!!!!!\n",
    "print(Z)\n",
    "print(type(Z))\n",
    "print(Z.mean())\n",
    "print(Z.std()) # 표준편차가 같기 때문에 스케일링 결과가 같은 값으로 나오게 된다. \n",
    "\n"
   ]
  },
  {
   "cell_type": "code",
   "execution_count": 53,
   "metadata": {},
   "outputs": [
    {
     "data": {
      "text/html": [
       "<div>\n",
       "<style scoped>\n",
       "    .dataframe tbody tr th:only-of-type {\n",
       "        vertical-align: middle;\n",
       "    }\n",
       "\n",
       "    .dataframe tbody tr th {\n",
       "        vertical-align: top;\n",
       "    }\n",
       "\n",
       "    .dataframe thead th {\n",
       "        text-align: right;\n",
       "    }\n",
       "</style>\n",
       "<table border=\"1\" class=\"dataframe\">\n",
       "  <thead>\n",
       "    <tr style=\"text-align: right;\">\n",
       "      <th></th>\n",
       "      <th>0</th>\n",
       "      <th>1</th>\n",
       "    </tr>\n",
       "  </thead>\n",
       "  <tbody>\n",
       "    <tr>\n",
       "      <th>0</th>\n",
       "      <td>-1.414214</td>\n",
       "      <td>-1.414214</td>\n",
       "    </tr>\n",
       "    <tr>\n",
       "      <th>1</th>\n",
       "      <td>-0.707107</td>\n",
       "      <td>-0.707107</td>\n",
       "    </tr>\n",
       "    <tr>\n",
       "      <th>2</th>\n",
       "      <td>0.000000</td>\n",
       "      <td>0.000000</td>\n",
       "    </tr>\n",
       "    <tr>\n",
       "      <th>3</th>\n",
       "      <td>0.707107</td>\n",
       "      <td>0.707107</td>\n",
       "    </tr>\n",
       "    <tr>\n",
       "      <th>4</th>\n",
       "      <td>1.414214</td>\n",
       "      <td>1.414214</td>\n",
       "    </tr>\n",
       "  </tbody>\n",
       "</table>\n",
       "</div>"
      ],
      "text/plain": [
       "          0         1\n",
       "0 -1.414214 -1.414214\n",
       "1 -0.707107 -0.707107\n",
       "2  0.000000  0.000000\n",
       "3  0.707107  0.707107\n",
       "4  1.414214  1.414214"
      ]
     },
     "execution_count": 53,
     "metadata": {},
     "output_type": "execute_result"
    }
   ],
   "source": [
    "# 그래서 필요하다면 DF로 다시 변환 해줘야함 !!!\n",
    "pd.DataFrame(Z)\n",
    "\n",
    "\n"
   ]
  },
  {
   "attachments": {},
   "cell_type": "markdown",
   "metadata": {},
   "source": [
    "#### MinMaxScaling\n",
    "- 언제나 최솟값과 최댓값이 균일하다면 사용가능\n",
    "- 그렇지 않다면 사용하지 말것 !\n",
    "1. 계산식 사용 : (data - data_set.min()) / (data_set.max()-data_set.min())\n",
    "2. sklearn의 MinMaxScaler 사용 "
   ]
  },
  {
   "cell_type": "code",
   "execution_count": 55,
   "metadata": {},
   "outputs": [
    {
     "name": "stdout",
     "output_type": "stream",
     "text": [
      "[-1.  -0.8 -0.6 -0.4 -0.2]\n",
      "[-10.   -9.8  -9.6  -9.4  -9.2]\n"
     ]
    }
   ],
   "source": [
    "# 1. 계산식 사용\n",
    "\n",
    "x1 = np.array([1,2,3,4,5])\n",
    "x2 = x1 * 10\n",
    "\n",
    "z1 = (x1-x1.min())/x1.max()-x1.min()\n",
    "z2 = (x2-x2.min())/x2.max()-x2.min()\n",
    "\n",
    "print(z1)\n",
    "print(z2)"
   ]
  },
  {
   "cell_type": "code",
   "execution_count": 63,
   "metadata": {},
   "outputs": [
    {
     "name": "stdout",
     "output_type": "stream",
     "text": [
      "   X1  X2\n",
      "0   1  10\n",
      "1   2  20\n",
      "2   3  30\n",
      "3   4  40\n",
      "4   5  50\n",
      "<class 'pandas.core.frame.DataFrame'>\n",
      "[[0.   0.  ]\n",
      " [0.25 0.25]\n",
      " [0.5  0.5 ]\n",
      " [0.75 0.75]\n",
      " [1.   1.  ]]\n",
      "<class 'numpy.ndarray'>\n"
     ]
    },
    {
     "data": {
      "text/html": [
       "<div>\n",
       "<style scoped>\n",
       "    .dataframe tbody tr th:only-of-type {\n",
       "        vertical-align: middle;\n",
       "    }\n",
       "\n",
       "    .dataframe tbody tr th {\n",
       "        vertical-align: top;\n",
       "    }\n",
       "\n",
       "    .dataframe thead th {\n",
       "        text-align: right;\n",
       "    }\n",
       "</style>\n",
       "<table border=\"1\" class=\"dataframe\">\n",
       "  <thead>\n",
       "    <tr style=\"text-align: right;\">\n",
       "      <th></th>\n",
       "      <th>0</th>\n",
       "      <th>1</th>\n",
       "    </tr>\n",
       "  </thead>\n",
       "  <tbody>\n",
       "    <tr>\n",
       "      <th>0</th>\n",
       "      <td>0.00</td>\n",
       "      <td>0.00</td>\n",
       "    </tr>\n",
       "    <tr>\n",
       "      <th>1</th>\n",
       "      <td>0.25</td>\n",
       "      <td>0.25</td>\n",
       "    </tr>\n",
       "    <tr>\n",
       "      <th>2</th>\n",
       "      <td>0.50</td>\n",
       "      <td>0.50</td>\n",
       "    </tr>\n",
       "    <tr>\n",
       "      <th>3</th>\n",
       "      <td>0.75</td>\n",
       "      <td>0.75</td>\n",
       "    </tr>\n",
       "    <tr>\n",
       "      <th>4</th>\n",
       "      <td>1.00</td>\n",
       "      <td>1.00</td>\n",
       "    </tr>\n",
       "  </tbody>\n",
       "</table>\n",
       "</div>"
      ],
      "text/plain": [
       "      0     1\n",
       "0  0.00  0.00\n",
       "1  0.25  0.25\n",
       "2  0.50  0.50\n",
       "3  0.75  0.75\n",
       "4  1.00  1.00"
      ]
     },
     "execution_count": 63,
     "metadata": {},
     "output_type": "execute_result"
    }
   ],
   "source": [
    "# 2. sklearn의 minmax 사용 \n",
    "\n",
    "from sklearn.preprocessing import MinMaxScaler\n",
    "mm = MinMaxScaler()\n",
    "\n",
    "print(X) # x1, x2가 칼럼으로 있는 DataFrame\n",
    "print(type(X))\n",
    "\n",
    "Z = mm.fit_transform(X) # 인자로 DataFame 사용 \n",
    "print(Z)\n",
    "print(type(Z)) # 하지만 넘파이 배열로 출력돼서 나옴 \n",
    "pd.DataFrame(Z) # 필요시 DataFrame으로 다시 바꿔줘야함 "
   ]
  },
  {
   "attachments": {},
   "cell_type": "markdown",
   "metadata": {},
   "source": [
    "#### 편찻값 \n",
    "- 평균이 50, 표준편차가 10이 되도록 규정한 값 "
   ]
  },
  {
   "cell_type": "code",
   "execution_count": 64,
   "metadata": {},
   "outputs": [
    {
     "name": "stderr",
     "output_type": "stream",
     "text": [
      "c:\\anaconda\\lib\\site-packages\\numpy\\core\\fromnumeric.py:3438: FutureWarning: In a future version, DataFrame.mean(axis=None) will return a scalar mean over the entire DataFrame. To retain the old behavior, use 'frame.mean(axis=0)' or just 'frame.mean()'\n",
      "  return mean(axis=axis, dtype=dtype, out=out, **kwargs)\n"
     ]
    },
    {
     "data": {
      "text/html": [
       "<div>\n",
       "<style scoped>\n",
       "    .dataframe tbody tr th:only-of-type {\n",
       "        vertical-align: middle;\n",
       "    }\n",
       "\n",
       "    .dataframe tbody tr th {\n",
       "        vertical-align: top;\n",
       "    }\n",
       "\n",
       "    .dataframe thead th {\n",
       "        text-align: right;\n",
       "    }\n",
       "</style>\n",
       "<table border=\"1\" class=\"dataframe\">\n",
       "  <thead>\n",
       "    <tr style=\"text-align: right;\">\n",
       "      <th></th>\n",
       "      <th>영어</th>\n",
       "      <th>영어편찻값</th>\n",
       "      <th>수학</th>\n",
       "      <th>수학편찻값</th>\n",
       "    </tr>\n",
       "    <tr>\n",
       "      <th>students</th>\n",
       "      <th></th>\n",
       "      <th></th>\n",
       "      <th></th>\n",
       "      <th></th>\n",
       "    </tr>\n",
       "  </thead>\n",
       "  <tbody>\n",
       "    <tr>\n",
       "      <th>A</th>\n",
       "      <td>42</td>\n",
       "      <td>35.981739</td>\n",
       "      <td>65</td>\n",
       "      <td>42.263848</td>\n",
       "    </tr>\n",
       "    <tr>\n",
       "      <th>B</th>\n",
       "      <td>69</td>\n",
       "      <td>65.096588</td>\n",
       "      <td>80</td>\n",
       "      <td>60.395454</td>\n",
       "    </tr>\n",
       "    <tr>\n",
       "      <th>C</th>\n",
       "      <td>56</td>\n",
       "      <td>51.078328</td>\n",
       "      <td>63</td>\n",
       "      <td>39.846301</td>\n",
       "    </tr>\n",
       "    <tr>\n",
       "      <th>D</th>\n",
       "      <td>41</td>\n",
       "      <td>34.903412</td>\n",
       "      <td>63</td>\n",
       "      <td>39.846301</td>\n",
       "    </tr>\n",
       "    <tr>\n",
       "      <th>E</th>\n",
       "      <td>57</td>\n",
       "      <td>52.156655</td>\n",
       "      <td>76</td>\n",
       "      <td>55.560359</td>\n",
       "    </tr>\n",
       "    <tr>\n",
       "      <th>F</th>\n",
       "      <td>48</td>\n",
       "      <td>42.451706</td>\n",
       "      <td>60</td>\n",
       "      <td>36.219980</td>\n",
       "    </tr>\n",
       "    <tr>\n",
       "      <th>G</th>\n",
       "      <td>65</td>\n",
       "      <td>60.783277</td>\n",
       "      <td>81</td>\n",
       "      <td>61.604227</td>\n",
       "    </tr>\n",
       "    <tr>\n",
       "      <th>H</th>\n",
       "      <td>49</td>\n",
       "      <td>43.530034</td>\n",
       "      <td>66</td>\n",
       "      <td>43.472622</td>\n",
       "    </tr>\n",
       "    <tr>\n",
       "      <th>I</th>\n",
       "      <td>65</td>\n",
       "      <td>60.783277</td>\n",
       "      <td>78</td>\n",
       "      <td>57.977906</td>\n",
       "    </tr>\n",
       "    <tr>\n",
       "      <th>J</th>\n",
       "      <td>58</td>\n",
       "      <td>53.234983</td>\n",
       "      <td>82</td>\n",
       "      <td>62.813001</td>\n",
       "    </tr>\n",
       "  </tbody>\n",
       "</table>\n",
       "</div>"
      ],
      "text/plain": [
       "          영어      영어편찻값  수학      수학편찻값\n",
       "students                              \n",
       "A         42  35.981739  65  42.263848\n",
       "B         69  65.096588  80  60.395454\n",
       "C         56  51.078328  63  39.846301\n",
       "D         41  34.903412  63  39.846301\n",
       "E         57  52.156655  76  55.560359\n",
       "F         48  42.451706  60  36.219980\n",
       "G         65  60.783277  81  61.604227\n",
       "H         49  43.530034  66  43.472622\n",
       "I         65  60.783277  78  57.977906\n",
       "J         58  53.234983  82  62.813001"
      ]
     },
     "execution_count": 64,
     "metadata": {},
     "output_type": "execute_result"
    }
   ],
   "source": [
    "z = 50 + 10 * (scores - np.mean(scores))/np.std(scores)\n",
    "\n",
    "result = pd.concat([scores, z], axis = 1)\n",
    "result.columns = ['영어', '수학', '영어편찻값', '수학편찻값']\n",
    "result[['영어', '영어편찻값', '수학', '수학편찻값']] # 보고싶은 열 순서대로 추출"
   ]
  },
  {
   "cell_type": "code",
   "execution_count": 65,
   "metadata": {},
   "outputs": [
    {
     "name": "stdout",
     "output_type": "stream",
     "text": [
      "english        50.0\n",
      "mathematics    50.0\n",
      "dtype: float64\n",
      "english        10.540926\n",
      "mathematics    10.540926\n",
      "dtype: float64\n"
     ]
    }
   ],
   "source": [
    "print(z.mean())\n",
    "print(z.std())"
   ]
  },
  {
   "cell_type": "code",
   "execution_count": null,
   "metadata": {},
   "outputs": [],
   "source": []
  }
 ],
 "metadata": {
  "kernelspec": {
   "display_name": "base",
   "language": "python",
   "name": "python3"
  },
  "language_info": {
   "codemirror_mode": {
    "name": "ipython",
    "version": 3
   },
   "file_extension": ".py",
   "mimetype": "text/x-python",
   "name": "python",
   "nbconvert_exporter": "python",
   "pygments_lexer": "ipython3",
   "version": "3.9.13"
  },
  "orig_nbformat": 4,
  "vscode": {
   "interpreter": {
    "hash": "d7288e82646d3164eca24130947288f8779d11454649f2c02a5dfc42af7f324c"
   }
  }
 },
 "nbformat": 4,
 "nbformat_minor": 2
}
