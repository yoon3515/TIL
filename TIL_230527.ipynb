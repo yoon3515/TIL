{
 "cells": [
  {
   "attachments": {},
   "cell_type": "markdown",
   "metadata": {},
   "source": [
    "# For문 연습"
   ]
  },
  {
   "attachments": {},
   "cell_type": "markdown",
   "metadata": {},
   "source": [
    "## 1"
   ]
  },
  {
   "attachments": {},
   "cell_type": "markdown",
   "metadata": {},
   "source": [
    "<리스트 객체의 인덱스값 리턴 / ord(), chr() 시각화>"
   ]
  },
  {
   "cell_type": "code",
   "execution_count": 1,
   "metadata": {},
   "outputs": [],
   "source": [
    "import matplotlib.pyplot as plt"
   ]
  },
  {
   "cell_type": "code",
   "execution_count": 2,
   "metadata": {},
   "outputs": [
    {
     "name": "stdout",
     "output_type": "stream",
     "text": [
      "멍멍이 3\n",
      "야옹이 3\n",
      "꽥꽥이 3\n"
     ]
    }
   ],
   "source": [
    "my_list = ['멍멍이', '야옹이', '꽥꽥이']\n",
    "\n",
    "for w in my_list :\n",
    "    print(w, len(w)) # len(w)는 글자 수를 세어줌 "
   ]
  },
  {
   "cell_type": "code",
   "execution_count": 3,
   "metadata": {},
   "outputs": [
    {
     "name": "stdout",
     "output_type": "stream",
     "text": [
      "멍멍이\n"
     ]
    }
   ],
   "source": [
    "print(my_list[0])"
   ]
  },
  {
   "cell_type": "code",
   "execution_count": 4,
   "metadata": {},
   "outputs": [
    {
     "name": "stdout",
     "output_type": "stream",
     "text": [
      "멍\n"
     ]
    }
   ],
   "source": [
    "print(my_list[0][0])"
   ]
  },
  {
   "cell_type": "code",
   "execution_count": 5,
   "metadata": {},
   "outputs": [
    {
     "name": "stdout",
     "output_type": "stream",
     "text": [
      "야옹\n"
     ]
    }
   ],
   "source": [
    "print(my_list[1][0:2]) # 0번부터 1번까지 "
   ]
  },
  {
   "attachments": {},
   "cell_type": "markdown",
   "metadata": {},
   "source": [
    "1-1. 일반for문을 이용해 값 출력"
   ]
  },
  {
   "cell_type": "code",
   "execution_count": 6,
   "metadata": {},
   "outputs": [],
   "source": [
    "my_list = [\n",
    "    [1,2,3],\n",
    "    [4,5,6],\n",
    "    [7,8,9]]"
   ]
  },
  {
   "cell_type": "code",
   "execution_count": 13,
   "metadata": {},
   "outputs": [
    {
     "name": "stdout",
     "output_type": "stream",
     "text": [
      "[1, 2, 3] 3\n",
      "[1, 2, 3]\n",
      "[4, 5, 6] 3\n",
      "[4, 5, 6]\n",
      "[7, 8, 9] 3\n",
      "[7, 8, 9]\n"
     ]
    }
   ],
   "source": [
    "for w in my_list :\n",
    "    print(w, len(w))\n",
    "    print(w)"
   ]
  },
  {
   "cell_type": "code",
   "execution_count": 12,
   "metadata": {},
   "outputs": [
    {
     "name": "stdout",
     "output_type": "stream",
     "text": [
      "[1, 2, 3]\n",
      "[1, 2]\n",
      "[4, 5, 6]\n"
     ]
    }
   ],
   "source": [
    "#인덱스를 콤마로 구분 하는 경우\n",
    "print(my_list[0])\n",
    "print(my_list[0][0:2])\n",
    "print(my_list[1])"
   ]
  },
  {
   "attachments": {},
   "cell_type": "markdown",
   "metadata": {},
   "source": [
    "2. 일반 문자열 for문 이용해 값 출력"
   ]
  },
  {
   "cell_type": "code",
   "execution_count": 14,
   "metadata": {},
   "outputs": [
    {
     "name": "stdout",
     "output_type": "stream",
     "text": [
      "일 1\n",
      "반 1\n",
      "  1\n",
      "문 1\n",
      "자 1\n",
      "열 1\n",
      "  1\n",
      "f 1\n",
      "o 1\n",
      "r 1\n",
      "문 1\n",
      "  1\n",
      "이 1\n",
      "용 1\n",
      "해 1\n",
      "서 1\n",
      "  1\n",
      "값 1\n",
      "  1\n",
      "출 1\n",
      "력 1\n"
     ]
    }
   ],
   "source": [
    "my_list = '일반 문자열 for문 이용해서 값 출력' # 문자열에도 인덱스가 있음 -> 공백까지 쳐서 인덱스 계산 \n",
    "\n",
    "for w in my_list : \n",
    "    print(w, len(w))"
   ]
  },
  {
   "attachments": {},
   "cell_type": "markdown",
   "metadata": {},
   "source": [
    "3. for문 이용해 값 출력 : 영문자 출력 연습 \\\n",
    "영소문자로 이루어진 글자 중에서 각 문자의 빈도"
   ]
  },
  {
   "cell_type": "code",
   "execution_count": 18,
   "metadata": {},
   "outputs": [
    {
     "name": "stdout",
     "output_type": "stream",
     "text": [
      "[0, 0, 0, 0, 0, 0, 0, 0, 0, 0, 0, 0, 0, 0, 0, 0, 0, 0, 0, 0, 0, 0, 0, 0, 0, 0]\n",
      "[1, 1, 1, 0, 0, 0, 0, 0, 0, 0, 0, 0, 0, 0, 0, 0, 0, 0, 0, 0, 0, 0, 0, 0, 0, 6]\n"
     ]
    }
   ],
   "source": [
    "word = 'abczzzzzz'\n",
    "res = [0]*26 # 알파벳 개수\n",
    "\n",
    "print(res, end='\\n') # 초기화상태\n",
    "\n",
    "for c in word : # 각 알파벳 마다 등장횟수를 알려주는 반복문 \n",
    "    # ord(c) 함수는 문자 c의 유니코드 값을 반환 -> a'의 유니코드 값은 97\n",
    "    # ord(c) - ord('a')는 문자 c가 알파벳 소문자일 경우 0부터 25 사이의 값 - 97\n",
    "    res[ord(c) - ord('a')] += 1 # word에 있는 알파벳에 해당하는 인덱스에 알파벳 개수만큼 1이 더해짐\n",
    "print(res)"
   ]
  },
  {
   "cell_type": "code",
   "execution_count": 22,
   "metadata": {},
   "outputs": [
    {
     "data": {
      "text/plain": [
       "25"
      ]
     },
     "execution_count": 22,
     "metadata": {},
     "output_type": "execute_result"
    }
   ],
   "source": [
    "ord('z') - ord('a')"
   ]
  },
  {
   "cell_type": "code",
   "execution_count": 25,
   "metadata": {},
   "outputs": [
    {
     "data": {
      "image/png": "[encoded data removed]",
      "text/plain": [
       "<Figure size 640x480 with 1 Axes>"
      ]
     },
     "metadata": {},
     "output_type": "display_data"
    }
   ],
   "source": [
    "plt.plot(res)\n",
    "plt.show()"
   ]
  },
  {
   "attachments": {},
   "cell_type": "markdown",
   "metadata": {},
   "source": [
    "4. for문 이용해 값과 개체를 출력할 수 있는 구문 시각화"
   ]
  },
  {
   "cell_type": "code",
   "execution_count": 24,
   "metadata": {},
   "outputs": [
    {
     "data": {
      "image/png": "[encoded data removed]",
      "text/plain": [
       "<Figure size 640x480 with 1 Axes>"
      ]
     },
     "metadata": {},
     "output_type": "display_data"
    }
   ],
   "source": [
    "left = list(range(26)) # 0 ~ 25\n",
    "labels = [chr(i + ord('a')) for  i in range(26)]\n",
    "plt.bar(left, res, tick_label = labels)\n",
    "plt.show()"
   ]
  },
  {
   "attachments": {},
   "cell_type": "markdown",
   "metadata": {},
   "source": [
    "## 2"
   ]
  },
  {
   "attachments": {},
   "cell_type": "markdown",
   "metadata": {},
   "source": [
    "1. for 중첩 연습 \\\n",
    "4행, 3열 = 4x3 / 행 outer_for 열 inner_for \\\n",
    "i, j, k, l, m, n -> for 변수"
   ]
  },
  {
   "cell_type": "code",
   "execution_count": 26,
   "metadata": {},
   "outputs": [],
   "source": [
    "my_list = [\n",
    "    ['a', 'b', 'c'],\n",
    "    ['d', 'f', 'c'],\n",
    "    ['g', 'h', 'f'],\n",
    "    ['j', 'k', 'l']\n",
    "]"
   ]
  },
  {
   "cell_type": "code",
   "execution_count": 31,
   "metadata": {},
   "outputs": [
    {
     "name": "stdout",
     "output_type": "stream",
     "text": [
      "my_list 1 번째 행의 1 번째 요소 =  a\n",
      "my_list 1 번째 행의 2 번째 요소 =  b\n",
      "my_list 1 번째 행의 3 번째 요소 =  c\n",
      "my_list 2 번째 행의 1 번째 요소 =  d\n",
      "my_list 2 번째 행의 2 번째 요소 =  f\n",
      "my_list 2 번째 행의 3 번째 요소 =  c\n",
      "my_list 3 번째 행의 1 번째 요소 =  g\n",
      "my_list 3 번째 행의 2 번째 요소 =  h\n",
      "my_list 3 번째 행의 3 번째 요소 =  f\n",
      "my_list 4 번째 행의 1 번째 요소 =  j\n",
      "my_list 4 번째 행의 2 번째 요소 =  k\n",
      "my_list 4 번째 행의 3 번째 요소 =  l\n"
     ]
    }
   ],
   "source": [
    "for i in range(4) : # out_for : 행 (총 4개의 행 생성, 반복)\n",
    "    for j in range(3) : # inner_for : 열 (총 3 개의 열 생성, 반복)\n",
    "        print('my_list', i + 1, '번째 행의', j + 1, '번째 요소 = ', my_list[i][j]) \n",
    "    "
   ]
  },
  {
   "attachments": {},
   "cell_type": "markdown",
   "metadata": {},
   "source": [
    "2. for 중첩 가치고 시각화 활용"
   ]
  },
  {
   "cell_type": "code",
   "execution_count": 37,
   "metadata": {},
   "outputs": [
    {
     "data": {
      "text/plain": [
       "[[1],\n",
       " [1, 1],\n",
       " [1, 2, 1],\n",
       " [1, 2, 4, 1],\n",
       " [1, 2, 4, 8, 1],\n",
       " [1, 2, 4, 8, 16, 1],\n",
       " [1, 2, 4, 8, 16, 32, 1],\n",
       " [1, 2, 4, 8, 16, 32, 64, 1],\n",
       " [1, 2, 4, 8, 16, 32, 64, 128, 1],\n",
       " [1, 2, 4, 8, 16, 32, 64, 128, 256, 1]]"
      ]
     },
     "execution_count": 37,
     "metadata": {},
     "output_type": "execute_result"
    }
   ],
   "source": [
    "res = [[1]]\n",
    "\n",
    "for i in range(100) :\n",
    "    res.append([1] + [0] * i + [1]) # i=2일경우 [1, 0, 0, 1]\n",
    "    for j in range(i) : # 0 ~ 1\n",
    "        res[i+1][j+1] = res[i][j] + res[i][j] # 0일경우 -> res[1][1] = res[0][0] + res[0][0] -> 1+1 = 2\n",
    "\n",
    "res[:10]"
   ]
  },
  {
   "cell_type": "code",
   "execution_count": 39,
   "metadata": {},
   "outputs": [
    {
     "data": {
      "text/plain": [
       "[[1], [1]]"
      ]
     },
     "execution_count": 39,
     "metadata": {},
     "output_type": "execute_result"
    }
   ],
   "source": [
    "res_2 = [[1]]\n",
    "res_2.append([1])\n",
    "res_2"
   ]
  },
  {
   "cell_type": "code",
   "execution_count": 45,
   "metadata": {},
   "outputs": [
    {
     "data": {
      "image/png": "[encoded data removed]",
      "text/plain": [
       "<Figure size 640x480 with 1 Axes>"
      ]
     },
     "metadata": {},
     "output_type": "display_data"
    }
   ],
   "source": [
    "plt.plot(res[100])\n",
    "plt.show()"
   ]
  },
  {
   "attachments": {},
   "cell_type": "markdown",
   "metadata": {},
   "source": [
    "## 3"
   ]
  },
  {
   "attachments": {},
   "cell_type": "markdown",
   "metadata": {},
   "source": [
    "1. []구문을 함축해서 사용 -> 리스트 함축문, 리스트 내포문"
   ]
  },
  {
   "cell_type": "code",
   "execution_count": 46,
   "metadata": {},
   "outputs": [
    {
     "name": "stdout",
     "output_type": "stream",
     "text": [
      "[1, 2, 3, 4, 5, 6, 7, 8, 9, 10]\n"
     ]
    }
   ],
   "source": [
    "m = [1,2,3,4,5,6,7,8,9,10]\n",
    "print(m)"
   ]
  },
  {
   "cell_type": "code",
   "execution_count": 47,
   "metadata": {},
   "outputs": [
    {
     "name": "stdout",
     "output_type": "stream",
     "text": [
      "[2, 4, 6, 8, 10, 12, 14, 16, 18, 20]\n"
     ]
    }
   ],
   "source": [
    "m_두번 = [i*2 for i in m]\n",
    "print(m_두번)"
   ]
  },
  {
   "cell_type": "code",
   "execution_count": 48,
   "metadata": {},
   "outputs": [
    {
     "name": "stdout",
     "output_type": "stream",
     "text": [
      "[3, 6, 9, 12, 15, 18, 21, 24, 27, 30]\n"
     ]
    }
   ],
   "source": [
    "m_3 = [i*3 for i in m]\n",
    "print(m_3)"
   ]
  },
  {
   "cell_type": "code",
   "execution_count": 49,
   "metadata": {},
   "outputs": [
    {
     "name": "stdout",
     "output_type": "stream",
     "text": [
      "[2, 4, 6, 8, 10]\n"
     ]
    }
   ],
   "source": [
    "# m값 중에 짝수만 출력. 조건은 뒤에\n",
    "m_even = [i for i in m if (i%2) == 0]\n",
    "print(m_even)"
   ]
  },
  {
   "attachments": {},
   "cell_type": "markdown",
   "metadata": {},
   "source": [
    " 2. m의 값 중 이중for 구현"
   ]
  },
  {
   "cell_type": "code",
   "execution_count": 50,
   "metadata": {},
   "outputs": [
    {
     "name": "stdout",
     "output_type": "stream",
     "text": [
      "[1, 2, 3, 4, 5, 2, 4, 6, 8, 10, 3, 6, 9, 12, 15, 4, 8, 12, 16, 20, 5, 10, 15, 20, 25]\n"
     ]
    }
   ],
   "source": [
    "m_1 = [1,2,3,4,5]\n",
    "\n",
    "res_mul = [ i*j\n",
    "           for i in m_1\n",
    "               for j in m_1]\n",
    "\n",
    "print(res_mul)"
   ]
  },
  {
   "attachments": {},
   "cell_type": "markdown",
   "metadata": {},
   "source": [
    "3. 이중 for로 구구단 구현"
   ]
  },
  {
   "cell_type": "code",
   "execution_count": 51,
   "metadata": {},
   "outputs": [
    {
     "name": "stdout",
     "output_type": "stream",
     "text": [
      "[2, 4, 6, 8, 10, 12, 14, 16, 18, 20, 3, 6, 9, 12, 15, 18, 21, 24, 27, 30, 4, 8, 12, 16, 20, 24, 28, 32, 36, 40, 5, 10, 15, 20, 25, 30, 35, 40, 45, 50, 6, 12, 18, 24, 30, 36, 42, 48, 54, 60, 7, 14, 21, 28, 35, 42, 49, 56, 63, 70, 8, 16, 24, 32, 40, 48, 56, 64, 72, 80, 9, 18, 27, 36, 45, 54, 63, 72, 81, 90]\n"
     ]
    }
   ],
   "source": [
    "res_gugu = [ i*j \n",
    "            for i in range(2,10)\n",
    "                for j in range(1, 11)]\n",
    "\n",
    "print(res_gugu)"
   ]
  },
  {
   "attachments": {},
   "cell_type": "markdown",
   "metadata": {},
   "source": [
    "# While 구문"
   ]
  },
  {
   "cell_type": "code",
   "execution_count": 52,
   "metadata": {},
   "outputs": [
    {
     "name": "stdout",
     "output_type": "stream",
     "text": [
      "2 1\n",
      "3 3\n",
      "4 6\n",
      "5 10\n",
      "6 15\n",
      "7 21\n",
      "8 28\n",
      "9 36\n",
      "10 45\n",
      "11 55\n"
     ]
    }
   ],
   "source": [
    "x = 1\n",
    "sum = 0 #합을 구하는 변수\n",
    "\n",
    "while x <= 10 :\n",
    "    sum += x # 데이터 누적 \n",
    "    x += 1\n",
    "    print(x, sum)"
   ]
  },
  {
   "cell_type": "code",
   "execution_count": 53,
   "metadata": {},
   "outputs": [
    {
     "name": "stdout",
     "output_type": "stream",
     "text": [
      "1 번째 반복\n",
      "합산한 값은 0 입니다. \n",
      "\n",
      "2 번째 반복\n",
      "합산한 값은 1 입니다. \n",
      "\n",
      "3 번째 반복\n",
      "합산한 값은 2 입니다. \n",
      "\n",
      "4 번째 반복\n",
      "합산한 값은 3 입니다. \n",
      "\n",
      "5 번째 반복\n",
      "합산한 값은 4 입니다. \n",
      "\n",
      "6 번째 반복\n",
      "합산한 값은 5 입니다. \n",
      "\n",
      "7 번째 반복\n",
      "합산한 값은 6 입니다. \n",
      "\n",
      "8 번째 반복\n",
      "합산한 값은 7 입니다. \n",
      "\n",
      "9 번째 반복\n",
      "합산한 값은 8 입니다. \n",
      "\n",
      "10 번째 반복\n",
      "합산한 값은 9 입니다. \n",
      "\n"
     ]
    }
   ],
   "source": [
    "i = 1 \n",
    "j = 0\n",
    "\n",
    "while True :\n",
    "    if  i > 10 :\n",
    "        break # 파이썬에서 반복문을 중단시킬 때는 break를 사용 -> i가 11이 되면 반복문이 중단됨\n",
    "    else :\n",
    "        print(i, '번째 반복')\n",
    "        print('합산한 값은', j, '입니다. \\n')\n",
    "        i = i + 1\n",
    "        j = j + 1 "
   ]
  },
  {
   "attachments": {},
   "cell_type": "markdown",
   "metadata": {},
   "source": [
    "# 3. 함수에서 print문과 return 차이"
   ]
  },
  {
   "cell_type": "code",
   "execution_count": 58,
   "metadata": {},
   "outputs": [
    {
     "name": "stdout",
     "output_type": "stream",
     "text": [
      "테스트\n",
      "테스트2\n",
      "None\n"
     ]
    }
   ],
   "source": [
    "def getA() :\n",
    "    return '테스트'\n",
    "\n",
    "def getB() :\n",
    "    print('테스트2')\n",
    "\n",
    "# getA()\n",
    "# getB()\n",
    "\n",
    "print(getA())\n",
    "print(getB())"
   ]
  },
  {
   "cell_type": "code",
   "execution_count": 59,
   "metadata": {},
   "outputs": [
    {
     "name": "stdout",
     "output_type": "stream",
     "text": [
      "테스트2\n",
      "테스트\n",
      "None\n"
     ]
    }
   ],
   "source": [
    "res1 = getA()\n",
    "res2 = getB()\n",
    "\n",
    "print(res1)\n",
    "print(res2)"
   ]
  },
  {
   "cell_type": "code",
   "execution_count": 64,
   "metadata": {},
   "outputs": [
    {
     "data": {
      "text/plain": [
       "'테스트'"
      ]
     },
     "execution_count": 64,
     "metadata": {},
     "output_type": "execute_result"
    }
   ],
   "source": [
    "res1"
   ]
  },
  {
   "cell_type": "code",
   "execution_count": 66,
   "metadata": {},
   "outputs": [],
   "source": [
    "res2 # 아무것도 반환되지 않음 = None --> 함수의 반환값(return)이 없기 때문\n",
    "\n",
    "# getA()는 값을 반환하여 다른 처리에 활용할 수 있음\n",
    "# getB()는 결과를 화면에 출력하는 역할을 수행"
   ]
  },
  {
   "cell_type": "code",
   "execution_count": 75,
   "metadata": {},
   "outputs": [
    {
     "name": "stdout",
     "output_type": "stream",
     "text": [
      "2\n"
     ]
    }
   ],
   "source": [
    "def getC() :\n",
    "    return 1\n",
    "\n",
    "def getD() :\n",
    "    print(2)\n",
    "    \n",
    "res3 = getC()\n",
    "res4 = getD()\n"
   ]
  },
  {
   "cell_type": "code",
   "execution_count": 79,
   "metadata": {},
   "outputs": [
    {
     "name": "stdout",
     "output_type": "stream",
     "text": [
      "2\n"
     ]
    }
   ],
   "source": [
    "print(res3 + 1)\n",
    "# print(res4 + 1)\n",
    "res4\n"
   ]
  },
  {
   "cell_type": "code",
   "execution_count": 85,
   "metadata": {},
   "outputs": [
    {
     "name": "stdout",
     "output_type": "stream",
     "text": [
      "곱셈 결과: 12\n"
     ]
    },
    {
     "data": {
      "text/plain": [
       "12"
      ]
     },
     "execution_count": 85,
     "metadata": {},
     "output_type": "execute_result"
    }
   ],
   "source": [
    "def multiply(a, b):\n",
    "    result = a * b\n",
    "    print(\"곱셈 결과:\", result)\n",
    "    return result # a * b\n",
    "\n",
    "product = multiply(3, 4) # return값인 12가 할당됐고 여기서는 print문만 출력됨(\"곱셈 결과:\", result) ---> 어떤 값이 할당 되는지 알 수 있음\n",
    "# print(product)\n",
    "product # product에 반환값이 할당 됐기 때문에 product를 통해 return값을 활용할 수 있음 \n"
   ]
  },
  {
   "cell_type": "code",
   "execution_count": 86,
   "metadata": {},
   "outputs": [
    {
     "name": "stdout",
     "output_type": "stream",
     "text": [
      "곱셈 결과: 12\n"
     ]
    },
    {
     "data": {
      "text/plain": [
       "12"
      ]
     },
     "execution_count": 86,
     "metadata": {},
     "output_type": "execute_result"
    }
   ],
   "source": [
    "multiply(3,4)"
   ]
  },
  {
   "cell_type": "code",
   "execution_count": null,
   "metadata": {},
   "outputs": [],
   "source": []
  }
 ],
 "metadata": {
  "kernelspec": {
   "display_name": "base",
   "language": "python",
   "name": "python3"
  },
  "language_info": {
   "codemirror_mode": {
    "name": "ipython",
    "version": 3
   },
   "file_extension": ".py",
   "mimetype": "text/x-python",
   "name": "python",
   "nbconvert_exporter": "python",
   "pygments_lexer": "ipython3",
   "version": "3.9.13"
  },
  "orig_nbformat": 4
 },
 "nbformat": 4,
 "nbformat_minor": 2
}
