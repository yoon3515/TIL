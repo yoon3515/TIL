{
 "cells": [
  {
   "attachments": {},
   "cell_type": "markdown",
   "metadata": {},
   "source": [
    "# For문 연습"
   ]
  },
  {
   "attachments": {},
   "cell_type": "markdown",
   "metadata": {},
   "source": [
    "## 1"
   ]
  },
  {
   "attachments": {},
   "cell_type": "markdown",
   "metadata": {},
   "source": [
    "<리스트 객체의 인덱스값 리턴 / ord(), chr() 시각화>"
   ]
  },
  {
   "cell_type": "code",
   "execution_count": 1,
   "metadata": {},
   "outputs": [],
   "source": [
    "import matplotlib.pyplot as plt"
   ]
  },
  {
   "cell_type": "code",
   "execution_count": 2,
   "metadata": {},
   "outputs": [
    {
     "name": "stdout",
     "output_type": "stream",
     "text": [
      "멍멍이 3\n",
      "야옹이 3\n",
      "꽥꽥이 3\n"
     ]
    }
   ],
   "source": [
    "my_list = ['멍멍이', '야옹이', '꽥꽥이']\n",
    "\n",
    "for w in my_list :\n",
    "    print(w, len(w)) # len(w)는 글자 수를 세어줌 "
   ]
  },
  {
   "cell_type": "code",
   "execution_count": 3,
   "metadata": {},
   "outputs": [
    {
     "name": "stdout",
     "output_type": "stream",
     "text": [
      "멍멍이\n"
     ]
    }
   ],
   "source": [
    "print(my_list[0])"
   ]
  },
  {
   "cell_type": "code",
   "execution_count": 4,
   "metadata": {},
   "outputs": [
    {
     "name": "stdout",
     "output_type": "stream",
     "text": [
      "멍\n"
     ]
    }
   ],
   "source": [
    "print(my_list[0][0])"
   ]
  },
  {
   "cell_type": "code",
   "execution_count": 5,
   "metadata": {},
   "outputs": [
    {
     "name": "stdout",
     "output_type": "stream",
     "text": [
      "야옹\n"
     ]
    }
   ],
   "source": [
    "print(my_list[1][0:2]) # 0번부터 1번까지 "
   ]
  },
  {
   "attachments": {},
   "cell_type": "markdown",
   "metadata": {},
   "source": [
    "1-1. 일반for문을 이용해 값 출력"
   ]
  },
  {
   "cell_type": "code",
   "execution_count": 6,
   "metadata": {},
   "outputs": [],
   "source": [
    "my_list = [\n",
    "    [1,2,3],\n",
    "    [4,5,6],\n",
    "    [7,8,9]]"
   ]
  },
  {
   "cell_type": "code",
   "execution_count": 13,
   "metadata": {},
   "outputs": [
    {
     "name": "stdout",
     "output_type": "stream",
     "text": [
      "[1, 2, 3] 3\n",
      "[1, 2, 3]\n",
      "[4, 5, 6] 3\n",
      "[4, 5, 6]\n",
      "[7, 8, 9] 3\n",
      "[7, 8, 9]\n"
     ]
    }
   ],
   "source": [
    "for w in my_list :\n",
    "    print(w, len(w))\n",
    "    print(w)"
   ]
  },
  {
   "cell_type": "code",
   "execution_count": 12,
   "metadata": {},
   "outputs": [
    {
     "name": "stdout",
     "output_type": "stream",
     "text": [
      "[1, 2, 3]\n",
      "[1, 2]\n",
      "[4, 5, 6]\n"
     ]
    }
   ],
   "source": [
    "#인덱스를 콤마로 구분 하는 경우\n",
    "print(my_list[0])\n",
    "print(my_list[0][0:2])\n",
    "print(my_list[1])"
   ]
  },
  {
   "attachments": {},
   "cell_type": "markdown",
   "metadata": {},
   "source": [
    "2. 일반 문자열 for문 이용해 값 출력"
   ]
  },
  {
   "cell_type": "code",
   "execution_count": 14,
   "metadata": {},
   "outputs": [
    {
     "name": "stdout",
     "output_type": "stream",
     "text": [
      "일 1\n",
      "반 1\n",
      "  1\n",
      "문 1\n",
      "자 1\n",
      "열 1\n",
      "  1\n",
      "f 1\n",
      "o 1\n",
      "r 1\n",
      "문 1\n",
      "  1\n",
      "이 1\n",
      "용 1\n",
      "해 1\n",
      "서 1\n",
      "  1\n",
      "값 1\n",
      "  1\n",
      "출 1\n",
      "력 1\n"
     ]
    }
   ],
   "source": [
    "my_list = '일반 문자열 for문 이용해서 값 출력' # 문자열에도 인덱스가 있음 -> 공백까지 쳐서 인덱스 계산 \n",
    "\n",
    "for w in my_list : \n",
    "    print(w, len(w))"
   ]
  },
  {
   "attachments": {},
   "cell_type": "markdown",
   "metadata": {},
   "source": [
    "3. for문 이용해 값 출력 : 영문자 출력 연습 \\\n",
    "영소문자로 이루어진 글자 중에서 각 문자의 빈도"
   ]
  },
  {
   "cell_type": "code",
   "execution_count": 18,
   "metadata": {},
   "outputs": [
    {
     "name": "stdout",
     "output_type": "stream",
     "text": [
      "[0, 0, 0, 0, 0, 0, 0, 0, 0, 0, 0, 0, 0, 0, 0, 0, 0, 0, 0, 0, 0, 0, 0, 0, 0, 0]\n",
      "[1, 1, 1, 0, 0, 0, 0, 0, 0, 0, 0, 0, 0, 0, 0, 0, 0, 0, 0, 0, 0, 0, 0, 0, 0, 6]\n"
     ]
    }
   ],
   "source": [
    "word = 'abczzzzzz'\n",
    "res = [0]*26 # 알파벳 개수\n",
    "\n",
    "print(res, end='\\n') # 초기화상태\n",
    "\n",
    "for c in word : # 각 알파벳 마다 등장횟수를 알려주는 반복문 \n",
    "    # ord(c) 함수는 문자 c의 유니코드 값을 반환 -> a'의 유니코드 값은 97\n",
    "    # ord(c) - ord('a')는 문자 c가 알파벳 소문자일 경우 0부터 25 사이의 값 - 97\n",
    "    res[ord(c) - ord('a')] += 1 # word에 있는 알파벳에 해당하는 인덱스에 알파벳 개수만큼 1이 더해짐\n",
    "print(res)"
   ]
  },
  {
   "cell_type": "code",
   "execution_count": 22,
   "metadata": {},
   "outputs": [
    {
     "data": {
      "text/plain": [
       "25"
      ]
     },
     "execution_count": 22,
     "metadata": {},
     "output_type": "execute_result"
    }
   ],
   "source": [
    "ord('z') - ord('a')"
   ]
  },
  {
   "cell_type": "code",
   "execution_count": 25,
   "metadata": {},
   "outputs": [
    {
     "data": {
      "image/png": "[encoded data removed]",
      "text/plain": [
       "<Figure size 640x480 with 1 Axes>"
      ]
     },
     "metadata": {},
     "output_type": "display_data"
    }
   ],
   "source": [
    "plt.plot(res)\n",
    "plt.show()"
   ]
  },
  {
   "attachments": {},
   "cell_type": "markdown",
   "metadata": {},
   "source": [
    "4. for문 이용해 값과 개체를 출력할 수 있는 구문 시각화"
   ]
  },
  {
   "cell_type": "code",
   "execution_count": 24,
   "metadata": {},
   "outputs": [
    {
     "data": {
      "image/png": "[encoded data removed]",
      "text/plain": [
       "<Figure size 640x480 with 1 Axes>"
      ]
     },
     "metadata": {},
     "output_type": "display_data"
    }
   ],
   "source": [
    "left = list(range(26)) # 0 ~ 25\n",
    "labels = [chr(i + ord('a')) for  i in range(26)]\n",
    "plt.bar(left, res, tick_label = labels)\n",
    "plt.show()"
   ]
  },
  {
   "attachments": {},
   "cell_type": "markdown",
   "metadata": {},
   "source": [
    "## 2"
   ]
  },
  {
   "attachments": {},
   "cell_type": "markdown",
   "metadata": {},
   "source": [
    "1. for 중첩 연습 \\\n",
    "4행, 3열 = 4x3 / 행 outer_for 열 inner_for \\\n",
    "i, j, k, l, m, n -> for 변수"
   ]
  },
  {
   "cell_type": "code",
   "execution_count": 26,
   "metadata": {},
   "outputs": [],
   "source": [
    "my_list = [\n",
    "    ['a', 'b', 'c'],\n",
    "    ['d', 'f', 'c'],\n",
    "    ['g', 'h', 'f'],\n",
    "    ['j', 'k', 'l']\n",
    "]"
   ]
  },
  {
   "cell_type": "code",
   "execution_count": 31,
   "metadata": {},
   "outputs": [
    {
     "name": "stdout",
     "output_type": "stream",
     "text": [
      "my_list 1 번째 행의 1 번째 요소 =  a\n",
      "my_list 1 번째 행의 2 번째 요소 =  b\n",
      "my_list 1 번째 행의 3 번째 요소 =  c\n",
      "my_list 2 번째 행의 1 번째 요소 =  d\n",
      "my_list 2 번째 행의 2 번째 요소 =  f\n",
      "my_list 2 번째 행의 3 번째 요소 =  c\n",
      "my_list 3 번째 행의 1 번째 요소 =  g\n",
      "my_list 3 번째 행의 2 번째 요소 =  h\n",
      "my_list 3 번째 행의 3 번째 요소 =  f\n",
      "my_list 4 번째 행의 1 번째 요소 =  j\n",
      "my_list 4 번째 행의 2 번째 요소 =  k\n",
      "my_list 4 번째 행의 3 번째 요소 =  l\n"
     ]
    }
   ],
   "source": [
    "for i in range(4) : # out_for : 행 (총 4개의 행 생성, 반복)\n",
    "    for j in range(3) : # inner_for : 열 (총 3 개의 열 생성, 반복)\n",
    "        print('my_list', i + 1, '번째 행의', j + 1, '번째 요소 = ', my_list[i][j]) \n",
    "    "
   ]
  },
  {
   "cell_type": "code",
   "execution_count": null,
   "metadata": {},
   "outputs": [],
   "source": []
  }
 ],
 "metadata": {
  "kernelspec": {
   "display_name": "base",
   "language": "python",
   "name": "python3"
  },
  "language_info": {
   "codemirror_mode": {
    "name": "ipython",
    "version": 3
   },
   "file_extension": ".py",
   "mimetype": "text/x-python",
   "name": "python",
   "nbconvert_exporter": "python",
   "pygments_lexer": "ipython3",
   "version": "3.9.13"
  },
  "orig_nbformat": 4
 },
 "nbformat": 4,
 "nbformat_minor": 2
}
