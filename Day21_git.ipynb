{
 "cells": [
  {
   "attachments": {},
   "cell_type": "markdown",
   "metadata": {},
   "source": [
    "# Project1. 유투브 랭킹 \n",
    "- Chrome Driver 쓰기 "
   ]
  },
  {
   "cell_type": "code",
   "execution_count": 14,
   "metadata": {},
   "outputs": [
    {
     "name": "stderr",
     "output_type": "stream",
     "text": [
      "C:\\Users\\holly\\AppData\\Local\\Temp\\ipykernel_15840\\610956746.py:9: DeprecationWarning: executable_path has been deprecated, please pass in a Service object\n",
      "  driver = webdriver.Chrome('c:/my_web/chromedriver/chromedriver.exc')\n"
     ]
    }
   ],
   "source": [
    "import threading\n",
    "from selenium import webdriver\n",
    "from selenium.webdriver.common.by import By \n",
    "from bs4 import BeautifulSoup as bs\n",
    "import pandas as pd \n",
    "\n",
    "\n",
    "# 드라이버 실행\n",
    "driver = webdriver.Chrome('c:/my_web/chromedriver/chromedriver.exc')"
   ]
  },
  {
   "cell_type": "code",
   "execution_count": 15,
   "metadata": {},
   "outputs": [],
   "source": [
    "# response\n",
    "\n",
    "driver.get('https://youtube-rank.com/board/bbs/board.php?bo_table=youtube')\n",
    "html = driver.page_source\n",
    "soup = bs(html, 'html.parser')"
   ]
  },
  {
   "cell_type": "code",
   "execution_count": 28,
   "metadata": {},
   "outputs": [
    {
     "name": "stdout",
     "output_type": "stream",
     "text": [
      "101\n",
      "15\n",
      "100\n",
      "15\n",
      "<class 'bs4.element.ResultSet'>\n",
      "<class 'bs4.element.ResultSet'>\n",
      "<class 'bs4.element.Tag'>\n"
     ]
    },
    {
     "data": {
      "text/plain": [
       "<tr class=\"aos-init aos-animate\" data-aos=\"fade-up\" data-aos-duration=\"800\">\n",
       "<td class=\"rank\">\n",
       "                        1                    </td>\n",
       "<td class=\"td_img\">\n",
       "<div class=\"info_img\"><a href=\"https://youtube-rank.com/board/bbs/board.php?bo_table=youtube&amp;wr_id=3203\"><img class=\"lazyload\" data-src=\"https://yt3.ggpht.com/hZDUwjoeQqigphL4A1tkg9c6hVp5yXmbboBR7PYFUSFj5PIJSA483NB5v7b0XVoTN9GCku3tqQ=s88-c-k-c0x00ffffff-no-nd-rj\" height=\"88\" src=\"https://yt3.ggpht.com/hZDUwjoeQqigphL4A1tkg9c6hVp5yXmbboBR7PYFUSFj5PIJSA483NB5v7b0XVoTN9GCku3tqQ=s88-c-k-c0x00ffffff-no-nd-rj\" width=\"88\"/></a></div>\n",
       "<p class=\"info_rank\">1</p>\n",
       "</td>\n",
       "<td class=\"subject\">\n",
       "<h1>\n",
       "<p <a=\"\" class=\"category\" href=\"https://youtube-rank.com/board/bbs/board.php?bo_table=youtube&amp;sca=%EC%9D%8C%EC%95%85%2F%EB%8C%84%EC%8A%A4%2F%EA%B0%80%EC%88%98\">[음악/댄스/가수]\n",
       "                                \n",
       "                                </p>\n",
       "<a href=\"https://youtube-rank.com/board/bbs/board.php?bo_table=youtube&amp;wr_id=3203\">\n",
       "\t\t\t\t\t\t\t\t\n",
       "\t\t\t\t\t\t\t\tBLACKPINK\t\t\t\t\t\t\t</a>\n",
       "<span>\n",
       "<i class=\"fa fa-comment\"></i>\n",
       "\t\t\t\t\t\t\t\t1\t\t\t\t\t\t\t</span>\n",
       "<i aria-hidden=\"true\" class=\"fa fa-heart\"></i> </h1>\n",
       "<h2><span><a href=\"https://youtube-rank.com/board/bbs/board.php?bo_table=youtube&amp;wr_id=3203\">\"YG Entertainment\" YG 와이지 K-pop BLACKPINK 블랙핑크 블핑 제니 로제 리사 지수 Lisa Jisoo Jennie ...</a></span></h2>\n",
       "<h3>\n",
       "<i class=\"fa fa-user\"></i>\n",
       "                            8400만<i class=\"fa fa-play\"></i>287억3584만                            <i class=\"fa fa-video-camera\"></i>\n",
       "                            469                            <i class=\"fa fa-eye\"></i>\n",
       "                            24,595                        </h3>\n",
       "</td>\n",
       "<td class=\"subscriber_cnt\">8400만</td>\n",
       "<td class=\"view_cnt\">287억3584만</td>\n",
       "<td class=\"video_cnt\">469개</td>\n",
       "<td class=\"hit\">\n",
       "<strong>24,595</strong>\n",
       "<span>HIT</span>\n",
       "</td>\n",
       "</tr>"
      ]
     },
     "execution_count": 28,
     "metadata": {},
     "output_type": "execute_result"
    }
   ],
   "source": [
    "# 소스 확인 \n",
    "sources_list = soup.select('table > tbody > tr')\n",
    "print(len(sources_list))\n",
    "print(len(sources_list[0]))\n",
    "\n",
    "sources_list1 = soup.select('form > table > tbody > tr')\n",
    "print(len(sources_list1))\n",
    "print(len(sources_list1[0]))\n",
    "\n",
    "print(type(sources_list))\n",
    "print(type(sources_list1)) # <class 'bs4.element.ResultSet'>\n",
    "print(type(sources_list1[0])) # <class 'bs4.element.Tag'>\n",
    "\n",
    "# select는 ResultSet객체는 쓸 수 없음 --> [0]인덱스를 객체로 만들어서 데이터를 따로 추출해야함 \n",
    "#  --> 확인 과정에서 하나의 인덱스에서 추출해보기 위함\n",
    "sources = sources_list1[0]\n",
    "\n",
    "# 데이터 확인 \n",
    "sources # 추출할 데이터 꼼꼼히 살펴보기"
   ]
  },
  {
   "cell_type": "code",
   "execution_count": 26,
   "metadata": {},
   "outputs": [
    {
     "name": "stdout",
     "output_type": "stream",
     "text": [
      "[음악/댄스/가수]\n",
      "BLACKPINK\n",
      "8400만\n",
      "287억3584만\n",
      "469개\n"
     ]
    }
   ],
   "source": [
    "# 필요한 데이터 잘 추출 되는지 확인하는 과정 \n",
    "\n",
    "# 카테고리 \n",
    "category = sources.select('p.category')[0].text.strip() #공백이 있으니 strip으로 양쪽 공백 제거해주기\n",
    "print(category) # 확인\n",
    "\n",
    "\n",
    "# 제목\n",
    "title = sources.select('h1 > a')[0].text.strip()  #공백이 있으니 strip으로 양쪽 공백 제거해주기\n",
    "print(title)\n",
    "\n",
    "\n",
    "# 구독자 \n",
    "subscriber = sources.select('td.subscriber_cnt')[0].text\n",
    "print(subscriber)\n",
    "\n",
    "\n",
    "# 조회수\n",
    "view = sources.select('td.view_cnt')[0].text\n",
    "print(view)\n",
    "\n",
    "\n",
    "# 비디오 수 \n",
    "video = sources.select('td.video_cnt')[0].text \n",
    "print(video)\n"
   ]
  },
  {
   "cell_type": "code",
   "execution_count": 30,
   "metadata": {},
   "outputs": [
    {
     "name": "stdout",
     "output_type": "stream",
     "text": [
      "101\n",
      "<class 'bs4.element.ResultSet'>\n",
      "[음악/댄스/가수] BLACKPINK 8400만 287억3584만 469개\n",
      "[음악/댄스/가수] BANGTANTV 7320만 192억5509만 2,090개\n",
      "[음악/댄스/가수] HYBE LABELS 6960만 259억5935만 1,070개\n",
      "[음악/댄스/가수] SMTOWN 3140만 262억7333만 4,061개\n",
      "[키즈/어린이] Boram Tube Vlog [보람튜브 브이로그] 2650만 110억5288만 223개\n",
      "[음악/댄스/가수] JYP Entertainment 2630만 185억1285만 1,599개\n",
      "[음악/댄스/가수] 1MILLION Dance Studio 2580만 76억4078만 4,879개\n",
      "[음악/댄스/가수] 1theK (원더케이) 2440만 232억6780만 17,737개\n",
      "[음악/댄스/가수] Mnet K-POP 2010만 139억2668만 30,624개\n",
      "[TV/방송] KBS WORLD TV 1860만 145억0822만 61,231개\n",
      "[음악/댄스/가수] officialpsy 1780만 102억8080만 123개\n",
      "[음악/댄스/가수] JFlaMusic 1760만 37억4045만 314개\n",
      "[음식/요리/레시피] Jane ASMR 제인 1730만 69억2838만 1,720개\n",
      "[음악/댄스/가수] TWICE 1530만 43억9242만 984개\n",
      "[음악/댄스/가수] BIGBANG 1490만 75억8340만 776개\n",
      "[음식/요리/레시피] Hongyu ASMR 홍유 1450만 47억3391만 585개\n",
      "[키즈/어린이] Boram Tube ToysReview [보람튜브 토이리뷰] 1450만 49억7122만 592개\n",
      "[키즈/어린이] BIBO와 장난감 1280만 30억8661만 171개\n",
      "[음악/댄스/가수] Stray Kids 1160만 26억0033만 710개\n",
      "[키즈/어린이] 핑크퐁 (인기 동요・동화) 1110만 68억8407만 2,938개\n",
      "[음식/요리/레시피] [햄지]Hamzy 1090만 35억9280만 518개\n",
      "[키즈/어린이] 서은일상이야기 1090만 25억8423만 696개\n",
      "[키즈/어린이] Toymong tv 토이몽TV 1080만 43억9624만 1,648개\n",
      "[키즈/어린이] DuDuPopTOY 1080만 50억0731만 2,396개\n",
      "[음악/댄스/가수] Stone Music Entertainment 1060만 92억1721만 9,685개\n",
      "[TV/방송] MBCkpop 1020만 86억1793만 44,750개\n",
      "[음악/댄스/가수] TOMORROW X TOGETHER OFFICIAL 1010만 10억6483만 1,298개\n",
      "[키즈/어린이] Larva TUBA 991만 44억3564만 2,071개\n",
      "[키즈/어린이] 서은이야기[SeoeunStory] 942만 30억1157만 1,200개\n",
      "[음식/요리/레시피] 쏘영 Ssoyoung 932만 13억1619만 720개\n",
      "[음악/댄스/가수] EXO 904만 7억3276만 329개\n",
      "[음악/댄스/가수] Mnet TV 903만 113억7458만 21,594개\n",
      "[키즈/어린이] Boram Tube [宝蓝和朋友们] 901만 24억1889만 471개\n",
      "[뉴스/정치/사회] MBCentertainment 892만 166억1003만 95,340개\n",
      "[음악/댄스/가수] SEVENTEEN 885만 35억3504만 1,335개\n",
      "[TV/방송] M2 883만 74억5571만 17,777개\n",
      "[음악/댄스/가수] iKON 876만 24억3422만 578개\n",
      "[음식/요리/레시피] 문복희 Eat with Boki 862만 23억0617만 659개\n",
      "[해외] Serie A 860만 32억0246만 24,411개\n",
      "[음악/댄스/가수] 이지금 [IU Official] 833만 19억0059만 163개\n",
      "[음악/댄스/가수] ITZY 800만 19억4411만 981개\n",
      "[키즈/어린이] MariAndKids 767만 22억7494만 696개\n",
      "[음식/요리/레시피] tzuyang쯔양 762만 16억7648만 478개\n",
      "[뉴스/정치/사회] JTBC Entertainment 755만 114억2120만 76,286개\n",
      "[TV/방송] KBS Kpop 746만 64억9663만 36,446개\n",
      "[키즈/어린이] SonicToy소닉토이 732만 31억3047만 168개\n",
      "[음식/요리/레시피] 야미보이 Yummyboy 731만 29억5820만 1,022개\n",
      "[음악/댄스/가수] YG ENTERTAINMENT 719만 18억1349만 405개\n",
      "[음악/댄스/가수] ENHYPEN 716만 10억8425만 725개\n",
      "[TV/방송] 스브스케이팝 X INKIGAYO 714만 55억2399만 31,833개\n",
      "[음악/댄스/가수] Sungha Jung 703만 19억6576만 1,367개\n",
      "[미분류] GH'S 698만 36억1155만 278개\n",
      "[음악/댄스/가수] MAMAMOO 691만 22억7092만 819개\n",
      "[키즈/어린이] 미니특공대TV 680만 38억0246만 1,402개\n",
      "[음악/댄스/가수] ALL THE K-POP 678만 44억3509만 25,505개\n",
      "[회사/오피셜] YouTube Originals 674만 6억6953만 491개\n",
      "[TV/방송] SBS Entertainment 672만 84억6995만 224,778개\n",
      "[음악/댄스/가수] TREASURE (트레저) 671만 18억2237만 659개\n",
      "[키즈/어린이] [장난감티비]TOYTV 657만 29억1932만 1,629개\n",
      "[TV/방송] tvN drama 654만 73억4729만 48,327개\n",
      "[TV/방송] SBS Drama 650만 70억9341만 344,709개\n",
      "[음악/댄스/가수] GOT7 629만 8억8103만 579개\n",
      "[회사/오피셜] Samsung 628만 14억3607만 1,675개\n",
      "[패션/미용] PONY Syndrome 594만 3억6405만 237개\n",
      "[키즈/어린이] With Kids Playground [위드키즈 놀이터] 593만 21억8559만 438개\n",
      "[음식/요리/레시피] 5 분 Tricks 578만 22억5047만 4,239개\n",
      "[키즈/어린이] PinkyPopTOY 576만 9억8664만 1,576개\n",
      "[음악/댄스/가수] starshipTV 571만 37억2185만 2,104개\n",
      "[음식/요리/레시피] 백종원 PAIK JONG WON 568만 8억1651만 489개\n",
      "[음악/댄스/가수] NCT 566만 7억6879만 464개\n",
      "[음악/댄스/가수] NCT DREAM 563만 10억1074만 502개\n",
      "[키즈/어린이] 스위트티비 SweetTV 561만 28억4139만 437개\n",
      "[음악/댄스/가수] 2NE1 557만 21억9732만 321개\n",
      "[BJ/인물/연예인] 영국남자 Korean Englishman 553만 18억9569만 502개\n",
      "[키즈/어린이] 미니팡TV 547만 35억8582만 876개\n",
      "[미분류] MayTree 545만 11억4032만 215개\n",
      "[음악/댄스/가수] Rosesarerosie 544만 5402만 9개\n",
      "[키즈/어린이] TOY GUMA 543만 17억8559만 380개\n",
      "[키즈/어린이] 베이비버스 -인기 동요・동화 531만 37억4075만 1,549개\n",
      "[음식/요리/레시피] 푸메Fume 528만 11억5778만 632개\n",
      "[음악/댄스/가수] Red Velvet 527만 12억0105만 267개\n",
      "[키즈/어린이] 콩순이 Kongsuni 527만 49억2066만 1,409개\n",
      "[뉴스/정치/사회] SBS NOW / SBS 공식 채널 520만 55억6250만 23,273개\n",
      "[BJ/인물/연예인] [Awesome Haeun]어썸하은 520만 8억6495만 521개\n",
      "[음악/댄스/가수] BT21 514만 4억5887만 315개\n",
      "[음악/댄스/가수] NCT 127 505만 8억2998만 485개\n",
      "[TV/방송] 채널 십오야 504만 13억0174만 721개\n",
      "[TV/방송] KBS Entertain 503만 87억7610만 113,620개\n",
      "[TV/방송] MBCdrama 490만 56억6786만 59,138개\n",
      "[음악/댄스/가수] (G)I-DLE (여자)아이들 (Official YouTube Channel) 489만 21억7216만 487개\n",
      "[키즈/어린이] ToyMart TV 487만 20억2285만 656개\n",
      "[음식/요리/레시피] 떵개떵 486만 29억2640만 4,819개\n",
      "[음악/댄스/가수] ASTRO 아스트로 485만 5억5218만 614개\n",
      "[애완/반려동물] SBS TV동물농장x애니멀봐 478만 45억4060만 3,970개\n",
      "[키즈/어린이] 뽀로로(Pororo) 472만 66억9882만 4,059개\n",
      "[TV/방송] JTBC Drama 469만 50억9888만 27,091개\n",
      "[키즈/어린이] CoCosToy 꼬꼬스토이 469만 28억8885만 662개\n",
      "[음식/요리/레시피] Cooking tree 쿠킹트리 468만 4억7116만 1,416개\n",
      "[음식/요리/레시피] 까니짱 [ G-NI : 蟹ちゃん] 466만 13억5455만 723개\n",
      "[게임] EA SPORTS FIFA 454만 8억3911만 803개\n"
     ]
    },
    {
     "ename": "IndexError",
     "evalue": "list index out of range",
     "output_type": "error",
     "traceback": [
      "\u001b[1;31m---------------------------------------------------------------------------\u001b[0m",
      "\u001b[1;31mIndexError\u001b[0m                                Traceback (most recent call last)",
      "\u001b[1;32m~\\AppData\\Local\\Temp\\ipykernel_15840\\177103949.py\u001b[0m in \u001b[0;36m<module>\u001b[1;34m\u001b[0m\n\u001b[0;32m      5\u001b[0m \u001b[1;33m\u001b[0m\u001b[0m\n\u001b[0;32m      6\u001b[0m \u001b[1;32mfor\u001b[0m \u001b[0msource\u001b[0m \u001b[1;32min\u001b[0m \u001b[0msources_list2\u001b[0m \u001b[1;33m:\u001b[0m\u001b[1;33m\u001b[0m\u001b[1;33m\u001b[0m\u001b[0m\n\u001b[1;32m----> 7\u001b[1;33m     \u001b[0mcategory\u001b[0m \u001b[1;33m=\u001b[0m \u001b[0msource\u001b[0m\u001b[1;33m.\u001b[0m\u001b[0mselect\u001b[0m\u001b[1;33m(\u001b[0m\u001b[1;34m'p.category'\u001b[0m\u001b[1;33m)\u001b[0m\u001b[1;33m[\u001b[0m\u001b[1;36m0\u001b[0m\u001b[1;33m]\u001b[0m\u001b[1;33m.\u001b[0m\u001b[0mtext\u001b[0m\u001b[1;33m.\u001b[0m\u001b[0mstrip\u001b[0m\u001b[1;33m(\u001b[0m\u001b[1;33m)\u001b[0m\u001b[1;33m\u001b[0m\u001b[1;33m\u001b[0m\u001b[0m\n\u001b[0m\u001b[0;32m      8\u001b[0m     \u001b[0mtitle\u001b[0m \u001b[1;33m=\u001b[0m \u001b[0msource\u001b[0m\u001b[1;33m.\u001b[0m\u001b[0mselect\u001b[0m\u001b[1;33m(\u001b[0m\u001b[1;34m'h1>a'\u001b[0m\u001b[1;33m)\u001b[0m\u001b[1;33m[\u001b[0m\u001b[1;36m0\u001b[0m\u001b[1;33m]\u001b[0m\u001b[1;33m.\u001b[0m\u001b[0mtext\u001b[0m\u001b[1;33m.\u001b[0m\u001b[0mstrip\u001b[0m\u001b[1;33m(\u001b[0m\u001b[1;33m)\u001b[0m\u001b[1;33m\u001b[0m\u001b[1;33m\u001b[0m\u001b[0m\n\u001b[0;32m      9\u001b[0m     \u001b[0msubscriber\u001b[0m \u001b[1;33m=\u001b[0m \u001b[0msource\u001b[0m\u001b[1;33m.\u001b[0m\u001b[0mselect\u001b[0m\u001b[1;33m(\u001b[0m\u001b[1;34m'td.subscriber_cnt'\u001b[0m\u001b[1;33m)\u001b[0m\u001b[1;33m[\u001b[0m\u001b[1;36m0\u001b[0m\u001b[1;33m]\u001b[0m\u001b[1;33m.\u001b[0m\u001b[0mtext\u001b[0m\u001b[1;33m\u001b[0m\u001b[1;33m\u001b[0m\u001b[0m\n",
      "\u001b[1;31mIndexError\u001b[0m: list index out of range"
     ]
    }
   ],
   "source": [
    "# 확인 끝냈으니 반복문 생성해서 데이터 추출 하기  \n",
    "sources_list2 = soup.select('tbody > tr') \n",
    "print(len(sources_list2))\n",
    "print(type(sources_list2)) # <class 'bs4.element.ResultSet'>\n",
    "\n",
    "for source in sources_list2 :\n",
    "    category = source.select('p.category')[0].text.strip()\n",
    "    title = source.select('h1>a')[0].text.strip()\n",
    "    subscriber = source.select('td.subscriber_cnt')[0].text\n",
    "    view = source.select('td.view_cnt')[0].text\n",
    "    video = source.select('td.video_cnt')[0].text\n",
    "    print(category, title, subscriber, view, video)\n"
   ]
  },
  {
   "cell_type": "code",
   "execution_count": 31,
   "metadata": {},
   "outputs": [
    {
     "name": "stdout",
     "output_type": "stream",
     "text": [
      "https://youtube-rank.com/board/bbs/board.php?bo_table=youtube&page=1\n"
     ]
    }
   ],
   "source": [
    "# 페이지별 URL 만들기 \n",
    "page = 1\n",
    "url = 'https://youtube-rank.com/board/bbs/board.php?bo_table=youtube&page=1'\n",
    "print(url)"
   ]
  },
  {
   "cell_type": "code",
   "execution_count": 34,
   "metadata": {},
   "outputs": [],
   "source": [
    "# 반복문으로 여러 페이지 크롤링 \n",
    "\n",
    "import time \n",
    "\n",
    "result = []\n",
    "for page in range(1,11) :\n",
    "    url = f'https://youtube-rank.com/board/bbs/board.php?bo_table=youtube&page={page}'\n",
    "    driver.get(url)\n",
    "    time.sleep(2)\n",
    "    html = driver.page_source\n",
    "    soup = bs(html, 'html.parser')\n",
    "    sources_list3 = soup.select('form > table > tbody > tr')\n",
    "    for source in sources_list3 :\n",
    "        category = source.select('p.category')[0].text.strip()\n",
    "        title = source.select('h1>a')[0].text.strip()\n",
    "        subscriber = source.select('td.subscriber_cnt')[0].text\n",
    "        view = source.select('td.view_cnt')[0].text\n",
    "        video = source.select('td.video_cnt')[0].text\n",
    "        data = [title, category, subscriber, view, video]\n",
    "        result.append(data)\n",
    "        \n",
    "df = pd.DataFrame(result)\n",
    "df.columns = ['title', 'category', 'subscriber', 'view', 'video']\n",
    "df.to_excel('c:/my_web/myexam/youtube_rank.xlsx', index = False)\n"
   ]
  },
  {
   "attachments": {},
   "cell_type": "markdown",
   "metadata": {},
   "source": [
    "## 시각화 "
   ]
  },
  {
   "cell_type": "code",
   "execution_count": 35,
   "metadata": {},
   "outputs": [],
   "source": [
    "import matplotlib.pyplot as plt "
   ]
  },
  {
   "cell_type": "code",
   "execution_count": 36,
   "metadata": {},
   "outputs": [
    {
     "data": {
      "text/html": [
       "<div>\n",
       "<style scoped>\n",
       "    .dataframe tbody tr th:only-of-type {\n",
       "        vertical-align: middle;\n",
       "    }\n",
       "\n",
       "    .dataframe tbody tr th {\n",
       "        vertical-align: top;\n",
       "    }\n",
       "\n",
       "    .dataframe thead th {\n",
       "        text-align: right;\n",
       "    }\n",
       "</style>\n",
       "<table border=\"1\" class=\"dataframe\">\n",
       "  <thead>\n",
       "    <tr style=\"text-align: right;\">\n",
       "      <th></th>\n",
       "      <th>title</th>\n",
       "      <th>category</th>\n",
       "      <th>subscriber</th>\n",
       "      <th>view</th>\n",
       "      <th>video</th>\n",
       "    </tr>\n",
       "  </thead>\n",
       "  <tbody>\n",
       "    <tr>\n",
       "      <th>0</th>\n",
       "      <td>BLACKPINK</td>\n",
       "      <td>[음악/댄스/가수]</td>\n",
       "      <td>8400만</td>\n",
       "      <td>287억3584만</td>\n",
       "      <td>469개</td>\n",
       "    </tr>\n",
       "    <tr>\n",
       "      <th>1</th>\n",
       "      <td>BANGTANTV</td>\n",
       "      <td>[음악/댄스/가수]</td>\n",
       "      <td>7320만</td>\n",
       "      <td>192억5509만</td>\n",
       "      <td>2,090개</td>\n",
       "    </tr>\n",
       "    <tr>\n",
       "      <th>2</th>\n",
       "      <td>HYBE LABELS</td>\n",
       "      <td>[음악/댄스/가수]</td>\n",
       "      <td>6960만</td>\n",
       "      <td>259억5935만</td>\n",
       "      <td>1,070개</td>\n",
       "    </tr>\n",
       "    <tr>\n",
       "      <th>3</th>\n",
       "      <td>SMTOWN</td>\n",
       "      <td>[음악/댄스/가수]</td>\n",
       "      <td>3140만</td>\n",
       "      <td>262억7333만</td>\n",
       "      <td>4,061개</td>\n",
       "    </tr>\n",
       "    <tr>\n",
       "      <th>4</th>\n",
       "      <td>Boram Tube Vlog [보람튜브 브이로그]</td>\n",
       "      <td>[키즈/어린이]</td>\n",
       "      <td>2650만</td>\n",
       "      <td>110억5288만</td>\n",
       "      <td>223개</td>\n",
       "    </tr>\n",
       "  </tbody>\n",
       "</table>\n",
       "</div>"
      ],
      "text/plain": [
       "                         title    category subscriber       view   video\n",
       "0                    BLACKPINK  [음악/댄스/가수]      8400만  287억3584만    469개\n",
       "1                    BANGTANTV  [음악/댄스/가수]      7320만  192억5509만  2,090개\n",
       "2                  HYBE LABELS  [음악/댄스/가수]      6960만  259억5935만  1,070개\n",
       "3                       SMTOWN  [음악/댄스/가수]      3140만  262억7333만  4,061개\n",
       "4  Boram Tube Vlog [보람튜브 브이로그]    [키즈/어린이]      2650만  110억5288만    223개"
      ]
     },
     "execution_count": 36,
     "metadata": {},
     "output_type": "execute_result"
    }
   ],
   "source": [
    "df = pd.read_excel('c:/my_web/myexam/youtube_rank.xlsx')\n",
    "df.head()"
   ]
  },
  {
   "cell_type": "code",
   "execution_count": 37,
   "metadata": {},
   "outputs": [
    {
     "data": {
      "text/plain": [
       "0    84000000\n",
       "1    73200000\n",
       "2    69600000\n",
       "3    31400000\n",
       "4    26500000\n",
       "5    26300000\n",
       "6    25800000\n",
       "7    24400000\n",
       "8    20100000\n",
       "9    18600000\n",
       "Name: subscriber, dtype: object"
      ]
     },
     "execution_count": 37,
     "metadata": {},
     "output_type": "execute_result"
    }
   ],
   "source": [
    "# 수치화 \n",
    "\n",
    "df['subscriber'].str.replace('만', '0000')[0:10]"
   ]
  },
  {
   "cell_type": "code",
   "execution_count": 38,
   "metadata": {},
   "outputs": [
    {
     "name": "stdout",
     "output_type": "stream",
     "text": [
      "<class 'pandas.core.frame.DataFrame'>\n",
      "RangeIndex: 1000 entries, 0 to 999\n",
      "Data columns (total 6 columns):\n",
      " #   Column               Non-Null Count  Dtype \n",
      "---  ------               --------------  ----- \n",
      " 0   title                1000 non-null   object\n",
      " 1   category             1000 non-null   object\n",
      " 2   subscriber           1000 non-null   object\n",
      " 3   view                 1000 non-null   object\n",
      " 4   video                1000 non-null   object\n",
      " 5   replaced_subscriber  1000 non-null   int32 \n",
      "dtypes: int32(1), object(5)\n",
      "memory usage: 43.1+ KB\n"
     ]
    }
   ],
   "source": [
    "df['replaced_subscriber'] = df['subscriber'].str.replace('만', '0000').astype('int') \n",
    "df.info()"
   ]
  },
  {
   "cell_type": "code",
   "execution_count": null,
   "metadata": {},
   "outputs": [],
   "source": []
  }
 ],
 "metadata": {
  "kernelspec": {
   "display_name": "base",
   "language": "python",
   "name": "python3"
  },
  "language_info": {
   "codemirror_mode": {
    "name": "ipython",
    "version": 3
   },
   "file_extension": ".py",
   "mimetype": "text/x-python",
   "name": "python",
   "nbconvert_exporter": "python",
   "pygments_lexer": "ipython3",
   "version": "3.9.13"
  },
  "orig_nbformat": 4,
  "vscode": {
   "interpreter": {
    "hash": "d7288e82646d3164eca24130947288f8779d11454649f2c02a5dfc42af7f324c"
   }
  }
 },
 "nbformat": 4,
 "nbformat_minor": 2
}
