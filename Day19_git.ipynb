{
 "cells": [
  {
   "attachments": {},
   "cell_type": "markdown",
   "metadata": {},
   "source": [
    "# Get 방식 데이터 통신(1)"
   ]
  },
  {
   "cell_type": "code",
   "execution_count": 1,
   "metadata": {},
   "outputs": [],
   "source": [
    "import urllib.request\n",
    "from urllib.parse import urlparse"
   ]
  },
  {
   "cell_type": "code",
   "execution_count": 2,
   "metadata": {},
   "outputs": [],
   "source": [
    "# 기본 요청(사이트 encar 사용)\n",
    "\n",
    "url = 'http://www.encar.com/index.do/'\n",
    "mem = urllib.request.urlopen(url)"
   ]
  },
  {
   "cell_type": "code",
   "execution_count": 4,
   "metadata": {},
   "outputs": [
    {
     "name": "stdout",
     "output_type": "stream",
     "text": [
      "type : <class 'http.client.HTTPResponse'>\n",
      "geturl : http://www.encar.com/common/error/404.htm\n",
      "status : 200\n",
      "headers : [('X-Encar-Web', 'P2'), ('Date', 'Wed, 18 Jan 2023 11:03:38 GMT'), ('Connection', 'close'), ('ETag', '\"0-1335-6372cf1a\"'), ('Last-Modified', 'Mon, 14 Nov 2022 23:28:26 GMT'), ('Accept-Ranges', 'bytes'), ('Content-Length', '4917'), ('Content-Type', 'text/html'), ('Cache-Control', 'max-age=2419200'), ('Expires', 'Wed, 15 Feb 2023 11:03:38 GMT')]\n",
      "getcode : 200\n",
      "read : \n",
      "parse : ParseResult(scheme='http', netloc='www.encar.co.kr', path='', params='', query='test=test', fragment='')\n"
     ]
    }
   ],
   "source": [
    "# 여러 정보 \n",
    "print('type : {}'.format(type(mem)))\n",
    "print('geturl : {}'.format(mem.geturl()))\n",
    "print('status : {}'.format(mem.status))\n",
    "print('headers : {}'.format(mem.getheaders()))\n",
    "print('getcode : {}'.format(mem.getcode()))\n",
    "print('read : {}'.format(mem.read(1).decode('utf-8')))\n",
    "print('parse : {}'.format(urlparse('http://www.encar.co.kr?test=test')))"
   ]
  },
  {
   "cell_type": "code",
   "execution_count": 5,
   "metadata": {},
   "outputs": [],
   "source": [
    "# 기본 정보 요청 (ipify)\n",
    "API = 'https://api.ipify.org'"
   ]
  },
  {
   "cell_type": "code",
   "execution_count": 6,
   "metadata": {},
   "outputs": [
    {
     "name": "stdout",
     "output_type": "stream",
     "text": [
      "before param : {'format': 'json'}\n",
      "after param : format=json\n"
     ]
    }
   ],
   "source": [
    "# Get 방식 parameter\n",
    "\n",
    "values = {'format' : 'json'}\n",
    "\n",
    "print('before param : {}'.format(values))\n",
    "params = urllib.parse.urlencode(values)\n",
    "print('after param : {}'.format(params))"
   ]
  },
  {
   "cell_type": "code",
   "execution_count": 7,
   "metadata": {},
   "outputs": [
    {
     "name": "stdout",
     "output_type": "stream",
     "text": [
      "요청 url = https://api.ipify.org?format=json\n"
     ]
    }
   ],
   "source": [
    "# 요청 url 생성 \n",
    "\n",
    "url = API + '?' + params\n",
    "print(\"요청 url = {}\".format(url))"
   ]
  },
  {
   "cell_type": "code",
   "execution_count": 8,
   "metadata": {},
   "outputs": [
    {
     "name": "stdout",
     "output_type": "stream",
     "text": [
      "response : {\"ip\":\"58.237.38.99\"}\n"
     ]
    }
   ],
   "source": [
    "# 수신 데이터 읽기 \n",
    "data = urllib.request.urlopen(url).read()\n",
    "\n",
    "# 수신 데이터 디코딩 \n",
    "text = data.decode('utf-8')\n",
    "print('response : {}'.format(text))"
   ]
  },
  {
   "attachments": {},
   "cell_type": "markdown",
   "metadata": {},
   "source": [
    "# Get 방식 데이터 통신(2)"
   ]
  },
  {
   "cell_type": "code",
   "execution_count": 9,
   "metadata": {},
   "outputs": [],
   "source": [
    "import urllib.request\n",
    "import urllib.parse"
   ]
  },
  {
   "cell_type": "code",
   "execution_count": 13,
   "metadata": {},
   "outputs": [],
   "source": [
    "# 행정 안전부 : https://www.mois.go.kr\n",
    "# 행정 안전부 RSS API URL\n",
    "\n",
    "API = 'http://www.mois.go.kr/gpms/view/jsp/rss/rss.jsp'"
   ]
  },
  {
   "cell_type": "code",
   "execution_count": 14,
   "metadata": {},
   "outputs": [],
   "source": [
    "params = []\n",
    "\n",
    "for num in [1001, 1012, 1013, 1014] :\n",
    "    params.append(dict(ctxCd=num))"
   ]
  },
  {
   "cell_type": "code",
   "execution_count": 17,
   "metadata": {},
   "outputs": [
    {
     "name": "stdout",
     "output_type": "stream",
     "text": [
      "c : {'ctxCd': 1001}\n",
      "url= http://www.mois.go.kr/gpms/view/jsp/rss/rss.jsp?ctxCd=1014\n",
      "<?xml version=\"1.0\" encoding=\"UTF-8\" ?>\n",
      "<rss version=\"2.0\"\n",
      "    xmlns:rdf=\"http://www.w3.org/1999/02/22-rdf-syntax-ns#\"\n",
      "    xmlns:dc=\"http://purl.org/dc/elements/1.1/\"\n",
      "    xmlns:taxo=\"http://purl.org/rss/1.0/modules/taxonomy/\"\n",
      "    xmlns:activity=\"http://activitystrea.ms/spec/1.0/\" >\n",
      "<channel>\n",
      "<title>인사이동</title>\n",
      "<link>https://www.mois.go.kr</link>\n",
      "<description></description>\n",
      "<language>ko</language>\n",
      "<pubDate>금, 22 7월 2022 09:27:03 KST</pubDate>\n",
      "    <item>\n",
      "            <title><![CDATA[정부인사발령통지]]></title>\n",
      "            <link><![CDATA[https://www.mois.go.kr/frt/bbs/type001/commonSelectBoardArticle.do?bbsId=BBSMSTR_000000000007&nttId=93441]]></link>\n",
      "            <description><![CDATA[\n",
      "                행정안전부 지방자치분권실 지방행정정책관<br /><br />                일반직고위공무원            최병관(崔炳官)<br /><br />      행정안전부 지방재정경제실장에 보함<br /><br />                2022. 7. 25.<br /><br /> <br /><br />      행정안전부 지방재정경제실 지방세정책관<br /><br />                일반직고위공무원            이우종(李雨鍾)<br /><br />      충청북도 행정부지사에 보함<br /><br />                2022. 7. 25.<br /><br /> <br /><br />      행정안전부 지방재정경제실 지방재정정책관<br /><br />                일반직고위공무원            최만림(崔萬林)<br /><br />      경상남도 행정부지사에 보함<br /><br />                2022. 7. 25.<br /><br /> <br /><br />      행정안전부 기획조정실장<br /><br />                일반직고위공무원            이용철(李庸哲)<br /><br />      행정안전부 재난안전관리본부 재난협력실장에 보함<br /><br />                2022. 7. 25.<br /><br /> <br /><br />      행정안전부 재난안전관리본부 재난협력실장<br /><br />                일반직고위공무원            이한경(李漢庚)<br /><br />      행정안전부 재난안전관리본부 재난관리실장에 보함<br /><br />                2022. 7. 25.<br /><br /> <br /><br />      경상남도 행정부지사<br /><br />                일반직고위공무원            하병필(河炳弼)<br /><br />      행정안전부 기획조정실장에 보함<br /><br />                2022. 7. 25.<br /><br /> <br /><br />                                                               대 통 령.  끝\n",
      "                    ]]></description>\n",
      "            <pubDate>금, 22 7월 2022 09:27:03 KST</pubDate>\n",
      "            <author>인사기획관</author>\n",
      "        </item>\n",
      "    <item>\n",
      "            <title><![CDATA[정부인사발령통지]]></title>\n",
      "            <link><![CDATA[https://www.mois.go.kr/frt/bbs/type001/commonSelectBoardArticle.do?bbsId=BBSMSTR_000000000007&nttId=87746]]></link>\n",
      "            <description><![CDATA[\n",
      "                정부인사발령통지입니다.\n",
      "                    ]]></description>\n",
      "            <pubDate>목, 14 10월 2021 19:15:27 KST</pubDate>\n",
      "            <author>인사기획관</author>\n",
      "        </item>\n",
      "    <item>\n",
      "            <title><![CDATA[인사발령(국장급 전보 등)]]></title>\n",
      "            <link><![CDATA[https://www.mois.go.kr/frt/bbs/type001/commonSelectBoardArticle.do?bbsId=BBSMSTR_000000000007&nttId=87666]]></link>\n",
      "            <description><![CDATA[\n",
      "                국장급 인사발령입니다.\n",
      "                    ]]></description>\n",
      "            <pubDate>금, 08 10월 2021 16:24:28 KST</pubDate>\n",
      "            <author>인사기획관</author>\n",
      "        </item>\n",
      "    <item>\n",
      "            <title><![CDATA[정부인사발령통지]]></title>\n",
      "            <link><![CDATA[https://www.mois.go.kr/frt/bbs/type001/commonSelectBoardArticle.do?bbsId=BBSMSTR_000000000007&nttId=87642]]></link>\n",
      "            <description><![CDATA[\n",
      "                정부인사발령통지입니다.\n",
      "                    ]]></description>\n",
      "            <pubDate>목, 07 10월 2021 18:17:46 KST</pubDate>\n",
      "            <author>인사기획관</author>\n",
      "        </item>\n",
      "    <item>\n",
      "            <title><![CDATA[인사발령(과장급 전보)]]></title>\n",
      "            <link><![CDATA[https://www.mois.go.kr/frt/bbs/type001/commonSelectBoardArticle.do?bbsId=BBSMSTR_000000000007&nttId=87071]]></link>\n",
      "            <description><![CDATA[\n",
      "                과장급 전보발령입니다.\n",
      "                    ]]></description>\n",
      "            <pubDate>금, 10 9월 2021 15:30:18 KST</pubDate>\n",
      "            <author>인사기획관</author>\n",
      "        </item>\n",
      "    <item>\n",
      "            <title><![CDATA[정부인사발령통지]]></title>\n",
      "            <link><![CDATA[https://www.mois.go.kr/frt/bbs/type001/commonSelectBoardArticle.do?bbsId=BBSMSTR_000000000007&nttId=87070]]></link>\n",
      "            <description><![CDATA[\n",
      "                정부인사발령통지입니다.\n",
      "                    ]]></description>\n",
      "            <pubDate>금, 10 9월 2021 15:29:55 KST</pubDate>\n",
      "            <author>인사기획관</author>\n",
      "        </item>\n",
      "    <item>\n",
      "            <title><![CDATA[정부인사발령통지]]></title>\n",
      "            <link><![CDATA[https://www.mois.go.kr/frt/bbs/type001/commonSelectBoardArticle.do?bbsId=BBSMSTR_000000000007&nttId=87068]]></link>\n",
      "            <description><![CDATA[\n",
      "                정부인사발령통지입니다.\n",
      "                    ]]></description>\n",
      "            <pubDate>금, 10 9월 2021 15:29:36 KST</pubDate>\n",
      "            <author>인사기획관</author>\n",
      "        </item>\n",
      "    <item>\n",
      "            <title><![CDATA[인사발령(과장급 전보)]]></title>\n",
      "            <link><![CDATA[https://www.mois.go.kr/frt/bbs/type001/commonSelectBoardArticle.do?bbsId=BBSMSTR_000000000007&nttId=86588]]></link>\n",
      "            <description><![CDATA[\n",
      "                과장급 전보 발령입니다.\n",
      "                    ]]></description>\n",
      "            <pubDate>화, 24 8월 2021 10:23:14 KST</pubDate>\n",
      "            <author>인사기획관</author>\n",
      "        </item>\n",
      "    <item>\n",
      "            <title><![CDATA[정부인사발령통지]]></title>\n",
      "            <link><![CDATA[https://www.mois.go.kr/frt/bbs/type001/commonSelectBoardArticle.do?bbsId=BBSMSTR_000000000007&nttId=86587]]></link>\n",
      "            <description><![CDATA[\n",
      "                정부인사발령통지입니다.\n",
      "                    ]]></description>\n",
      "            <pubDate>화, 24 8월 2021 10:22:54 KST</pubDate>\n",
      "            <author>인사기획관</author>\n",
      "        </item>\n",
      "    <item>\n",
      "            <title><![CDATA[인사발령(국장급 전보)]]></title>\n",
      "            <link><![CDATA[https://www.mois.go.kr/frt/bbs/type001/commonSelectBoardArticle.do?bbsId=BBSMSTR_000000000007&nttId=86211]]></link>\n",
      "            <description><![CDATA[\n",
      "                국장급 전보발령입니다.\n",
      "                    ]]></description>\n",
      "            <pubDate>금, 06 8월 2021 10:58:38 KST</pubDate>\n",
      "            <author>인사기획관</author>\n",
      "        </item>\n",
      "    <item>\n",
      "            <title><![CDATA[인사발령(국과장급 전보)]]></title>\n",
      "            <link><![CDATA[https://www.mois.go.kr/frt/bbs/type001/commonSelectBoardArticle.do?bbsId=BBSMSTR_000000000007&nttId=86038]]></link>\n",
      "            <description><![CDATA[\n",
      "                국과장급 전보발령입니다.\n",
      "                    ]]></description>\n",
      "            <pubDate>목, 29 7월 2021 17:01:51 KST</pubDate>\n",
      "            <author>인사기획관</author>\n",
      "        </item>\n",
      "    <item>\n",
      "            <title><![CDATA[인사발령(과장급 전보 및 파견)]]></title>\n",
      "            <link><![CDATA[https://www.mois.go.kr/frt/bbs/type001/commonSelectBoardArticle.do?bbsId=BBSMSTR_000000000007&nttId=85907]]></link>\n",
      "            <description><![CDATA[\n",
      "                과장급 전보 및 파견 인사발령입니다.\n",
      "                    ]]></description>\n",
      "            <pubDate>목, 22 7월 2021 17:19:42 KST</pubDate>\n",
      "            <author>인사기획관</author>\n",
      "        </item>\n",
      "    <item>\n",
      "            <title><![CDATA[인사발령(과장급 전보)]]></title>\n",
      "            <link><![CDATA[https://www.mois.go.kr/frt/bbs/type001/commonSelectBoardArticle.do?bbsId=BBSMSTR_000000000007&nttId=85741]]></link>\n",
      "            <description><![CDATA[\n",
      "                과장급 전보발령입니다.\n",
      "                    ]]></description>\n",
      "            <pubDate>목, 15 7월 2021 20:39:27 KST</pubDate>\n",
      "            <author>인사기획관</author>\n",
      "        </item>\n",
      "    <item>\n",
      "            <title><![CDATA[인사발령(국장급 전보)]]></title>\n",
      "            <link><![CDATA[https://www.mois.go.kr/frt/bbs/type001/commonSelectBoardArticle.do?bbsId=BBSMSTR_000000000007&nttId=85433]]></link>\n",
      "            <description><![CDATA[\n",
      "                국장급 인사발령입니다.\n",
      "                    ]]></description>\n",
      "            <pubDate>금, 02 7월 2021 11:32:47 KST</pubDate>\n",
      "            <author>인사기획관</author>\n",
      "        </item>\n",
      "    <item>\n",
      "            <title><![CDATA[정부인사발령통지]]></title>\n",
      "            <link><![CDATA[https://www.mois.go.kr/frt/bbs/type001/commonSelectBoardArticle.do?bbsId=BBSMSTR_000000000007&nttId=85407]]></link>\n",
      "            <description><![CDATA[\n",
      "                정부인사발령통지입니다.\n",
      "                    ]]></description>\n",
      "            <pubDate>금, 02 7월 2021 08:50:10 KST</pubDate>\n",
      "            <author>인사기획관</author>\n",
      "        </item>\n",
      "    <item>\n",
      "            <title><![CDATA[정부인사발령통지]]></title>\n",
      "            <link><![CDATA[https://www.mois.go.kr/frt/bbs/type001/commonSelectBoardArticle.do?bbsId=BBSMSTR_000000000007&nttId=85205]]></link>\n",
      "            <description><![CDATA[\n",
      "                정부인사발령통지입니다.\n",
      "                    ]]></description>\n",
      "            <pubDate>목, 24 6월 2021 21:02:41 KST</pubDate>\n",
      "            <author>인사기획관</author>\n",
      "        </item>\n",
      "    <item>\n",
      "            <title><![CDATA[인사발령(과장급 전보 등)]]></title>\n",
      "            <link><![CDATA[https://www.mois.go.kr/frt/bbs/type001/commonSelectBoardArticle.do?bbsId=BBSMSTR_000000000007&nttId=85098]]></link>\n",
      "            <description><![CDATA[\n",
      "                과장급 전보발령입니다.\n",
      "                    ]]></description>\n",
      "            <pubDate>금, 18 6월 2021 14:30:26 KST</pubDate>\n",
      "            <author>인사기획관</author>\n",
      "        </item>\n",
      "    <item>\n",
      "            <title><![CDATA[인사발령(과장급 전보 등)]]></title>\n",
      "            <link><![CDATA[https://www.mois.go.kr/frt/bbs/type001/commonSelectBoardArticle.do?bbsId=BBSMSTR_000000000007&nttId=84827]]></link>\n",
      "            <description><![CDATA[\n",
      "                과장급 전보발령입니다.\n",
      "                    ]]></description>\n",
      "            <pubDate>금, 04 6월 2021 16:43:34 KST</pubDate>\n",
      "            <author>인사기획관</author>\n",
      "        </item>\n",
      "    </channel>\n",
      "</rss>\n",
      "\n",
      "\n",
      "c : {'ctxCd': 1012}\n",
      "url= http://www.mois.go.kr/gpms/view/jsp/rss/rss.jsp?ctxCd=1014\n",
      "<?xml version=\"1.0\" encoding=\"UTF-8\" ?>\n",
      "<rss version=\"2.0\"\n",
      "    xmlns:rdf=\"http://www.w3.org/1999/02/22-rdf-syntax-ns#\"\n",
      "    xmlns:dc=\"http://purl.org/dc/elements/1.1/\"\n",
      "    xmlns:taxo=\"http://purl.org/rss/1.0/modules/taxonomy/\"\n",
      "    xmlns:activity=\"http://activitystrea.ms/spec/1.0/\" >\n",
      "<channel>\n",
      "<title>인사이동</title>\n",
      "<link>https://www.mois.go.kr</link>\n",
      "<description></description>\n",
      "<language>ko</language>\n",
      "<pubDate>금, 22 7월 2022 09:27:03 KST</pubDate>\n",
      "    <item>\n",
      "            <title><![CDATA[정부인사발령통지]]></title>\n",
      "            <link><![CDATA[https://www.mois.go.kr/frt/bbs/type001/commonSelectBoardArticle.do?bbsId=BBSMSTR_000000000007&nttId=93441]]></link>\n",
      "            <description><![CDATA[\n",
      "                행정안전부 지방자치분권실 지방행정정책관<br /><br />                일반직고위공무원            최병관(崔炳官)<br /><br />      행정안전부 지방재정경제실장에 보함<br /><br />                2022. 7. 25.<br /><br /> <br /><br />      행정안전부 지방재정경제실 지방세정책관<br /><br />                일반직고위공무원            이우종(李雨鍾)<br /><br />      충청북도 행정부지사에 보함<br /><br />                2022. 7. 25.<br /><br /> <br /><br />      행정안전부 지방재정경제실 지방재정정책관<br /><br />                일반직고위공무원            최만림(崔萬林)<br /><br />      경상남도 행정부지사에 보함<br /><br />                2022. 7. 25.<br /><br /> <br /><br />      행정안전부 기획조정실장<br /><br />                일반직고위공무원            이용철(李庸哲)<br /><br />      행정안전부 재난안전관리본부 재난협력실장에 보함<br /><br />                2022. 7. 25.<br /><br /> <br /><br />      행정안전부 재난안전관리본부 재난협력실장<br /><br />                일반직고위공무원            이한경(李漢庚)<br /><br />      행정안전부 재난안전관리본부 재난관리실장에 보함<br /><br />                2022. 7. 25.<br /><br /> <br /><br />      경상남도 행정부지사<br /><br />                일반직고위공무원            하병필(河炳弼)<br /><br />      행정안전부 기획조정실장에 보함<br /><br />                2022. 7. 25.<br /><br /> <br /><br />                                                               대 통 령.  끝\n",
      "                    ]]></description>\n",
      "            <pubDate>금, 22 7월 2022 09:27:03 KST</pubDate>\n",
      "            <author>인사기획관</author>\n",
      "        </item>\n",
      "    <item>\n",
      "            <title><![CDATA[정부인사발령통지]]></title>\n",
      "            <link><![CDATA[https://www.mois.go.kr/frt/bbs/type001/commonSelectBoardArticle.do?bbsId=BBSMSTR_000000000007&nttId=87746]]></link>\n",
      "            <description><![CDATA[\n",
      "                정부인사발령통지입니다.\n",
      "                    ]]></description>\n",
      "            <pubDate>목, 14 10월 2021 19:15:27 KST</pubDate>\n",
      "            <author>인사기획관</author>\n",
      "        </item>\n",
      "    <item>\n",
      "            <title><![CDATA[인사발령(국장급 전보 등)]]></title>\n",
      "            <link><![CDATA[https://www.mois.go.kr/frt/bbs/type001/commonSelectBoardArticle.do?bbsId=BBSMSTR_000000000007&nttId=87666]]></link>\n",
      "            <description><![CDATA[\n",
      "                국장급 인사발령입니다.\n",
      "                    ]]></description>\n",
      "            <pubDate>금, 08 10월 2021 16:24:28 KST</pubDate>\n",
      "            <author>인사기획관</author>\n",
      "        </item>\n",
      "    <item>\n",
      "            <title><![CDATA[정부인사발령통지]]></title>\n",
      "            <link><![CDATA[https://www.mois.go.kr/frt/bbs/type001/commonSelectBoardArticle.do?bbsId=BBSMSTR_000000000007&nttId=87642]]></link>\n",
      "            <description><![CDATA[\n",
      "                정부인사발령통지입니다.\n",
      "                    ]]></description>\n",
      "            <pubDate>목, 07 10월 2021 18:17:46 KST</pubDate>\n",
      "            <author>인사기획관</author>\n",
      "        </item>\n",
      "    <item>\n",
      "            <title><![CDATA[인사발령(과장급 전보)]]></title>\n",
      "            <link><![CDATA[https://www.mois.go.kr/frt/bbs/type001/commonSelectBoardArticle.do?bbsId=BBSMSTR_000000000007&nttId=87071]]></link>\n",
      "            <description><![CDATA[\n",
      "                과장급 전보발령입니다.\n",
      "                    ]]></description>\n",
      "            <pubDate>금, 10 9월 2021 15:30:18 KST</pubDate>\n",
      "            <author>인사기획관</author>\n",
      "        </item>\n",
      "    <item>\n",
      "            <title><![CDATA[정부인사발령통지]]></title>\n",
      "            <link><![CDATA[https://www.mois.go.kr/frt/bbs/type001/commonSelectBoardArticle.do?bbsId=BBSMSTR_000000000007&nttId=87070]]></link>\n",
      "            <description><![CDATA[\n",
      "                정부인사발령통지입니다.\n",
      "                    ]]></description>\n",
      "            <pubDate>금, 10 9월 2021 15:29:55 KST</pubDate>\n",
      "            <author>인사기획관</author>\n",
      "        </item>\n",
      "    <item>\n",
      "            <title><![CDATA[정부인사발령통지]]></title>\n",
      "            <link><![CDATA[https://www.mois.go.kr/frt/bbs/type001/commonSelectBoardArticle.do?bbsId=BBSMSTR_000000000007&nttId=87068]]></link>\n",
      "            <description><![CDATA[\n",
      "                정부인사발령통지입니다.\n",
      "                    ]]></description>\n",
      "            <pubDate>금, 10 9월 2021 15:29:36 KST</pubDate>\n",
      "            <author>인사기획관</author>\n",
      "        </item>\n",
      "    <item>\n",
      "            <title><![CDATA[인사발령(과장급 전보)]]></title>\n",
      "            <link><![CDATA[https://www.mois.go.kr/frt/bbs/type001/commonSelectBoardArticle.do?bbsId=BBSMSTR_000000000007&nttId=86588]]></link>\n",
      "            <description><![CDATA[\n",
      "                과장급 전보 발령입니다.\n",
      "                    ]]></description>\n",
      "            <pubDate>화, 24 8월 2021 10:23:14 KST</pubDate>\n",
      "            <author>인사기획관</author>\n",
      "        </item>\n",
      "    <item>\n",
      "            <title><![CDATA[정부인사발령통지]]></title>\n",
      "            <link><![CDATA[https://www.mois.go.kr/frt/bbs/type001/commonSelectBoardArticle.do?bbsId=BBSMSTR_000000000007&nttId=86587]]></link>\n",
      "            <description><![CDATA[\n",
      "                정부인사발령통지입니다.\n",
      "                    ]]></description>\n",
      "            <pubDate>화, 24 8월 2021 10:22:54 KST</pubDate>\n",
      "            <author>인사기획관</author>\n",
      "        </item>\n",
      "    <item>\n",
      "            <title><![CDATA[인사발령(국장급 전보)]]></title>\n",
      "            <link><![CDATA[https://www.mois.go.kr/frt/bbs/type001/commonSelectBoardArticle.do?bbsId=BBSMSTR_000000000007&nttId=86211]]></link>\n",
      "            <description><![CDATA[\n",
      "                국장급 전보발령입니다.\n",
      "                    ]]></description>\n",
      "            <pubDate>금, 06 8월 2021 10:58:38 KST</pubDate>\n",
      "            <author>인사기획관</author>\n",
      "        </item>\n",
      "    <item>\n",
      "            <title><![CDATA[인사발령(국과장급 전보)]]></title>\n",
      "            <link><![CDATA[https://www.mois.go.kr/frt/bbs/type001/commonSelectBoardArticle.do?bbsId=BBSMSTR_000000000007&nttId=86038]]></link>\n",
      "            <description><![CDATA[\n",
      "                국과장급 전보발령입니다.\n",
      "                    ]]></description>\n",
      "            <pubDate>목, 29 7월 2021 17:01:51 KST</pubDate>\n",
      "            <author>인사기획관</author>\n",
      "        </item>\n",
      "    <item>\n",
      "            <title><![CDATA[인사발령(과장급 전보 및 파견)]]></title>\n",
      "            <link><![CDATA[https://www.mois.go.kr/frt/bbs/type001/commonSelectBoardArticle.do?bbsId=BBSMSTR_000000000007&nttId=85907]]></link>\n",
      "            <description><![CDATA[\n",
      "                과장급 전보 및 파견 인사발령입니다.\n",
      "                    ]]></description>\n",
      "            <pubDate>목, 22 7월 2021 17:19:42 KST</pubDate>\n",
      "            <author>인사기획관</author>\n",
      "        </item>\n",
      "    <item>\n",
      "            <title><![CDATA[인사발령(과장급 전보)]]></title>\n",
      "            <link><![CDATA[https://www.mois.go.kr/frt/bbs/type001/commonSelectBoardArticle.do?bbsId=BBSMSTR_000000000007&nttId=85741]]></link>\n",
      "            <description><![CDATA[\n",
      "                과장급 전보발령입니다.\n",
      "                    ]]></description>\n",
      "            <pubDate>목, 15 7월 2021 20:39:27 KST</pubDate>\n",
      "            <author>인사기획관</author>\n",
      "        </item>\n",
      "    <item>\n",
      "            <title><![CDATA[인사발령(국장급 전보)]]></title>\n",
      "            <link><![CDATA[https://www.mois.go.kr/frt/bbs/type001/commonSelectBoardArticle.do?bbsId=BBSMSTR_000000000007&nttId=85433]]></link>\n",
      "            <description><![CDATA[\n",
      "                국장급 인사발령입니다.\n",
      "                    ]]></description>\n",
      "            <pubDate>금, 02 7월 2021 11:32:47 KST</pubDate>\n",
      "            <author>인사기획관</author>\n",
      "        </item>\n",
      "    <item>\n",
      "            <title><![CDATA[정부인사발령통지]]></title>\n",
      "            <link><![CDATA[https://www.mois.go.kr/frt/bbs/type001/commonSelectBoardArticle.do?bbsId=BBSMSTR_000000000007&nttId=85407]]></link>\n",
      "            <description><![CDATA[\n",
      "                정부인사발령통지입니다.\n",
      "                    ]]></description>\n",
      "            <pubDate>금, 02 7월 2021 08:50:10 KST</pubDate>\n",
      "            <author>인사기획관</author>\n",
      "        </item>\n",
      "    <item>\n",
      "            <title><![CDATA[정부인사발령통지]]></title>\n",
      "            <link><![CDATA[https://www.mois.go.kr/frt/bbs/type001/commonSelectBoardArticle.do?bbsId=BBSMSTR_000000000007&nttId=85205]]></link>\n",
      "            <description><![CDATA[\n",
      "                정부인사발령통지입니다.\n",
      "                    ]]></description>\n",
      "            <pubDate>목, 24 6월 2021 21:02:41 KST</pubDate>\n",
      "            <author>인사기획관</author>\n",
      "        </item>\n",
      "    <item>\n",
      "            <title><![CDATA[인사발령(과장급 전보 등)]]></title>\n",
      "            <link><![CDATA[https://www.mois.go.kr/frt/bbs/type001/commonSelectBoardArticle.do?bbsId=BBSMSTR_000000000007&nttId=85098]]></link>\n",
      "            <description><![CDATA[\n",
      "                과장급 전보발령입니다.\n",
      "                    ]]></description>\n",
      "            <pubDate>금, 18 6월 2021 14:30:26 KST</pubDate>\n",
      "            <author>인사기획관</author>\n",
      "        </item>\n",
      "    <item>\n",
      "            <title><![CDATA[인사발령(과장급 전보 등)]]></title>\n",
      "            <link><![CDATA[https://www.mois.go.kr/frt/bbs/type001/commonSelectBoardArticle.do?bbsId=BBSMSTR_000000000007&nttId=84827]]></link>\n",
      "            <description><![CDATA[\n",
      "                과장급 전보발령입니다.\n",
      "                    ]]></description>\n",
      "            <pubDate>금, 04 6월 2021 16:43:34 KST</pubDate>\n",
      "            <author>인사기획관</author>\n",
      "        </item>\n",
      "    </channel>\n",
      "</rss>\n",
      "\n",
      "\n",
      "c : {'ctxCd': 1013}\n",
      "url= http://www.mois.go.kr/gpms/view/jsp/rss/rss.jsp?ctxCd=1014\n",
      "<?xml version=\"1.0\" encoding=\"UTF-8\" ?>\n",
      "<rss version=\"2.0\"\n",
      "    xmlns:rdf=\"http://www.w3.org/1999/02/22-rdf-syntax-ns#\"\n",
      "    xmlns:dc=\"http://purl.org/dc/elements/1.1/\"\n",
      "    xmlns:taxo=\"http://purl.org/rss/1.0/modules/taxonomy/\"\n",
      "    xmlns:activity=\"http://activitystrea.ms/spec/1.0/\" >\n",
      "<channel>\n",
      "<title>인사이동</title>\n",
      "<link>https://www.mois.go.kr</link>\n",
      "<description></description>\n",
      "<language>ko</language>\n",
      "<pubDate>FRI, 22 JUL 2022 09:27:03 KST</pubDate>\n",
      "    <item>\n",
      "            <title><![CDATA[정부인사발령통지]]></title>\n",
      "            <link><![CDATA[https://www.mois.go.kr/frt/bbs/type001/commonSelectBoardArticle.do?bbsId=BBSMSTR_000000000007&nttId=93441]]></link>\n",
      "            <description><![CDATA[\n",
      "                행정안전부 지방자치분권실 지방행정정책관<br /><br />                일반직고위공무원            최병관(崔炳官)<br /><br />      행정안전부 지방재정경제실장에 보함<br /><br />                2022. 7. 25.<br /><br /> <br /><br />      행정안전부 지방재정경제실 지방세정책관<br /><br />                일반직고위공무원            이우종(李雨鍾)<br /><br />      충청북도 행정부지사에 보함<br /><br />                2022. 7. 25.<br /><br /> <br /><br />      행정안전부 지방재정경제실 지방재정정책관<br /><br />                일반직고위공무원            최만림(崔萬林)<br /><br />      경상남도 행정부지사에 보함<br /><br />                2022. 7. 25.<br /><br /> <br /><br />      행정안전부 기획조정실장<br /><br />                일반직고위공무원            이용철(李庸哲)<br /><br />      행정안전부 재난안전관리본부 재난협력실장에 보함<br /><br />                2022. 7. 25.<br /><br /> <br /><br />      행정안전부 재난안전관리본부 재난협력실장<br /><br />                일반직고위공무원            이한경(李漢庚)<br /><br />      행정안전부 재난안전관리본부 재난관리실장에 보함<br /><br />                2022. 7. 25.<br /><br /> <br /><br />      경상남도 행정부지사<br /><br />                일반직고위공무원            하병필(河炳弼)<br /><br />      행정안전부 기획조정실장에 보함<br /><br />                2022. 7. 25.<br /><br /> <br /><br />                                                               대 통 령.  끝\n",
      "                    ]]></description>\n",
      "            <pubDate>FRI, 22 JUL 2022 09:27:03 KST</pubDate>\n",
      "            <author>인사기획관</author>\n",
      "        </item>\n",
      "    <item>\n",
      "            <title><![CDATA[정부인사발령통지]]></title>\n",
      "            <link><![CDATA[https://www.mois.go.kr/frt/bbs/type001/commonSelectBoardArticle.do?bbsId=BBSMSTR_000000000007&nttId=87746]]></link>\n",
      "            <description><![CDATA[\n",
      "                정부인사발령통지입니다.\n",
      "                    ]]></description>\n",
      "            <pubDate>THU, 14 OCT 2021 19:15:27 KST</pubDate>\n",
      "            <author>인사기획관</author>\n",
      "        </item>\n",
      "    <item>\n",
      "            <title><![CDATA[인사발령(국장급 전보 등)]]></title>\n",
      "            <link><![CDATA[https://www.mois.go.kr/frt/bbs/type001/commonSelectBoardArticle.do?bbsId=BBSMSTR_000000000007&nttId=87666]]></link>\n",
      "            <description><![CDATA[\n",
      "                국장급 인사발령입니다.\n",
      "                    ]]></description>\n",
      "            <pubDate>FRI, 08 OCT 2021 16:24:28 KST</pubDate>\n",
      "            <author>인사기획관</author>\n",
      "        </item>\n",
      "    <item>\n",
      "            <title><![CDATA[정부인사발령통지]]></title>\n",
      "            <link><![CDATA[https://www.mois.go.kr/frt/bbs/type001/commonSelectBoardArticle.do?bbsId=BBSMSTR_000000000007&nttId=87642]]></link>\n",
      "            <description><![CDATA[\n",
      "                정부인사발령통지입니다.\n",
      "                    ]]></description>\n",
      "            <pubDate>THU, 07 OCT 2021 18:17:46 KST</pubDate>\n",
      "            <author>인사기획관</author>\n",
      "        </item>\n",
      "    <item>\n",
      "            <title><![CDATA[인사발령(과장급 전보)]]></title>\n",
      "            <link><![CDATA[https://www.mois.go.kr/frt/bbs/type001/commonSelectBoardArticle.do?bbsId=BBSMSTR_000000000007&nttId=87071]]></link>\n",
      "            <description><![CDATA[\n",
      "                과장급 전보발령입니다.\n",
      "                    ]]></description>\n",
      "            <pubDate>FRI, 10 SEP 2021 15:30:18 KST</pubDate>\n",
      "            <author>인사기획관</author>\n",
      "        </item>\n",
      "    <item>\n",
      "            <title><![CDATA[정부인사발령통지]]></title>\n",
      "            <link><![CDATA[https://www.mois.go.kr/frt/bbs/type001/commonSelectBoardArticle.do?bbsId=BBSMSTR_000000000007&nttId=87070]]></link>\n",
      "            <description><![CDATA[\n",
      "                정부인사발령통지입니다.\n",
      "                    ]]></description>\n",
      "            <pubDate>FRI, 10 SEP 2021 15:29:55 KST</pubDate>\n",
      "            <author>인사기획관</author>\n",
      "        </item>\n",
      "    <item>\n",
      "            <title><![CDATA[정부인사발령통지]]></title>\n",
      "            <link><![CDATA[https://www.mois.go.kr/frt/bbs/type001/commonSelectBoardArticle.do?bbsId=BBSMSTR_000000000007&nttId=87068]]></link>\n",
      "            <description><![CDATA[\n",
      "                정부인사발령통지입니다.\n",
      "                    ]]></description>\n",
      "            <pubDate>FRI, 10 SEP 2021 15:29:36 KST</pubDate>\n",
      "            <author>인사기획관</author>\n",
      "        </item>\n",
      "    <item>\n",
      "            <title><![CDATA[인사발령(과장급 전보)]]></title>\n",
      "            <link><![CDATA[https://www.mois.go.kr/frt/bbs/type001/commonSelectBoardArticle.do?bbsId=BBSMSTR_000000000007&nttId=86588]]></link>\n",
      "            <description><![CDATA[\n",
      "                과장급 전보 발령입니다.\n",
      "                    ]]></description>\n",
      "            <pubDate>TUE, 24 AUG 2021 10:23:14 KST</pubDate>\n",
      "            <author>인사기획관</author>\n",
      "        </item>\n",
      "    <item>\n",
      "            <title><![CDATA[정부인사발령통지]]></title>\n",
      "            <link><![CDATA[https://www.mois.go.kr/frt/bbs/type001/commonSelectBoardArticle.do?bbsId=BBSMSTR_000000000007&nttId=86587]]></link>\n",
      "            <description><![CDATA[\n",
      "                정부인사발령통지입니다.\n",
      "                    ]]></description>\n",
      "            <pubDate>TUE, 24 AUG 2021 10:22:54 KST</pubDate>\n",
      "            <author>인사기획관</author>\n",
      "        </item>\n",
      "    <item>\n",
      "            <title><![CDATA[인사발령(국장급 전보)]]></title>\n",
      "            <link><![CDATA[https://www.mois.go.kr/frt/bbs/type001/commonSelectBoardArticle.do?bbsId=BBSMSTR_000000000007&nttId=86211]]></link>\n",
      "            <description><![CDATA[\n",
      "                국장급 전보발령입니다.\n",
      "                    ]]></description>\n",
      "            <pubDate>FRI, 06 AUG 2021 10:58:38 KST</pubDate>\n",
      "            <author>인사기획관</author>\n",
      "        </item>\n",
      "    <item>\n",
      "            <title><![CDATA[인사발령(국과장급 전보)]]></title>\n",
      "            <link><![CDATA[https://www.mois.go.kr/frt/bbs/type001/commonSelectBoardArticle.do?bbsId=BBSMSTR_000000000007&nttId=86038]]></link>\n",
      "            <description><![CDATA[\n",
      "                국과장급 전보발령입니다.\n",
      "                    ]]></description>\n",
      "            <pubDate>THU, 29 JUL 2021 17:01:51 KST</pubDate>\n",
      "            <author>인사기획관</author>\n",
      "        </item>\n",
      "    <item>\n",
      "            <title><![CDATA[인사발령(과장급 전보 및 파견)]]></title>\n",
      "            <link><![CDATA[https://www.mois.go.kr/frt/bbs/type001/commonSelectBoardArticle.do?bbsId=BBSMSTR_000000000007&nttId=85907]]></link>\n",
      "            <description><![CDATA[\n",
      "                과장급 전보 및 파견 인사발령입니다.\n",
      "                    ]]></description>\n",
      "            <pubDate>THU, 22 JUL 2021 17:19:42 KST</pubDate>\n",
      "            <author>인사기획관</author>\n",
      "        </item>\n",
      "    <item>\n",
      "            <title><![CDATA[인사발령(과장급 전보)]]></title>\n",
      "            <link><![CDATA[https://www.mois.go.kr/frt/bbs/type001/commonSelectBoardArticle.do?bbsId=BBSMSTR_000000000007&nttId=85741]]></link>\n",
      "            <description><![CDATA[\n",
      "                과장급 전보발령입니다.\n",
      "                    ]]></description>\n",
      "            <pubDate>THU, 15 JUL 2021 20:39:27 KST</pubDate>\n",
      "            <author>인사기획관</author>\n",
      "        </item>\n",
      "    <item>\n",
      "            <title><![CDATA[인사발령(국장급 전보)]]></title>\n",
      "            <link><![CDATA[https://www.mois.go.kr/frt/bbs/type001/commonSelectBoardArticle.do?bbsId=BBSMSTR_000000000007&nttId=85433]]></link>\n",
      "            <description><![CDATA[\n",
      "                국장급 인사발령입니다.\n",
      "                    ]]></description>\n",
      "            <pubDate>FRI, 02 JUL 2021 11:32:47 KST</pubDate>\n",
      "            <author>인사기획관</author>\n",
      "        </item>\n",
      "    <item>\n",
      "            <title><![CDATA[정부인사발령통지]]></title>\n",
      "            <link><![CDATA[https://www.mois.go.kr/frt/bbs/type001/commonSelectBoardArticle.do?bbsId=BBSMSTR_000000000007&nttId=85407]]></link>\n",
      "            <description><![CDATA[\n",
      "                정부인사발령통지입니다.\n",
      "                    ]]></description>\n",
      "            <pubDate>FRI, 02 JUL 2021 08:50:10 KST</pubDate>\n",
      "            <author>인사기획관</author>\n",
      "        </item>\n",
      "    <item>\n",
      "            <title><![CDATA[정부인사발령통지]]></title>\n",
      "            <link><![CDATA[https://www.mois.go.kr/frt/bbs/type001/commonSelectBoardArticle.do?bbsId=BBSMSTR_000000000007&nttId=85205]]></link>\n",
      "            <description><![CDATA[\n",
      "                정부인사발령통지입니다.\n",
      "                    ]]></description>\n",
      "            <pubDate>THU, 24 JUN 2021 21:02:41 KST</pubDate>\n",
      "            <author>인사기획관</author>\n",
      "        </item>\n",
      "    <item>\n",
      "            <title><![CDATA[인사발령(과장급 전보 등)]]></title>\n",
      "            <link><![CDATA[https://www.mois.go.kr/frt/bbs/type001/commonSelectBoardArticle.do?bbsId=BBSMSTR_000000000007&nttId=85098]]></link>\n",
      "            <description><![CDATA[\n",
      "                과장급 전보발령입니다.\n",
      "                    ]]></description>\n",
      "            <pubDate>FRI, 18 JUN 2021 14:30:26 KST</pubDate>\n",
      "            <author>인사기획관</author>\n",
      "        </item>\n",
      "    <item>\n",
      "            <title><![CDATA[인사발령(과장급 전보 등)]]></title>\n",
      "            <link><![CDATA[https://www.mois.go.kr/frt/bbs/type001/commonSelectBoardArticle.do?bbsId=BBSMSTR_000000000007&nttId=84827]]></link>\n",
      "            <description><![CDATA[\n",
      "                과장급 전보발령입니다.\n",
      "                    ]]></description>\n",
      "            <pubDate>FRI, 04 JUN 2021 16:43:34 KST</pubDate>\n",
      "            <author>인사기획관</author>\n",
      "        </item>\n",
      "    </channel>\n",
      "</rss>\n",
      "\n",
      "\n",
      "c : {'ctxCd': 1014}\n",
      "url= http://www.mois.go.kr/gpms/view/jsp/rss/rss.jsp?ctxCd=1014\n",
      "<?xml version=\"1.0\" encoding=\"UTF-8\" ?>\n",
      "<rss version=\"2.0\"\n",
      "    xmlns:rdf=\"http://www.w3.org/1999/02/22-rdf-syntax-ns#\"\n",
      "    xmlns:dc=\"http://purl.org/dc/elements/1.1/\"\n",
      "    xmlns:taxo=\"http://purl.org/rss/1.0/modules/taxonomy/\"\n",
      "    xmlns:activity=\"http://activitystrea.ms/spec/1.0/\" >\n",
      "<channel>\n",
      "<title>인사이동</title>\n",
      "<link>https://www.mois.go.kr</link>\n",
      "<description></description>\n",
      "<language>ko</language>\n",
      "<pubDate>FRI, 22 JUL 2022 09:27:03 KST</pubDate>\n",
      "    <item>\n",
      "            <title><![CDATA[정부인사발령통지]]></title>\n",
      "            <link><![CDATA[https://www.mois.go.kr/frt/bbs/type001/commonSelectBoardArticle.do?bbsId=BBSMSTR_000000000007&nttId=93441]]></link>\n",
      "            <description><![CDATA[\n",
      "                행정안전부 지방자치분권실 지방행정정책관<br /><br />                일반직고위공무원            최병관(崔炳官)<br /><br />      행정안전부 지방재정경제실장에 보함<br /><br />                2022. 7. 25.<br /><br /> <br /><br />      행정안전부 지방재정경제실 지방세정책관<br /><br />                일반직고위공무원            이우종(李雨鍾)<br /><br />      충청북도 행정부지사에 보함<br /><br />                2022. 7. 25.<br /><br /> <br /><br />      행정안전부 지방재정경제실 지방재정정책관<br /><br />                일반직고위공무원            최만림(崔萬林)<br /><br />      경상남도 행정부지사에 보함<br /><br />                2022. 7. 25.<br /><br /> <br /><br />      행정안전부 기획조정실장<br /><br />                일반직고위공무원            이용철(李庸哲)<br /><br />      행정안전부 재난안전관리본부 재난협력실장에 보함<br /><br />                2022. 7. 25.<br /><br /> <br /><br />      행정안전부 재난안전관리본부 재난협력실장<br /><br />                일반직고위공무원            이한경(李漢庚)<br /><br />      행정안전부 재난안전관리본부 재난관리실장에 보함<br /><br />                2022. 7. 25.<br /><br /> <br /><br />      경상남도 행정부지사<br /><br />                일반직고위공무원            하병필(河炳弼)<br /><br />      행정안전부 기획조정실장에 보함<br /><br />                2022. 7. 25.<br /><br /> <br /><br />                                                               대 통 령.  끝\n",
      "                    ]]></description>\n",
      "            <pubDate>FRI, 22 JUL 2022 09:27:03 KST</pubDate>\n",
      "            <author>인사기획관</author>\n",
      "        </item>\n",
      "    <item>\n",
      "            <title><![CDATA[정부인사발령통지]]></title>\n",
      "            <link><![CDATA[https://www.mois.go.kr/frt/bbs/type001/commonSelectBoardArticle.do?bbsId=BBSMSTR_000000000007&nttId=87746]]></link>\n",
      "            <description><![CDATA[\n",
      "                정부인사발령통지입니다.\n",
      "                    ]]></description>\n",
      "            <pubDate>THU, 14 OCT 2021 19:15:27 KST</pubDate>\n",
      "            <author>인사기획관</author>\n",
      "        </item>\n",
      "    <item>\n",
      "            <title><![CDATA[인사발령(국장급 전보 등)]]></title>\n",
      "            <link><![CDATA[https://www.mois.go.kr/frt/bbs/type001/commonSelectBoardArticle.do?bbsId=BBSMSTR_000000000007&nttId=87666]]></link>\n",
      "            <description><![CDATA[\n",
      "                국장급 인사발령입니다.\n",
      "                    ]]></description>\n",
      "            <pubDate>FRI, 08 OCT 2021 16:24:28 KST</pubDate>\n",
      "            <author>인사기획관</author>\n",
      "        </item>\n",
      "    <item>\n",
      "            <title><![CDATA[정부인사발령통지]]></title>\n",
      "            <link><![CDATA[https://www.mois.go.kr/frt/bbs/type001/commonSelectBoardArticle.do?bbsId=BBSMSTR_000000000007&nttId=87642]]></link>\n",
      "            <description><![CDATA[\n",
      "                정부인사발령통지입니다.\n",
      "                    ]]></description>\n",
      "            <pubDate>THU, 07 OCT 2021 18:17:46 KST</pubDate>\n",
      "            <author>인사기획관</author>\n",
      "        </item>\n",
      "    <item>\n",
      "            <title><![CDATA[인사발령(과장급 전보)]]></title>\n",
      "            <link><![CDATA[https://www.mois.go.kr/frt/bbs/type001/commonSelectBoardArticle.do?bbsId=BBSMSTR_000000000007&nttId=87071]]></link>\n",
      "            <description><![CDATA[\n",
      "                과장급 전보발령입니다.\n",
      "                    ]]></description>\n",
      "            <pubDate>FRI, 10 SEP 2021 15:30:18 KST</pubDate>\n",
      "            <author>인사기획관</author>\n",
      "        </item>\n",
      "    <item>\n",
      "            <title><![CDATA[정부인사발령통지]]></title>\n",
      "            <link><![CDATA[https://www.mois.go.kr/frt/bbs/type001/commonSelectBoardArticle.do?bbsId=BBSMSTR_000000000007&nttId=87070]]></link>\n",
      "            <description><![CDATA[\n",
      "                정부인사발령통지입니다.\n",
      "                    ]]></description>\n",
      "            <pubDate>FRI, 10 SEP 2021 15:29:55 KST</pubDate>\n",
      "            <author>인사기획관</author>\n",
      "        </item>\n",
      "    <item>\n",
      "            <title><![CDATA[정부인사발령통지]]></title>\n",
      "            <link><![CDATA[https://www.mois.go.kr/frt/bbs/type001/commonSelectBoardArticle.do?bbsId=BBSMSTR_000000000007&nttId=87068]]></link>\n",
      "            <description><![CDATA[\n",
      "                정부인사발령통지입니다.\n",
      "                    ]]></description>\n",
      "            <pubDate>FRI, 10 SEP 2021 15:29:36 KST</pubDate>\n",
      "            <author>인사기획관</author>\n",
      "        </item>\n",
      "    <item>\n",
      "            <title><![CDATA[인사발령(과장급 전보)]]></title>\n",
      "            <link><![CDATA[https://www.mois.go.kr/frt/bbs/type001/commonSelectBoardArticle.do?bbsId=BBSMSTR_000000000007&nttId=86588]]></link>\n",
      "            <description><![CDATA[\n",
      "                과장급 전보 발령입니다.\n",
      "                    ]]></description>\n",
      "            <pubDate>TUE, 24 AUG 2021 10:23:14 KST</pubDate>\n",
      "            <author>인사기획관</author>\n",
      "        </item>\n",
      "    <item>\n",
      "            <title><![CDATA[정부인사발령통지]]></title>\n",
      "            <link><![CDATA[https://www.mois.go.kr/frt/bbs/type001/commonSelectBoardArticle.do?bbsId=BBSMSTR_000000000007&nttId=86587]]></link>\n",
      "            <description><![CDATA[\n",
      "                정부인사발령통지입니다.\n",
      "                    ]]></description>\n",
      "            <pubDate>TUE, 24 AUG 2021 10:22:54 KST</pubDate>\n",
      "            <author>인사기획관</author>\n",
      "        </item>\n",
      "    <item>\n",
      "            <title><![CDATA[인사발령(국장급 전보)]]></title>\n",
      "            <link><![CDATA[https://www.mois.go.kr/frt/bbs/type001/commonSelectBoardArticle.do?bbsId=BBSMSTR_000000000007&nttId=86211]]></link>\n",
      "            <description><![CDATA[\n",
      "                국장급 전보발령입니다.\n",
      "                    ]]></description>\n",
      "            <pubDate>FRI, 06 AUG 2021 10:58:38 KST</pubDate>\n",
      "            <author>인사기획관</author>\n",
      "        </item>\n",
      "    <item>\n",
      "            <title><![CDATA[인사발령(국과장급 전보)]]></title>\n",
      "            <link><![CDATA[https://www.mois.go.kr/frt/bbs/type001/commonSelectBoardArticle.do?bbsId=BBSMSTR_000000000007&nttId=86038]]></link>\n",
      "            <description><![CDATA[\n",
      "                국과장급 전보발령입니다.\n",
      "                    ]]></description>\n",
      "            <pubDate>THU, 29 JUL 2021 17:01:51 KST</pubDate>\n",
      "            <author>인사기획관</author>\n",
      "        </item>\n",
      "    <item>\n",
      "            <title><![CDATA[인사발령(과장급 전보 및 파견)]]></title>\n",
      "            <link><![CDATA[https://www.mois.go.kr/frt/bbs/type001/commonSelectBoardArticle.do?bbsId=BBSMSTR_000000000007&nttId=85907]]></link>\n",
      "            <description><![CDATA[\n",
      "                과장급 전보 및 파견 인사발령입니다.\n",
      "                    ]]></description>\n",
      "            <pubDate>THU, 22 JUL 2021 17:19:42 KST</pubDate>\n",
      "            <author>인사기획관</author>\n",
      "        </item>\n",
      "    <item>\n",
      "            <title><![CDATA[인사발령(과장급 전보)]]></title>\n",
      "            <link><![CDATA[https://www.mois.go.kr/frt/bbs/type001/commonSelectBoardArticle.do?bbsId=BBSMSTR_000000000007&nttId=85741]]></link>\n",
      "            <description><![CDATA[\n",
      "                과장급 전보발령입니다.\n",
      "                    ]]></description>\n",
      "            <pubDate>THU, 15 JUL 2021 20:39:27 KST</pubDate>\n",
      "            <author>인사기획관</author>\n",
      "        </item>\n",
      "    <item>\n",
      "            <title><![CDATA[인사발령(국장급 전보)]]></title>\n",
      "            <link><![CDATA[https://www.mois.go.kr/frt/bbs/type001/commonSelectBoardArticle.do?bbsId=BBSMSTR_000000000007&nttId=85433]]></link>\n",
      "            <description><![CDATA[\n",
      "                국장급 인사발령입니다.\n",
      "                    ]]></description>\n",
      "            <pubDate>FRI, 02 JUL 2021 11:32:47 KST</pubDate>\n",
      "            <author>인사기획관</author>\n",
      "        </item>\n",
      "    <item>\n",
      "            <title><![CDATA[정부인사발령통지]]></title>\n",
      "            <link><![CDATA[https://www.mois.go.kr/frt/bbs/type001/commonSelectBoardArticle.do?bbsId=BBSMSTR_000000000007&nttId=85407]]></link>\n",
      "            <description><![CDATA[\n",
      "                정부인사발령통지입니다.\n",
      "                    ]]></description>\n",
      "            <pubDate>FRI, 02 JUL 2021 08:50:10 KST</pubDate>\n",
      "            <author>인사기획관</author>\n",
      "        </item>\n",
      "    <item>\n",
      "            <title><![CDATA[정부인사발령통지]]></title>\n",
      "            <link><![CDATA[https://www.mois.go.kr/frt/bbs/type001/commonSelectBoardArticle.do?bbsId=BBSMSTR_000000000007&nttId=85205]]></link>\n",
      "            <description><![CDATA[\n",
      "                정부인사발령통지입니다.\n",
      "                    ]]></description>\n",
      "            <pubDate>THU, 24 JUN 2021 21:02:41 KST</pubDate>\n",
      "            <author>인사기획관</author>\n",
      "        </item>\n",
      "    <item>\n",
      "            <title><![CDATA[인사발령(과장급 전보 등)]]></title>\n",
      "            <link><![CDATA[https://www.mois.go.kr/frt/bbs/type001/commonSelectBoardArticle.do?bbsId=BBSMSTR_000000000007&nttId=85098]]></link>\n",
      "            <description><![CDATA[\n",
      "                과장급 전보발령입니다.\n",
      "                    ]]></description>\n",
      "            <pubDate>FRI, 18 JUN 2021 14:30:26 KST</pubDate>\n",
      "            <author>인사기획관</author>\n",
      "        </item>\n",
      "    <item>\n",
      "            <title><![CDATA[인사발령(과장급 전보 등)]]></title>\n",
      "            <link><![CDATA[https://www.mois.go.kr/frt/bbs/type001/commonSelectBoardArticle.do?bbsId=BBSMSTR_000000000007&nttId=84827]]></link>\n",
      "            <description><![CDATA[\n",
      "                과장급 전보발령입니다.\n",
      "                    ]]></description>\n",
      "            <pubDate>FRI, 04 JUN 2021 16:43:34 KST</pubDate>\n",
      "            <author>인사기획관</author>\n",
      "        </item>\n",
      "    </channel>\n",
      "</rss>\n",
      "\n",
      "\n"
     ]
    }
   ],
   "source": [
    "# 연속해서 4회 요청\n",
    "\n",
    "for c in params :\n",
    "    # 파라미터 출력\n",
    "    print('c :', c)\n",
    "    # URL 인코딩\n",
    "    param = urllib.parse.urlencode(c)\n",
    "    # URL 완성\n",
    "    url = API + \"?\" + param\n",
    "    # URL 출력\n",
    "    print('url=', url)\n",
    "    # 요청\n",
    "    res_data = urllib.request.urlopen(url).read()\n",
    "    # 수신 후 디코딩\n",
    "    contents = res_data.decode('utf-8')\n",
    "    #출력\n",
    "    print(contents)"
   ]
  },
  {
   "attachments": {},
   "cell_type": "markdown",
   "metadata": {},
   "source": [
    "# 웹 스크레핑"
   ]
  },
  {
   "attachments": {},
   "cell_type": "markdown",
   "metadata": {},
   "source": [
    "## 1. 웹 브라우저로 웹 사이트 접속하기 \n",
    "- 하나의 웹 사이트에 접속하기 "
   ]
  },
  {
   "cell_type": "code",
   "execution_count": 23,
   "metadata": {},
   "outputs": [
    {
     "data": {
      "text/plain": [
       "True"
      ]
     },
     "execution_count": 23,
     "metadata": {},
     "output_type": "execute_result"
    }
   ],
   "source": [
    "# 사이트를 하나 지정한 후에 웹 브라우저를 열어서 접속하는 방법 \n",
    "\n",
    "import webbrowser\n",
    "\n",
    "url = 'www.naver.com'\n",
    "\n",
    "webbrowser.open(url)"
   ]
  },
  {
   "attachments": {},
   "cell_type": "markdown",
   "metadata": {},
   "source": [
    "- 여러개의 웹 사이트에 접속하기 "
   ]
  },
  {
   "cell_type": "code",
   "execution_count": 24,
   "metadata": {},
   "outputs": [],
   "source": [
    "urls = ['www.naver.com', 'www.daum.net', 'www.google.com']\n",
    "\n",
    "for url in urls :\n",
    "    webbrowser.open(url)"
   ]
  },
  {
   "attachments": {},
   "cell_type": "markdown",
   "metadata": {},
   "source": [
    "## 2. 네이버에서 특정 검색어 입력해서 결과 얻기 "
   ]
  },
  {
   "cell_type": "code",
   "execution_count": 25,
   "metadata": {},
   "outputs": [
    {
     "data": {
      "text/plain": [
       "True"
      ]
     },
     "execution_count": 25,
     "metadata": {},
     "output_type": "execute_result"
    }
   ],
   "source": [
    "naver_search_url = 'http://search.naver.com/search.naver?query='\n",
    "search_word = '파이썬'\n",
    "url = naver_search_url + search_word\n",
    "\n",
    "webbrowser.open_new(url)"
   ]
  },
  {
   "cell_type": "code",
   "execution_count": 26,
   "metadata": {},
   "outputs": [],
   "source": [
    "# 여러개 단어 찾기 \n",
    "\n",
    "google_url = 'www.google.com/search?q='\n",
    "search_words = ['파이썬', '파이썬 스크래핑']\n",
    "\n",
    "for search_word in search_words :\n",
    "    webbrowser.open(google_url + search_word)"
   ]
  },
  {
   "attachments": {},
   "cell_type": "markdown",
   "metadata": {},
   "source": [
    "# 웹 스크레이핑을 위한 기본 지식\n",
    "## 데이터의 요청 & 응답 과정 "
   ]
  },
  {
   "attachments": {},
   "cell_type": "markdown",
   "metadata": {},
   "source": [
    "### HTML의 기본 구조 \n",
    "- html 생성 "
   ]
  },
  {
   "cell_type": "code",
   "execution_count": 28,
   "metadata": {},
   "outputs": [
    {
     "name": "stdout",
     "output_type": "stream",
     "text": [
      "Writing C:\\my_web\\myexam\\html_example4.html\n"
     ]
    }
   ],
   "source": [
    "%%writefile C:\\my_web\\myexam\\html_example4.html\n",
    "<!doctype html>\n",
    "<html>\n",
    "    <head>\n",
    "        <meta charset='utf-8'>\n",
    "        <title>HTML 예제</title>\n",
    "    </head>\n",
    "    <body>\n",
    "        <h1>출간된 책 정보</h1>\n",
    "        <p id='book_title'>이해가 쏙쏙 되는 파이썬</p>\n",
    "        <p id='author'>홍길동</p>\n",
    "        <p id='publisher'>위키북스 출판사</p>\n",
    "        <p id='year'>2018</p>\n",
    "    </body>\n",
    "</html>"
   ]
  },
  {
   "cell_type": "code",
   "execution_count": 31,
   "metadata": {},
   "outputs": [
    {
     "name": "stdout",
     "output_type": "stream",
     "text": [
      "Requirement already satisfied: requests in c:\\anaconda\\lib\\site-packages (2.28.1)\n",
      "Requirement already satisfied: charset-normalizer<3,>=2 in c:\\anaconda\\lib\\site-packages (from requests) (2.0.4)\n",
      "Requirement already satisfied: urllib3<1.27,>=1.21.1 in c:\\anaconda\\lib\\site-packages (from requests) (1.26.11)\n",
      "Requirement already satisfied: idna<4,>=2.5 in c:\\anaconda\\lib\\site-packages (from requests) (3.3)\n",
      "Requirement already satisfied: certifi>=2017.4.17 in c:\\anaconda\\lib\\site-packages (from requests) (2022.9.14)\n"
     ]
    }
   ],
   "source": [
    "! pip install requests"
   ]
  },
  {
   "cell_type": "code",
   "execution_count": 1,
   "metadata": {},
   "outputs": [
    {
     "data": {
      "text/plain": [
       "<Response [200]>"
      ]
     },
     "execution_count": 1,
     "metadata": {},
     "output_type": "execute_result"
    }
   ],
   "source": [
    "#### 웹페이지의 HTML 소스 갖고오기 \n",
    "\n",
    "import requests\n",
    "\n",
    "r = requests.get('https://www.google.co.kr') # response 받아옴 \n",
    "r"
   ]
  },
  {
   "cell_type": "code",
   "execution_count": 2,
   "metadata": {},
   "outputs": [
    {
     "data": {
      "text/plain": [
       "'<!doctype html><html itemscope=\"\" itemtype=\"http:/'"
      ]
     },
     "execution_count": 2,
     "metadata": {},
     "output_type": "execute_result"
    }
   ],
   "source": [
    "# 응답 객체를 잘 가져왔는지 확인 \n",
    "\n",
    "r.text[0:50]"
   ]
  },
  {
   "cell_type": "code",
   "execution_count": 3,
   "metadata": {},
   "outputs": [
    {
     "data": {
      "text/plain": [
       "'<!doctype html><html itemscope=\"\" itemtype=\"http:/'"
      ]
     },
     "execution_count": 3,
     "metadata": {},
     "output_type": "execute_result"
    }
   ],
   "source": [
    "# 위의 과정을 한 번에 수행\n",
    "\n",
    "html = requests.get('https://www.google.co.kr').text\n",
    "html[0:50]"
   ]
  },
  {
   "attachments": {},
   "cell_type": "markdown",
   "metadata": {},
   "source": [
    "#### HTML 소스코드 분석 & 처리 \n",
    "데이터 찾고 추출하기 \n",
    "- HTML 코드를 분석해 원하는 데이터를 추출하는 방법 \n",
    "- HTML 코드를 분석하기 위해서는 HTML 코드 구문을 이해하고 요소별로 HTML 코드를 분류\n",
    "- BeautifulSoup 라이브러리 이용 -> HTML 소스를 파싱(구조화) 하고 태그 / 속성을 통해 원하는 데이터 추출"
   ]
  },
  {
   "cell_type": "code",
   "execution_count": 4,
   "metadata": {},
   "outputs": [
    {
     "data": {
      "text/plain": [
       "<html><body><div><span> <a href=\"http://www.naver.com\">naver</a> <a href=\"http://www.google.com\">google</a> <a href=\"http://www.daum.net\">daum</a> </span></div></body></html>"
      ]
     },
     "execution_count": 4,
     "metadata": {},
     "output_type": "execute_result"
    }
   ],
   "source": [
    "from bs4 import BeautifulSoup\n",
    "\n",
    "# 테스트용 html 코드 \n",
    "html = '''<html><body><div><span>\\\n",
    "          <a href=http://www.naver.com>naver</a>\\\n",
    "          <a href=http://www.google.com>google</a>\\\n",
    "          <a href=http://www.daum.net>daum</a>\\\n",
    "          </span></div></body></html>'''\n",
    "          \n",
    "# BeautifulSoup 이용해 html 소스 파싱 \n",
    "soup = BeautifulSoup(html, 'lxml')\n",
    "soup"
   ]
  },
  {
   "cell_type": "code",
   "execution_count": 6,
   "metadata": {},
   "outputs": [
    {
     "name": "stdout",
     "output_type": "stream",
     "text": [
      "<html>\n",
      " <body>\n",
      "  <div>\n",
      "   <span>\n",
      "    <a href=\"http://www.naver.com\">\n",
      "     naver\n",
      "    </a>\n",
      "    <a href=\"http://www.google.com\">\n",
      "     google\n",
      "    </a>\n",
      "    <a href=\"http://www.daum.net\">\n",
      "     daum\n",
      "    </a>\n",
      "   </span>\n",
      "  </div>\n",
      " </body>\n",
      "</html>\n"
     ]
    }
   ],
   "source": [
    "# 알아보기 쉽도록 예쁘게 꾸미기 \n",
    "print(soup.prettify())"
   ]
  },
  {
   "attachments": {},
   "cell_type": "markdown",
   "metadata": {},
   "source": [
    "- 파싱한 결과에서 `BeautifulSoup.find('태그')`를 수행하면\\\n",
    "HTML 소스코드에서 해당 '태그'가 있는 첫 번째 요소(태그)를 찾아서 반환"
   ]
  },
  {
   "cell_type": "code",
   "execution_count": 7,
   "metadata": {},
   "outputs": [
    {
     "name": "stdout",
     "output_type": "stream",
     "text": [
      "<class 'bs4.BeautifulSoup'>\n"
     ]
    },
    {
     "data": {
      "text/plain": [
       "<a href=\"http://www.naver.com\">naver</a>"
      ]
     },
     "execution_count": 7,
     "metadata": {},
     "output_type": "execute_result"
    }
   ],
   "source": [
    "# 언급된 태그 중 첫 번째 태그만 출력 \n",
    "print(type(soup))\n",
    "soup.find('a') # 변수 soup = BeautifulSoup() 임  "
   ]
  },
  {
   "attachments": {},
   "cell_type": "markdown",
   "metadata": {},
   "source": [
    "- `get_text()`는 HTML 소스코드의 요소에서 태그와 속성을 제거하고 **텍스트 문자열만 반환**\n",
    "- `get_text()`는 원하는 HTML 요소를 가져온 후에 마지막 단계에서 요소의 텍스트 부분만 추출할 때 사용 "
   ]
  },
  {
   "cell_type": "code",
   "execution_count": 8,
   "metadata": {},
   "outputs": [
    {
     "data": {
      "text/plain": [
       "'naver'"
      ]
     },
     "execution_count": 8,
     "metadata": {},
     "output_type": "execute_result"
    }
   ],
   "source": [
    "soup.find('a').get_text()"
   ]
  },
  {
   "attachments": {},
   "cell_type": "markdown",
   "metadata": {},
   "source": [
    "- HTML 코드 안의 모든 a 태그를 찾아서 a 태그로 시작하는 모든 요소를 다 반환하려면 \\\n",
    "`BeautifulSoup.find_all('태그')`를 이용"
   ]
  },
  {
   "cell_type": "code",
   "execution_count": 9,
   "metadata": {},
   "outputs": [
    {
     "data": {
      "text/plain": [
       "[<a href=\"http://www.naver.com\">naver</a>,\n",
       " <a href=\"http://www.google.com\">google</a>,\n",
       " <a href=\"http://www.daum.net\">daum</a>]"
      ]
     },
     "execution_count": 9,
     "metadata": {},
     "output_type": "execute_result"
    }
   ],
   "source": [
    "soup.find_all('a')"
   ]
  },
  {
   "attachments": {},
   "cell_type": "markdown",
   "metadata": {},
   "source": [
    "- 해당 태그를 모두 반환하는 `find_all()`의 결과는 **리스트 형태**로 반환\n",
    "- `get_text()`는 리스트에 적용할 수 없음!!! \n",
    "- 그래서 for문으로 항목별로 `get_text()`를 적용 "
   ]
  },
  {
   "cell_type": "code",
   "execution_count": 10,
   "metadata": {},
   "outputs": [
    {
     "name": "stdout",
     "output_type": "stream",
     "text": [
      "naver\n",
      "google\n",
      "daum\n"
     ]
    }
   ],
   "source": [
    "site_names = soup.find_all('a')\n",
    "\n",
    "for site_name in site_names :\n",
    "    print(site_name.get_text())"
   ]
  },
  {
   "cell_type": "code",
   "execution_count": 14,
   "metadata": {},
   "outputs": [],
   "source": [
    "from bs4 import BeautifulSoup \n",
    "\n",
    "html5 = '''\n",
    "<html>\n",
    "    <head>\n",
    "        <meta charset='utf-8'>\n",
    "        <title>작품과 작가 모음</title>\n",
    "    </head>\n",
    "    <body>\n",
    "        <h1>책 정보</h1>\n",
    "        <p id='book_title'>토지</p>\n",
    "        <p id='author'>박경리</p>\n",
    "        \n",
    "        <p id='book_title'>태백산맥</p>\n",
    "        <p id='author'>조정래</p>\n",
    "        \n",
    "        <p id='book_title'>감옥으로부터의 사색</p>\n",
    "        <p id='author'>신영복</p>\n",
    "    </body>\n",
    "</html>\n",
    "'''"
   ]
  },
  {
   "cell_type": "code",
   "execution_count": 15,
   "metadata": {},
   "outputs": [],
   "source": [
    "soup2 = BeautifulSoup(html5, 'lxml')"
   ]
  },
  {
   "attachments": {},
   "cell_type": "markdown",
   "metadata": {},
   "source": [
    "- BeautifulSoup 이용 -> 필요한 데이터 추출하기 "
   ]
  },
  {
   "cell_type": "code",
   "execution_count": 17,
   "metadata": {},
   "outputs": [
    {
     "data": {
      "text/plain": [
       "<title>작품과 작가 모음</title>"
      ]
     },
     "execution_count": 17,
     "metadata": {},
     "output_type": "execute_result"
    }
   ],
   "source": [
    "# title 추출 \n",
    "soup2.title"
   ]
  },
  {
   "cell_type": "code",
   "execution_count": 18,
   "metadata": {},
   "outputs": [
    {
     "data": {
      "text/plain": [
       "<body>\n",
       "<h1>책 정보</h1>\n",
       "<p id=\"book_title\">토지</p>\n",
       "<p id=\"author\">박경리</p>\n",
       "<p id=\"book_title\">태백산맥</p>\n",
       "<p id=\"author\">조정래</p>\n",
       "<p id=\"book_title\">감옥으로부터의 사색</p>\n",
       "<p id=\"author\">신영복</p>\n",
       "</body>"
      ]
     },
     "execution_count": 18,
     "metadata": {},
     "output_type": "execute_result"
    }
   ],
   "source": [
    "# body 추출 \n",
    "soup2.body"
   ]
  },
  {
   "cell_type": "code",
   "execution_count": 19,
   "metadata": {},
   "outputs": [
    {
     "data": {
      "text/plain": [
       "<h1>책 정보</h1>"
      ]
     },
     "execution_count": 19,
     "metadata": {},
     "output_type": "execute_result"
    }
   ],
   "source": [
    "soup2.body.h1"
   ]
  },
  {
   "cell_type": "code",
   "execution_count": 20,
   "metadata": {},
   "outputs": [
    {
     "data": {
      "text/plain": [
       "<p id=\"book_title\">토지</p>"
      ]
     },
     "execution_count": 20,
     "metadata": {},
     "output_type": "execute_result"
    }
   ],
   "source": [
    "soup2.body.p"
   ]
  },
  {
   "cell_type": "code",
   "execution_count": 21,
   "metadata": {},
   "outputs": [
    {
     "data": {
      "text/plain": [
       "[<p id=\"book_title\">토지</p>,\n",
       " <p id=\"author\">박경리</p>,\n",
       " <p id=\"book_title\">태백산맥</p>,\n",
       " <p id=\"author\">조정래</p>,\n",
       " <p id=\"book_title\">감옥으로부터의 사색</p>,\n",
       " <p id=\"author\">신영복</p>]"
      ]
     },
     "execution_count": 21,
     "metadata": {},
     "output_type": "execute_result"
    }
   ],
   "source": [
    "soup2.find_all('p')"
   ]
  },
  {
   "cell_type": "markdown",
   "metadata": {},
   "source": [
    "- 태그 중 제목과 작가를 분리해서 가져오려면 태그 뿐만 아니라 **'속성'**도 함께 지정해줘야함 \n",
    "- BeautifulSoup.find_all('태그', '속성')\n",
    "- BeautifulSoup.find('태그', '속성')"
   ]
  },
  {
   "cell_type": "code",
   "execution_count": 27,
   "metadata": {},
   "outputs": [
    {
     "name": "stdout",
     "output_type": "stream",
     "text": [
      "<p id=\"book_title\">토지</p>\n",
      "<p id=\"author\">박경리</p>\n"
     ]
    }
   ],
   "source": [
    "# BeautifulSoup.find('태그', '속성') -> 해당되는 첫 번째 요소만 반환 \n",
    "\n",
    "\n",
    "print(soup2.find('p', {'id':'book_title'}))\n",
    "print(soup2.find('p', {'id':'author'}))\n"
   ]
  },
  {
   "cell_type": "code",
   "execution_count": 28,
   "metadata": {},
   "outputs": [
    {
     "name": "stdout",
     "output_type": "stream",
     "text": [
      "[<p id=\"book_title\">토지</p>, <p id=\"book_title\">태백산맥</p>, <p id=\"book_title\">감옥으로부터의 사색</p>]\n",
      "[<p id=\"author\">박경리</p>, <p id=\"author\">조정래</p>, <p id=\"author\">신영복</p>]\n"
     ]
    }
   ],
   "source": [
    "# BeautifulSoup.find_all('태그', '속성') -> 해당되는 요소 모두 반환\n",
    "print(soup2.find_all('p', {'id':'book_title'}))\n",
    "print(soup2.find_all('p',{'id':'author'}))"
   ]
  },
  {
   "attachments": {},
   "cell_type": "markdown",
   "metadata": {},
   "source": [
    "- 책 제목과 작가를 포함한 요소를 각각 추출한 후에 텍스트(원하는데이터)만 뽑는 코드 "
   ]
  },
  {
   "cell_type": "code",
   "execution_count": 30,
   "metadata": {},
   "outputs": [
    {
     "name": "stdout",
     "output_type": "stream",
     "text": [
      "토지/박경리\n",
      "태백산맥/조정래\n",
      "감옥으로부터의 사색/신영복\n"
     ]
    }
   ],
   "source": [
    "soup3 = BeautifulSoup(html3, 'lxml')\n",
    "\n",
    "book_titles = soup3.find_all('p',{'id':'book_title'})\n",
    "authors = soup3.find_all('p',{'id':'author'})\n",
    "\n",
    "for book_title, author in zip(book_titles, authors) :\n",
    "    print(book_title.get_text() + '/' + author.get_text())"
   ]
  },
  {
   "attachments": {},
   "cell_type": "markdown",
   "metadata": {},
   "source": [
    "### CSS 선택자(selector) 이용 \n",
    "- css 선택자는 css에서 원하는 요소를 선택하는 것으로서 파이썬 뿐만 아니라 다른 프로그래밍 언어에서도 HTML 소스를 처리할 때 많이 이용\n",
    "- BeatifulSoup도 `BeutifulSoup.select('태그','속성')`을 통해 css선택자를 지원 \n",
    "- `BeutifulSoup.select('태그','속성')`의 인자로 '태그 및 속성'을 단계적으로 입력하면 원하는 요소 찾을 수 있음"
   ]
  },
  {
   "cell_type": "code",
   "execution_count": 31,
   "metadata": {},
   "outputs": [
    {
     "data": {
      "text/plain": [
       "[<h1>책 정보</h1>]"
      ]
     },
     "execution_count": 31,
     "metadata": {},
     "output_type": "execute_result"
    }
   ],
   "source": [
    "# html3 변수에 할당된 HTML 소스에서 body 태그 요소 내에 h1태그 요소를 가지고 오기 \n",
    "\n",
    "soup3.select('body h1')"
   ]
  },
  {
   "cell_type": "code",
   "execution_count": 33,
   "metadata": {},
   "outputs": [
    {
     "data": {
      "text/plain": [
       "[<p id=\"book_title\">토지</p>,\n",
       " <p id=\"author\">박경리</p>,\n",
       " <p id=\"book_title\">태백산맥</p>,\n",
       " <p id=\"author\">조정래</p>,\n",
       " <p id=\"book_title\">감옥으로부터의 사색</p>,\n",
       " <p id=\"author\">신영복</p>]"
      ]
     },
     "execution_count": 33,
     "metadata": {},
     "output_type": "execute_result"
    }
   ],
   "source": [
    "# body 태그 요소 중에 p태그를 포함한 요소를 모두 갖고 오기 \n",
    "\n",
    "soup3.select('body p')"
   ]
  },
  {
   "cell_type": "code",
   "execution_count": 34,
   "metadata": {},
   "outputs": [
    {
     "data": {
      "text/plain": [
       "[<p id=\"book_title\">토지</p>,\n",
       " <p id=\"author\">박경리</p>,\n",
       " <p id=\"book_title\">태백산맥</p>,\n",
       " <p id=\"author\">조정래</p>,\n",
       " <p id=\"book_title\">감옥으로부터의 사색</p>,\n",
       " <p id=\"author\">신영복</p>]"
      ]
     },
     "execution_count": 34,
     "metadata": {},
     "output_type": "execute_result"
    }
   ],
   "source": [
    "# 변수 html3의 HTML 소스에서 p 태그는 body 태그 요소 내에만 있음 -> body 안 써줘도 됨\n",
    "\n",
    "soup3.select('p')"
   ]
  },
  {
   "attachments": {},
   "cell_type": "markdown",
   "metadata": {},
   "source": [
    "태그 안의 속성과 속성값 이용 -> 요소를 세밀하게 구분하여 추출하기 \n",
    "- 태그 안의 속성이 class인 경우 -> '태그.class속성값' 입력\n",
    "- 태그 안의 속성이 id인 경우 -> '태그#id속성값' 입력"
   ]
  },
  {
   "cell_type": "code",
   "execution_count": 35,
   "metadata": {},
   "outputs": [
    {
     "data": {
      "text/plain": [
       "[<p id=\"book_title\">토지</p>,\n",
       " <p id=\"book_title\">태백산맥</p>,\n",
       " <p id=\"book_title\">감옥으로부터의 사색</p>]"
      ]
     },
     "execution_count": 35,
     "metadata": {},
     "output_type": "execute_result"
    }
   ],
   "source": [
    "soup3.select('p#book_title')"
   ]
  },
  {
   "cell_type": "code",
   "execution_count": 36,
   "metadata": {},
   "outputs": [
    {
     "data": {
      "text/plain": [
       "[<p id=\"author\">박경리</p>, <p id=\"author\">조정래</p>, <p id=\"author\">신영복</p>]"
      ]
     },
     "execution_count": 36,
     "metadata": {},
     "output_type": "execute_result"
    }
   ],
   "source": [
    "soup3.select('p#author')"
   ]
  },
  {
   "attachments": {},
   "cell_type": "markdown",
   "metadata": {},
   "source": [
    "`BeautifulSoup.select('태그/속성')` 에서 태그 안의 속성이 class인 경우\n",
    "- '태그.class속성값' 으로 원하는 요소 추출\n",
    "- HTML 소스 파일은 이미 저장돼 있으므로 텍스트 파일을 읽어와서 변수 html4에 할당하기 "
   ]
  },
  {
   "cell_type": "code",
   "execution_count": 37,
   "metadata": {},
   "outputs": [],
   "source": [
    "f = open('c:/my_web/myexam/HTML_example/HTML_example_my_site.html', encoding = 'utf-8')\n",
    "\n",
    "html5 = f.read()\n",
    "f.close()\n",
    "\n",
    "soup4 = BeautifulSoup(html5, 'lxml')"
   ]
  },
  {
   "cell_type": "code",
   "execution_count": 38,
   "metadata": {},
   "outputs": [
    {
     "data": {
      "text/plain": [
       "[<a class=\"portal\" href=\"http://www.naver.com\" id=\"naver\">네이버</a>,\n",
       " <a class=\"search\" href=\"https://www.google.com\" id=\"google\">구글</a>,\n",
       " <a class=\"portal\" href=\"http://www.daum.net\" id=\"daum\">다음</a>,\n",
       " <a class=\"government\" href=\"http://www.nl.go.kr\" id=\"nl\">국립중앙도서관</a>]"
      ]
     },
     "execution_count": 38,
     "metadata": {},
     "output_type": "execute_result"
    }
   ],
   "source": [
    "# 읽어온 HTML 소스에서 태그가 a인 요소를 모두 가져오기\n",
    "soup4.select('a')"
   ]
  },
  {
   "cell_type": "code",
   "execution_count": 39,
   "metadata": {},
   "outputs": [
    {
     "data": {
      "text/plain": [
       "[<a class=\"portal\" href=\"http://www.naver.com\" id=\"naver\">네이버</a>,\n",
       " <a class=\"portal\" href=\"http://www.daum.net\" id=\"daum\">다음</a>]"
      ]
     },
     "execution_count": 39,
     "metadata": {},
     "output_type": "execute_result"
    }
   ],
   "source": [
    "# HTML 소스에서 태그가 a이면서 class 속성값이 portal인 요소만 갖고오기\n",
    "\n",
    "soup4.select('a.portal')"
   ]
  },
  {
   "cell_type": "code",
   "execution_count": 42,
   "metadata": {},
   "outputs": [
    {
     "data": {
      "text/plain": [
       "[<a class=\"portal\" href=\"http://www.naver.com\" id=\"naver\">네이버</a>]"
      ]
     },
     "execution_count": 42,
     "metadata": {},
     "output_type": "execute_result"
    }
   ],
   "source": [
    "# a 태그를 포함하는 요소 중 id 속성이 'naver'인 요소 선택\n",
    "soup4.select('a#naver')"
   ]
  },
  {
   "cell_type": "code",
   "execution_count": null,
   "metadata": {},
   "outputs": [],
   "source": []
  }
 ],
 "metadata": {
  "kernelspec": {
   "display_name": "base",
   "language": "python",
   "name": "python3"
  },
  "language_info": {
   "codemirror_mode": {
    "name": "ipython",
    "version": 3
   },
   "file_extension": ".py",
   "mimetype": "text/x-python",
   "name": "python",
   "nbconvert_exporter": "python",
   "pygments_lexer": "ipython3",
   "version": "3.9.13 (main, Aug 25 2022, 23:51:50) [MSC v.1916 64 bit (AMD64)]"
  },
  "orig_nbformat": 4,
  "vscode": {
   "interpreter": {
    "hash": "d7288e82646d3164eca24130947288f8779d11454649f2c02a5dfc42af7f324c"
   }
  }
 },
 "nbformat": 4,
 "nbformat_minor": 2
}
