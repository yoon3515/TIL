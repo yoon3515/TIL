{
 "cells": [
  {
   "attachments": {},
   "cell_type": "markdown",
   "metadata": {},
   "source": [
    "# 1. 함수"
   ]
  },
  {
   "attachments": {},
   "cell_type": "markdown",
   "metadata": {},
   "source": [
    "1. 인수, 매개인자 사용법  <<위치 전용에 대한 함수>>"
   ]
  },
  {
   "attachments": {},
   "cell_type": "markdown",
   "metadata": {},
   "source": [
    "위치 : 함수 정의시 인수 맨 뒤에 / 를 이용하면 / 앞의 인수가 위치 전용 인수가 된다"
   ]
  },
  {
   "cell_type": "code",
   "execution_count": 1,
   "metadata": {},
   "outputs": [],
   "source": [
    "def test(a, b, c, /) : # 모든 매개인자가 (a, b, c) 위치 지정인자가 됨\n",
    "    print(f'a={a} b={b}, c={c}')\n",
    "    \n",
    "def test2(a, b, /, c) : # / 뒤에 나오는 변수(c) 는 keyword로 사용됨\n",
    "    print(f'a={a} b={b}, c={c}')\n",
    "    \n"
   ]
  },
  {
   "cell_type": "code",
   "execution_count": 12,
   "metadata": {},
   "outputs": [
    {
     "name": "stdout",
     "output_type": "stream",
     "text": [
      "a=10 b=20, c=30\n",
      "a=10 b=20, c=30\n"
     ]
    }
   ],
   "source": [
    "test(10, 20, 30) # 인자 위치에 맞춰서 순서대로 대입해야됨 \n",
    "# 만약 오류가 날 경우 Traceback에 의하여 TypeError가 생김\n",
    "\n",
    "test2(10, 20, c=30) # c는 키워드로 쓰임 \n",
    "# test(10, 20, c=30) --> 이렇게 하면 에러뜸 c는 키워드로 사용되지 않기 때문\n",
    "#my_fun01(a=1, b=2, c=3)호출해도 에러뜸 -> 뒤에 있는 변수(c)만 키워드 인수로 인식"
   ]
  },
  {
   "attachments": {},
   "cell_type": "markdown",
   "metadata": {},
   "source": [
    "2.  인수, 매개인자 사용법  <<키워드 전용에 대한 함수>>"
   ]
  },
  {
   "attachments": {},
   "cell_type": "markdown",
   "metadata": {},
   "source": [
    "키워드 : 함수를 정의할 때 * 를 이용 -> * 뒤에 오는 인수가 키워드 전용 인수가 됨"
   ]
  },
  {
   "cell_type": "code",
   "execution_count": 13,
   "metadata": {},
   "outputs": [],
   "source": [
    "def test3(a, b, *, c) : # 만약 my_fun(a, b, c, /) 이렇게 주면 모든 매개인자가 위치 지정인자가 됨\n",
    "    print(f'a={a}  b={b}  c={c}') "
   ]
  },
  {
   "cell_type": "code",
   "execution_count": 14,
   "metadata": {},
   "outputs": [
    {
     "name": "stdout",
     "output_type": "stream",
     "text": [
      "a=10  b=20  c=30\n"
     ]
    }
   ],
   "source": [
    "test3(10, 20, c=30)"
   ]
  },
  {
   "cell_type": "code",
   "execution_count": 21,
   "metadata": {},
   "outputs": [
    {
     "name": "stdout",
     "output_type": "stream",
     "text": [
      "a=10  b=20  c=30\n"
     ]
    }
   ],
   "source": [
    "# test3(10, c=30, 20) # -> 20이 어느 인수에 들어가는지 몰라서 에러가 뜨기 때문에 키워드 에러가 뜨면 인자를 명시해주기\n",
    "test3(10, c=30, b=20)"
   ]
  },
  {
   "cell_type": "code",
   "execution_count": 22,
   "metadata": {},
   "outputs": [
    {
     "name": "stdout",
     "output_type": "stream",
     "text": [
      "a=10  b=20  c=30\n"
     ]
    }
   ],
   "source": [
    "test3(c=30, a=10, b=20)"
   ]
  },
  {
   "attachments": {},
   "cell_type": "markdown",
   "metadata": {},
   "source": [
    "3. 인수, 매개인자 사용법  <<매개인자에 기본값(디폴트값)을 가진 함수>> "
   ]
  },
  {
   "attachments": {},
   "cell_type": "markdown",
   "metadata": {},
   "source": [
    "매개 변수 앞에 *args_복수의 튜플, **kwargs_dict 키워드를 선언"
   ]
  },
  {
   "cell_type": "code",
   "execution_count": 23,
   "metadata": {},
   "outputs": [],
   "source": [
    "def test4(a, b=1, c=100) : # 디폴트 값이 없는 매개인자 앞의 매개인자에 디폴트 값을 부여하면 에러가 뜸 \n",
    "                           # test4(1, b=2, c=3) ok / test4(a=1, b=2, c=3) ok\n",
    "                           # test4(a=1, 2, c=3) 에러뜸 --> 앞에 디폴트 값이 있으면 뒤에도 디폴트 값을 부여해야함\n",
    "    print(f'a={a}  b={b}  c={c}') \n",
    "    \n",
    "def test5(*a) : # *는 '모든'을 의미함 (= 0 or more : 없을 수도 있고 많을 수도 있음)\n",
    "    print(f'a={a}')\n",
    "    \n",
    "def test6(**kwargs) : \n",
    "    print(f'a={kwargs}')\n",
    "    \n",
    "def test7(a, b, *args, **kwargs) : \n",
    "    print(f'{a} {b} {args} {kwargs}')\n",
    "    \n"
   ]
  },
  {
   "cell_type": "code",
   "execution_count": 27,
   "metadata": {},
   "outputs": [
    {
     "name": "stdout",
     "output_type": "stream",
     "text": [
      "a=1  b=2  c=3\n",
      "a=(1, 2, 3, 4, 5)\n",
      "a={'a': 1, 'b': 2, 'c': 3, 'd': 4, 'e': 5}\n",
      "1 2 (3, 4, 5, 6) {'d': 1, 'e': 2, 'c': 3}\n"
     ]
    }
   ],
   "source": [
    "test4(1,2,3)\n",
    "test5(1,2,3,4,5)\n",
    "test6(a=1, b=2, c=3, d=4, e=5)\n",
    "test7(1,2,3,4,5,6,d=1, e=2, c=3) # 인자명이 a, b가 쓰이기 때문에 키값으로 a, b는 사용이 불가능함 \n",
    "                                 # 왜냐면 앞에서 a, b에 1, 2를 대입했기 때문 \n",
    "                                 # test7의 인자는 총 4개가 쓰이며 a, b에는 각각 차례대로 1,2가 대입됐으며 \n",
    "                                 ## 세 번째 인자에는 0개 이상인 3,4,5,6이 할당되고 \n",
    "                                 ### 네 번째 인자에는 키워드가 쓰인 인자가 한거번에 할당됨 \n",
    "                                 # * 표시는 0개 이상을 의미하기 때문"
   ]
  },
  {
   "attachments": {},
   "cell_type": "markdown",
   "metadata": {},
   "source": [
    "# 인수, 매개인자 사용법"
   ]
  },
  {
   "cell_type": "code",
   "execution_count": 28,
   "metadata": {},
   "outputs": [],
   "source": [
    "def test8(a, b, c) :\n",
    "    print(f'a={a}  b={b}  c={c}')\n",
    "\n",
    "def test9() :\n",
    "    pass # 제어문, 함수, 메소드, 예외처리구문, 클래스에 \"선언만 해놓을 경우\" 사용된다.\n",
    "\n",
    "def test10(x, y) :\n",
    "    print(f'x={x} y={y}')\n"
   ]
  },
  {
   "cell_type": "code",
   "execution_count": 36,
   "metadata": {},
   "outputs": [
    {
     "name": "stdout",
     "output_type": "stream",
     "text": [
      "a=1  b=2  c=3\n",
      "a=11  b=22  c=33\n",
      "a=100  b=200  c=300\n",
      "x=100 y=200\n",
      "x=1 y=2\n"
     ]
    }
   ],
   "source": [
    "my_list = [11, 22, 33]\n",
    "\n",
    "test8(1,2,3)\n",
    "test8(*my_list) # 튜플 / 리스트 객체에 *를 붙이면 위치매개인자로 간주되어 호출됨 (대신 인자개수와 리스트내의 인자 개수가 일치해야함)\n",
    "\n",
    "my_dict = {'a':100, 'b':200, 'c':300}  #인자와 키값을 동일시 해줘야 함\n",
    "test8(**my_dict)\n",
    "\n",
    "my_dict2 = {'x':100, 'y':200}\n",
    "test10(**my_dict2)\n",
    "\n",
    "test10(*[1,2])"
   ]
  },
  {
   "attachments": {},
   "cell_type": "markdown",
   "metadata": {},
   "source": [
    "4. 람다 (한 번 쓰고 버릴 함수, 일회용으로 쓰이는 함수) \\\n",
    "자주 쓸 함수를 만들 때 쓰지 않음"
   ]
  },
  {
   "cell_type": "code",
   "execution_count": 38,
   "metadata": {},
   "outputs": [
    {
     "name": "stdout",
     "output_type": "stream",
     "text": [
      "2\n"
     ]
    }
   ],
   "source": [
    "test11 = lambda a, b=1 : a+b\n",
    "print(test11(1))"
   ]
  },
  {
   "cell_type": "code",
   "execution_count": 39,
   "metadata": {},
   "outputs": [],
   "source": [
    "# 람다식 \n",
    "odd_even = lambda x : 'even' if x % 2 == 0 else 'odd'\n",
    "\n",
    "# 함수 \n",
    "def get_odd_even(x) :\n",
    "    if x % 2 == 0 :\n",
    "        return 'even'\n",
    "    else :\n",
    "        return 'odd'\n",
    "    "
   ]
  },
  {
   "cell_type": "code",
   "execution_count": 44,
   "metadata": {},
   "outputs": [
    {
     "name": "stdout",
     "output_type": "stream",
     "text": [
      "even\n",
      "odd\n"
     ]
    }
   ],
   "source": [
    "print(odd_even(4))\n",
    "print(get_odd_even(5))"
   ]
  },
  {
   "cell_type": "code",
   "execution_count": null,
   "metadata": {},
   "outputs": [],
   "source": []
  }
 ],
 "metadata": {
  "kernelspec": {
   "display_name": "base",
   "language": "python",
   "name": "python3"
  },
  "language_info": {
   "codemirror_mode": {
    "name": "ipython",
    "version": 3
   },
   "file_extension": ".py",
   "mimetype": "text/x-python",
   "name": "python",
   "nbconvert_exporter": "python",
   "pygments_lexer": "ipython3",
   "version": "3.9.13"
  },
  "orig_nbformat": 4
 },
 "nbformat": 4,
 "nbformat_minor": 2
}
