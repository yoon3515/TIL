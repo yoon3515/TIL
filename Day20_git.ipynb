{
 "cells": [
  {
   "attachments": {},
   "cell_type": "markdown",
   "metadata": {},
   "source": [
    "# 포털사이트(네이버) 크롤링 \n",
    "- 소스내에서 특정 문자열(data)을 지정하는 선택자 얻기 \n",
    "    - 사이트 오른쪽 마우스 -> 개발자도구 사용 \n",
    "- 전체 코드에서 수집하려고 하는 데이터(태그)의 위치 찾고 -> 태그 파싱(구조화)후 -> 필요 데이터추출 "
   ]
  },
  {
   "cell_type": "code",
   "execution_count": 2,
   "metadata": {},
   "outputs": [],
   "source": [
    "from urllib.request import urlopen # 서버 요청(request) / 응답(response) 패키지 호출 \n",
    "import bs4 # 파싱(구조화) 패키지"
   ]
  },
  {
   "cell_type": "code",
   "execution_count": 6,
   "metadata": {},
   "outputs": [],
   "source": [
    "# 네이버 사이트의 기본 메뉴 문구 추출\n",
    "url = 'https://www.naver.com'\n",
    "html = urlopen(url)\n",
    "\n",
    "# 구조화 \n",
    "bs_obj = bs4.BeautifulSoup(html, 'html.parser') "
   ]
  },
  {
   "cell_type": "code",
   "execution_count": 10,
   "metadata": {},
   "outputs": [
    {
     "name": "stdout",
     "output_type": "stream",
     "text": [
      "<class 'bs4.element.Tag'>\n"
     ]
    }
   ],
   "source": [
    "# 상단 메뉴 뽑아오기 \n",
    "test_menu = bs_obj.find('div', {'id':'gnb'})\n",
    "\n",
    "# 상단 메뉴 중 왼쪽 부분에 해당하는 매뉴들 \n",
    "# find는 추출되는 타입 = element 임 \n",
    "ul = bs_obj.find('ul', {'class':'list_nav type_fix'})\n",
    "# 위의 코드를 select로 가져오기\n",
    "ul_test = bs_obj.select('#NM_FAVORITE > div.group_nav > ul.list_nav.type_fix')\n",
    "\n",
    "print(type(ul))"
   ]
  },
  {
   "cell_type": "code",
   "execution_count": 11,
   "metadata": {},
   "outputs": [
    {
     "name": "stdout",
     "output_type": "stream",
     "text": [
      "\n",
      "\n",
      "<li class=\"nav_item\">\n",
      "<a class=\"nav\" data-clk=\"svc.mail\" href=\"https://mail.naver.com/\"><i class=\"ico_mail\"></i>메일</a>\n",
      "</li>\n",
      "\n",
      "\n",
      "<li class=\"nav_item\"><a class=\"nav\" data-clk=\"svc.cafe\" href=\"https://section.cafe.naver.com/\">카페</a></li>\n",
      "\n",
      "\n",
      "<li class=\"nav_item\"><a class=\"nav\" data-clk=\"svc.blog\" href=\"https://section.blog.naver.com/\">블로그</a></li>\n",
      "\n",
      "\n",
      "<li class=\"nav_item\"><a class=\"nav\" data-clk=\"svc.kin\" href=\"https://kin.naver.com/\">지식iN</a></li>\n",
      "\n",
      "\n",
      "<li class=\"nav_item\"><a class=\"nav shop\" data-clk=\"svc.shopping\" href=\"https://shopping.naver.com/\"><span class=\"blind\">쇼핑</span></a></li>\n",
      "\n",
      "\n",
      "<li class=\"nav_item\"><a class=\"nav shoplive\" data-clk=\"svc.shoppinglive\" href=\"https://shoppinglive.naver.com/home\"><span class=\"blind\">쇼핑LIVE</span></a></li>\n",
      "\n",
      "\n",
      "<li class=\"nav_item\"><a class=\"nav\" data-clk=\"svc.pay\" href=\"https://order.pay.naver.com/home\">Pay</a></li>\n",
      "\n",
      "\n",
      "<li class=\"nav_item\">\n",
      "<a class=\"nav\" data-clk=\"svc.tvcast\" href=\"https://tv.naver.com/\"><i class=\"ico_tv\"></i>TV</a>\n",
      "</li>\n",
      "\n",
      "\n"
     ]
    }
   ],
   "source": [
    "# 왼쪽 매뉴 하나씩 뽑아내기 -> for 문 사용 \n",
    "for u in ul:\n",
    "    print(u)"
   ]
  },
  {
   "cell_type": "code",
   "execution_count": 12,
   "metadata": {},
   "outputs": [
    {
     "name": "stdout",
     "output_type": "stream",
     "text": [
      "https://mail.naver.com/\n",
      "\n",
      "메일\n",
      "\n",
      "https://section.cafe.naver.com/\n",
      "카페\n",
      "https://section.blog.naver.com/\n",
      "블로그\n",
      "https://kin.naver.com/\n",
      "지식iN\n",
      "https://shopping.naver.com/\n",
      "쇼핑\n",
      "https://shoppinglive.naver.com/home\n",
      "쇼핑LIVE\n",
      "https://order.pay.naver.com/home\n",
      "Pay\n",
      "https://tv.naver.com/\n",
      "\n",
      "TV\n",
      "\n"
     ]
    }
   ],
   "source": [
    "lis = ul.findAll('li') # 리스트에 담기 \n",
    "for li in lis :\n",
    "    print(li.find('a')['href']) # 해당 매뉴의 url 담기 \n",
    "    print(li.text) # 해당 매뉴 이름 뽑기 "
   ]
  },
  {
   "cell_type": "code",
   "execution_count": null,
   "metadata": {},
   "outputs": [],
   "source": []
  }
 ],
 "metadata": {
  "kernelspec": {
   "display_name": "base",
   "language": "python",
   "name": "python3"
  },
  "language_info": {
   "codemirror_mode": {
    "name": "ipython",
    "version": 3
   },
   "file_extension": ".py",
   "mimetype": "text/x-python",
   "name": "python",
   "nbconvert_exporter": "python",
   "pygments_lexer": "ipython3",
   "version": "3.9.13 (main, Aug 25 2022, 23:51:50) [MSC v.1916 64 bit (AMD64)]"
  },
  "orig_nbformat": 4,
  "vscode": {
   "interpreter": {
    "hash": "d7288e82646d3164eca24130947288f8779d11454649f2c02a5dfc42af7f324c"
   }
  }
 },
 "nbformat": 4,
 "nbformat_minor": 2
}
