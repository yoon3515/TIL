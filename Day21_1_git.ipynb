{
 "cells": [
  {
   "attachments": {},
   "cell_type": "markdown",
   "metadata": {},
   "source": [
    "# 음원차트 웹 크롤링 - 멜론, 지니, 벅스 "
   ]
  },
  {
   "cell_type": "code",
   "execution_count": 2,
   "metadata": {},
   "outputs": [
    {
     "name": "stderr",
     "output_type": "stream",
     "text": [
      "C:\\Users\\holly\\AppData\\Local\\Temp\\ipykernel_12328\\1234582431.py:8: DeprecationWarning: executable_path has been deprecated, please pass in a Service object\n",
      "  driver = webdriver.Chrome('c:/my_web/chromedriver/chromedriver.exe')\n"
     ]
    }
   ],
   "source": [
    "import threading \n",
    "import pandas as pd\n",
    "from selenium.webdriver.common.by import By\n",
    "from selenium import webdriver \n",
    "from bs4 import BeautifulSoup as bs \n",
    "\n",
    "# 드라이버 실행\n",
    "driver = webdriver.Chrome('c:/my_web/chromedriver/chromedriver.exe') "
   ]
  },
  {
   "attachments": {},
   "cell_type": "markdown",
   "metadata": {},
   "source": [
    "## 1. melon"
   ]
  },
  {
   "cell_type": "code",
   "execution_count": 5,
   "metadata": {},
   "outputs": [
    {
     "name": "stdout",
     "output_type": "stream",
     "text": [
      "<class 'bs4.element.ResultSet'>\n",
      "100\n",
      "<class 'bs4.element.Tag'>\n",
      "27\n"
     ]
    },
    {
     "data": {
      "text/plain": [
       "<tr class=\"lst50\" data-song-no=\"35945927\" id=\"lst50\">\n",
       "<td><div class=\"wrap t_right\"><input class=\"input_check\" name=\"input_check\" title=\"Ditto 곡 선택\" type=\"checkbox\" value=\"35945927\"/></div></td>\n",
       "<td><div class=\"wrap t_center\"><span class=\"rank\">1</span><span class=\"none\">위</span></div></td>\n",
       "<!-- 차트순위 추가 -->\n",
       "<td><div class=\"wrap\">\n",
       "<span class=\"rank_wrap\" title=\"순위 동일\">\n",
       "<span class=\"bullet_icons rank_static\"><span class=\"none\">순위 동일</span></span>\n",
       "<span class=\"none\">0</span>\n",
       "</span>\n",
       "</div></td>\n",
       "<td><div class=\"wrap\">\n",
       "<a class=\"image_typeAll\" href=\"javascript:melon.link.goAlbumDetail('11127145');\" title=\"NewJeans 'OMG'\">\n",
       "<img alt=\"NewJeans 'OMG' - 페이지 이동\" height=\"60\" onerror=\"WEBPOCIMG.defaultAlbumImg(this);\" src=\"https://cdnimg.melon.co.kr/cm2/album/images/111/27/145/11127145_20230102135733_500.jpg/melon/resize/120/quality/80/optimize\" width=\"60\"/>\n",
       "<span class=\"bg_album_frame\"></span>\n",
       "</a>\n",
       "</div></td>\n",
       "<td><div class=\"wrap\">\n",
       "<a class=\"btn button_icons type03 song_info\" href=\"javascript:melon.link.goSongDetail('35945927');\" title=\"Ditto 곡정보\"><span class=\"none\">곡정보</span></a>\n",
       "</div></td>\n",
       "<td><div class=\"wrap\">\n",
       "<div class=\"wrap_song_info\">\n",
       "<div class=\"ellipsis rank01\"><span>\n",
       "<a href=\"javascript:melon.play.playSong('1000002721',35945927);\" title=\"Ditto 재생\">Ditto</a>\n",
       "</span></div><br/>\n",
       "<div class=\"ellipsis rank02\">\n",
       "<a href=\"javascript:melon.link.goArtistDetail('3114174');\" title=\"NewJeans - 페이지 이동\">NewJeans</a><span class=\"checkEllipsis\" style=\"display: none;\"><a href=\"javascript:melon.link.goArtistDetail('3114174');\" title=\"NewJeans - 페이지 이동\">NewJeans</a></span>\n",
       "</div>\n",
       "</div>\n",
       "</div></td>\n",
       "<td><div class=\"wrap\">\n",
       "<div class=\"wrap_song_info\">\n",
       "<div class=\"ellipsis rank03\">\n",
       "<a href=\"javascript:melon.link.goAlbumDetail('11127145');\" title=\"NewJeans 'OMG' - 페이지 이동\">NewJeans 'OMG'</a>\n",
       "</div>\n",
       "</div>\n",
       "</div></td>\n",
       "<td><div class=\"wrap\">\n",
       "<button class=\"button_etc like\" data-song-menuid=\"1000002721\" data-song-no=\"35945927\" title=\"Ditto 좋아요\" type=\"button\"><span class=\"odd_span\">좋아요</span>\n",
       "<span class=\"cnt\">\n",
       "<span class=\"none\">총건수</span>\n",
       "191,173</span></button>\n",
       "</div></td>\n",
       "<td><div class=\"wrap t_center\">\n",
       "<button class=\"button_icons play\" onclick=\"melon.play.playSong('1000002721',35945927);\" title=\"듣기\" type=\"button\"><span class=\"none\">듣기</span></button>\n",
       "</div></td>\n",
       "<td><div class=\"wrap t_center\">\n",
       "<button class=\"button_icons scrap\" onclick=\"melon.play.addPlayList('35945927');\" title=\"담기\" type=\"button\"><span class=\"none\">담기</span></button>\n",
       "</div></td>\n",
       "<td><div class=\"wrap t_center\">\n",
       "<button class=\"button_icons download\" onclick=\"melon.buy.goBuyProduct('frm', '35945927', '3C0001', '','0', '1000002721');\" title=\"다운로드\" type=\"button\"><span class=\"none\">다운로드</span></button>\n",
       "</div></td>\n",
       "<td><div class=\"wrap t_center\">\n",
       "<button class=\"button_icons video\" onclick=\"melon.link.goMvDetail('1000002721', '35945927','song');\" title=\"뮤직비디오\" type=\"button\"><span class=\"none\">뮤직비디오</span></button>\n",
       "</div></td>\n",
       "</tr>"
      ]
     },
     "execution_count": 5,
     "metadata": {},
     "output_type": "execute_result"
    }
   ],
   "source": [
    "#response\n",
    "driver.get('https://www.melon.com/chart/index.htm')\n",
    "html = driver.page_source\n",
    "soup = bs(html, 'html.parser')\n",
    "melon_ch = soup.select('form#frm > div.d_song_list > table > tbody > tr')\n",
    "sample = melon_ch[0]\n",
    "print(type(melon_ch)) # <class 'bs4.element.ResultSet'>\n",
    "print(len(melon_ch))\n",
    "print(type(sample))\n",
    "print(len(sample))\n",
    "melon_ch[0]"
   ]
  },
  {
   "cell_type": "code",
   "execution_count": 10,
   "metadata": {},
   "outputs": [
    {
     "name": "stdout",
     "output_type": "stream",
     "text": [
      "NewJeans\n",
      "Ditto\n"
     ]
    }
   ],
   "source": [
    "# 필요 데이터 확인 (가수, 제목)\n",
    "\n",
    "# 가수\n",
    "singer = sample.select('div.rank02 > a')[0].text\n",
    "print(singer)\n",
    "\n",
    "# 제목\n",
    "title = sample.select('div.rank01 > span > a')[0].text\n",
    "print(title)"
   ]
  },
  {
   "cell_type": "code",
   "execution_count": 13,
   "metadata": {},
   "outputs": [],
   "source": [
    "# 반복문\n",
    "melon_chart = []\n",
    "rank = 1\n",
    "for sample in melon_ch :\n",
    "    singer = sample.select('div.rank02 > a')[0].text\n",
    "    title = sample.select('div.rank01 > span > a')[0].text\n",
    "    melon_chart.append(['Melon', rank, singer, title])\n",
    "    rank += 1\n",
    "    \n",
    "# 저장 \n",
    "melon_df = pd.DataFrame(melon_chart)\n",
    "melon_df.columns = ['Server', 'Rank', 'Singer', 'Title']\n",
    "melon_df.to_excel('c:/my_web/myexam/melon.xlsx', index=False)    "
   ]
  },
  {
   "attachments": {},
   "cell_type": "markdown",
   "metadata": {},
   "source": [
    "## 2. Bugs"
   ]
  },
  {
   "cell_type": "code",
   "execution_count": 16,
   "metadata": {},
   "outputs": [
    {
     "name": "stdout",
     "output_type": "stream",
     "text": [
      "<class 'bs4.element.ResultSet'>\n",
      "100\n",
      "<class 'bs4.element.Tag'>\n",
      "31\n"
     ]
    },
    {
     "data": {
      "text/plain": [
       "<tr albumid=\"4082425\" artistid=\"20164333\" multiartist=\"N\" mvid=\"613861\" rowtype=\"track\" trackid=\"6184997\">\n",
       "<input name=\"_isStream\" type=\"hidden\" value=\"6184997\"/>\n",
       "<input name=\"_isDown\" type=\"hidden\" value=\"6184997\"/>\n",
       "<td class=\"check\"><input buyminquality=\"T\" disc_id=\"1\" name=\"check\" title=\"Ditto\" type=\"checkbox\" value=\"6184997\"/></td>\n",
       "<td>\n",
       "<div class=\"ranking\">\n",
       "<strong>1</strong>\n",
       "<p class=\"change none\"><em>0</em><span>변동없음</span></p>\n",
       "</div>\n",
       "</td>\n",
       "<td>\n",
       "<a class=\"thumbnail\" href=\"https://music.bugs.co.kr/album/4082425?wl_ref=list_tr_07_chart\" onclick=\"\n",
       "\">\n",
       "<span class=\"mask\"></span>\n",
       "<img alt=\"NewJeans 'OMG' 대표이미지\" onerror=\"bugs.utils.imgError(this);\" src=\"https://image.bugsm.co.kr/album/images/50/40824/4082425.jpg?version=20230105002539.0\"/>\n",
       "</a>\n",
       "</td>\n",
       "<td>\n",
       "<a class=\"trackInfo\" href=\"https://music.bugs.co.kr/track/6184997?wl_ref=list_tr_08_chart\" onclick=\"\n",
       "\">곡정보</a>\n",
       "</td>\n",
       "<th scope=\"row\">\n",
       "<p adult_yn=\"N\" class=\"title\">\n",
       "<a adultcheckval=\"1\" aria-label=\"새창\" href=\"javascript:;\" onclick=\"bugs.wiselog.area('list_tr_09_chart');bugs.music.listen('6184997',true);\n",
       "\" title=\"Ditto\">Ditto</a>\n",
       "</p>\n",
       "</th>\n",
       "<td class=\"left\">\n",
       "<p class=\"artist\">\n",
       "<a href=\"https://music.bugs.co.kr/artist/20164333?wl_ref=list_tr_10_chart\" onclick=\"\n",
       "\" title=\"NewJeans\">NewJeans</a>\n",
       "</p>\n",
       "</td>\n",
       "<td class=\"left\">\n",
       "<a class=\"album\" href=\"https://music.bugs.co.kr/album/4082425?wl_ref=list_tr_11_chart\" onclick=\"\n",
       "\" title=\"NewJeans 'OMG'\">NewJeans 'OMG'</a>\n",
       "</td>\n",
       "<td>\n",
       "<a adultcheckval=\"1\" aria-label=\"새창\" class=\"btn play\" href=\"javascript:;\" onclick=\"bugs.wiselog.area('list_tr_12_chart');bugs.music.listen('6184997',true);\n",
       "\">듣기</a>\n",
       "</td>\n",
       "<td>\n",
       "<a adultcheckval=\"1\" aria-label=\"새창\" class=\"btn addPlaylist\" href=\"javascript:;\" onclick=\"bugs.wiselog.area('list_tr_13_chart');bugs.music.listen('6184997');\n",
       "\">재생목록에 추가</a>\n",
       "</td>\n",
       "<td>\n",
       "<a class=\"btn addAlbum\" href=\"javascript:;\" onclick=\"bugs.wiselog.area('list_tr_14_chart');bugs.music.addTrackToMyAlbum(this,'6184997');\n",
       "\" track_title=\"Ditto\">내 앨범에 담기</a>\n",
       "</td>\n",
       "<td>\n",
       "<a adultcheckval=\"1\" aria-label=\"새창\" class=\"btn download flac\" href=\"javascript:;\" onclick=\"bugs.wiselog.area('list_tr_15_chart');bugs.layermenu.down(this,'6184997','true','true','44.1','true','44.1', null );\n",
       "\"><em class=\"flac\">flac </em>다운로드</a>\n",
       "</td>\n",
       "<td>\n",
       "<a aria-label=\"새창\" class=\"btn viewMV\" href=\"javascript:;\" onclick=\"bugs.wiselog.area('list_tr_16_chart');\n",
       "bugs.layermenu.mv(this,6184997, 613861, 'Y', 'Y', 'Y', 'Y', 6184997, 'N','ALL', 'Y');\n",
       "\">영상 재생</a>\n",
       "</td>\n",
       "<td>\n",
       "<a artist_disp_nm=\"NewJeans\" artist_id=\"20164333\" class=\"btnActions\" href=\"javascript:;\" layer_type=\"CHART\" layerpositiontarget=\"td\" onclick=\"bugs.wiselog.area('list_tr_17_chart');\n",
       "bugs.layermenu.trackMoreAction(this,'6184997','0','4082425','bugs.music.listenRadioFromSeed(\\'6184997\\',\\'track\\');','N', 'Y', '_chart');\n",
       "\" track_title=\"Ditto\">기타 기능</a>\n",
       "</td>\n",
       "</tr>"
      ]
     },
     "execution_count": 16,
     "metadata": {},
     "output_type": "execute_result"
    }
   ],
   "source": [
    "# response\n",
    "driver.get('https://music.bugs.co.kr/chart')\n",
    "html = driver.page_source\n",
    "soup = bs(html, 'html.parser')\n",
    "bugs_ch = soup.select(' table.byChart > tbody > tr')\n",
    "sample2 = bugs_ch[0]\n",
    "print(type(bugs_ch)) # <class 'bs4.element.ResultSet'>\n",
    "print(len(bugs_ch))\n",
    "print(type(sample2)) # <class 'bs4.element.Tag'>\n",
    "print(len(sample2))\n",
    "sample2"
   ]
  },
  {
   "cell_type": "code",
   "execution_count": 19,
   "metadata": {},
   "outputs": [
    {
     "name": "stdout",
     "output_type": "stream",
     "text": [
      "NewJeans\n",
      "Ditto\n"
     ]
    }
   ],
   "source": [
    "# 필요한 데이터 확인해보기 \n",
    "\n",
    "# 가수 \n",
    "singer = sample2.select('td.left > p.artist > a')[0].text\n",
    "print(singer)\n",
    "\n",
    "# 제목\n",
    "title = sample2.select('th > p.title > a')[0].text\n",
    "print(title)"
   ]
  },
  {
   "cell_type": "code",
   "execution_count": 35,
   "metadata": {},
   "outputs": [
    {
     "name": "stdout",
     "output_type": "stream",
     "text": [
      "<class 'pandas.core.frame.DataFrame'>\n",
      "RangeIndex: 100 entries, 0 to 99\n",
      "Data columns (total 4 columns):\n",
      " #   Column  Non-Null Count  Dtype \n",
      "---  ------  --------------  ----- \n",
      " 0   Server  100 non-null    object\n",
      " 1   Rank    100 non-null    int64 \n",
      " 2   Singer  100 non-null    object\n",
      " 3   Title   100 non-null    object\n",
      "dtypes: int64(1), object(3)\n",
      "memory usage: 3.2+ KB\n"
     ]
    }
   ],
   "source": [
    "# 반복문 생성 \n",
    "\n",
    "bugs_chart = []\n",
    "rank = 1\n",
    "for sample in bugs_ch : \n",
    "    singer = sample.select('td.left > p.artist > a')[0].text\n",
    "    title = sample.select('th > p.title > a')[0].text\n",
    "    bugs_chart.append(['Bugs', rank, singer, title])\n",
    "    rank += 1\n",
    "\n",
    "# 저장 \n",
    "df1 = pd.DataFrame(bugs_chart)\n",
    "df1.columns = ['Server', 'Rank', 'Singer', 'Title']\n",
    "df1.to_excel('c:/my_web/myexam/bugs.xlsx', index=False) \n",
    "df1.info()"
   ]
  },
  {
   "attachments": {},
   "cell_type": "markdown",
   "metadata": {},
   "source": [
    "## Genie"
   ]
  },
  {
   "cell_type": "code",
   "execution_count": 23,
   "metadata": {},
   "outputs": [
    {
     "name": "stdout",
     "output_type": "stream",
     "text": [
      "<class 'bs4.element.ResultSet'>\n",
      "50\n",
      "<class 'bs4.element.Tag'>\n",
      "23\n"
     ]
    },
    {
     "data": {
      "text/plain": [
       "<tr class=\"list\" songid=\"99570005\">\n",
       "<td class=\"check\"><input class=\"select-check\" title=\"Ditto\" type=\"checkbox\"/></td>\n",
       "<td class=\"number\">1\n",
       "                                        \n",
       "                                    <span class=\"rank\">\n",
       "<span class=\"rank\"><span class=\"rank-none\"><span class=\"hide\">유지</span></span></span>\n",
       "</span>\n",
       "</td>\n",
       "<td><a class=\"cover\" href=\"#\" onclick=\"fnViewAlbumLayer('83325577');return false;\"><span class=\"mask\"></span><img alt=\"NewJeans 'OMG'\" onerror=\"this.src='//image.genie.co.kr/imageg/web/common/blank_68.gif';\" src=\"//image.genie.co.kr/Y/IMAGE/IMG_ALBUM/083/325/577/83325577_1672649874616_1_140x140.JPG/dims/resize/Q_80,0\"/></a></td>\n",
       "<td class=\"link\"><a class=\"btn-basic btn-info\" href=\"#\" onclick=\"fnViewSongInfo('99570005');return false;\">곡 제목 정보 페이지</a></td>\n",
       "<td class=\"info\">\n",
       "<a class=\"title ellipsis\" href=\"#\" onclick=\"fnPlaySong('99570005','1');return false;\" title=\"재생\">\n",
       "                                        \n",
       "                                            \n",
       "                                        \n",
       "                                        \n",
       "                                        \n",
       "                                        \n",
       "                                            \n",
       "                                                Ditto</a>\n",
       "<a class=\"artist ellipsis\" href=\"#\" onclick=\"fnViewArtist('81490206');return false;\">NewJeans</a>\n",
       "<div class=\"toggle-button-box\">\n",
       "<button class=\"btn artist-etc\" onclick=\"fnRelationArtistList('99570005');\" type=\"button\">외</button>\n",
       "<ul class=\"list\" id=\"RelationArtist_99570005\"></ul>\n",
       "</div>\n",
       "<i class=\"bar\">|</i>\n",
       "<a class=\"albumtitle ellipsis\" href=\"#\" onclick=\"fnViewAlbumLayer('83325577');return false;\">NewJeans 'OMG'</a>\n",
       "</td>\n",
       "<td class=\"btns\"><a class=\"btn-basic btn-listen\" href=\"#\" onclick=\"fnPlaySong('99570005;' ,'1'); return false;\" title=\"재생\">듣기</a></td>\n",
       "<td class=\"btns\"><a class=\"btn-basic btn-add\" href=\"#\" onclick=\"fnPlaySong('99570005;' ,'3'); return false;\" title=\"추가\">재생목록에 추가</a></td>\n",
       "<td class=\"btns\"><button class=\"btn-basic btn-album\" id=\"add_my_album_99570005\" onclick=\"fnAddMyAlbumForm('#add_my_album_99570005' , '99570005' ,10, 10);return false;\" songid=\"99570005\" type=\"button\">플레이리스트에 담기</button></td>\n",
       "<td class=\"btns\"><a class=\"btn-basic btn-down\" href=\"#\" onclick=\"fnDownSong('99570005');return false;\" title=\"다운\">다운로드</a></td>\n",
       "<td class=\"btns\">\n",
       "<div class=\"toggle-button-box lyr-mv\" id=\"list-mv_99570005\">\n",
       "<a alt=\"Ditto\" class=\"btn btn-basic btn-mv\" href=\"#\" onclick=\"fnPlayMv('99570005','3'); return false;\" title=\"뮤비\">뮤직비디오 보기</a>\n",
       "</div>\n",
       "</td>\n",
       "<td class=\"more\">\n",
       "<div class=\"toggle-button-box\">\n",
       "<button class=\"btn btn-basic btn-more\" type=\"button\">더보기</button>\n",
       "<ul class=\"list\">\n",
       "<li><a class=\"item\" href=\"#\" onclick=\"shareDo('99570005');return false;\" title=\"공유\">공유하기/음악나누기</a></li>\n",
       "<li><a class=\"item\" href=\"#\" onclick=\"fnGiftSong('99570005');return false;\" title=\"선물\">선물하기</a></li>\n",
       "</ul>\n",
       "</div>\n",
       "</td>\n",
       "</tr>"
      ]
     },
     "execution_count": 23,
     "metadata": {},
     "output_type": "execute_result"
    }
   ],
   "source": [
    "# response\n",
    "driver.get('https://www.genie.co.kr/chart/top200')\n",
    "genie_html = driver.page_source\n",
    "genie_soup = bs(genie_html, 'html.parser')\n",
    "genie_ch = genie_soup.select('table.list-wrap > tbody > tr.list')\n",
    "sample3 = genie_ch[0]\n",
    "print(type(genie_ch)) # <class 'bs4.element.ResultSet'>\n",
    "print(len(genie_ch))\n",
    "print(type(sample3)) # <class 'bs4.element.Tag'>\n",
    "print(len(sample3))\n",
    "sample3\n"
   ]
  },
  {
   "cell_type": "code",
   "execution_count": 28,
   "metadata": {},
   "outputs": [
    {
     "name": "stdout",
     "output_type": "stream",
     "text": [
      "NewJeans\n",
      "Ditto\n"
     ]
    }
   ],
   "source": [
    "# 필요한 데이터 확인 \n",
    "\n",
    "# 가수 \n",
    "singer = sample3.select('td.info > a.artist.ellipsis')[0].text\n",
    "print(singer)\n",
    "\n",
    "# 제목\n",
    "title = sample3.select('td.info > a.title.ellipsis')[0].text.strip()\n",
    "print(title)\n"
   ]
  },
  {
   "cell_type": "code",
   "execution_count": 38,
   "metadata": {},
   "outputs": [
    {
     "name": "stdout",
     "output_type": "stream",
     "text": [
      "(100, 4)\n",
      "<class 'pandas.core.frame.DataFrame'>\n",
      "RangeIndex: 100 entries, 0 to 99\n",
      "Data columns (total 4 columns):\n",
      " #   Column  Non-Null Count  Dtype \n",
      "---  ------  --------------  ----- \n",
      " 0   Server  100 non-null    object\n",
      " 1   Rank    100 non-null    int64 \n",
      " 2   Singer  100 non-null    object\n",
      " 3   Title   100 non-null    object\n",
      "dtypes: int64(1), object(3)\n",
      "memory usage: 3.2+ KB\n",
      "None\n"
     ]
    }
   ],
   "source": [
    "# 두 페이지 웹크롤링\n",
    "import time \n",
    "\n",
    "genie_chart = []\n",
    "rank = 1\n",
    "for page in range(1,3) :\n",
    "    url = f'https://www.genie.co.kr/chart/top200?ditc=D&ymd=20230121&hh=23&rtm=Y&pg={page}'\n",
    "    driver.get(url)\n",
    "    html = driver.page_source\n",
    "    soup = bs(html, 'html.parser')\n",
    "    charts = soup.select('table.list-wrap > tbody > tr.list')\n",
    "    for chart in charts :\n",
    "        singer = chart.select('td.info > a.artist.ellipsis')[0].text\n",
    "        title = chart.select('td.info > a.title.ellipsis')[0].text.strip()\n",
    "        data = ['Genie', rank, singer, title]\n",
    "        genie_chart.append(data)\n",
    "\n",
    "# 저장 \n",
    "df2 = pd.DataFrame(genie_chart)\n",
    "df2.columns = ['Server', 'Rank', 'Singer', 'Title']\n",
    "print(df2.shape)\n",
    "df2.to_excel('c:/my_web/myexam/genie.xlsx', index=False)\n",
    "print(df2.info())"
   ]
  },
  {
   "attachments": {},
   "cell_type": "markdown",
   "metadata": {},
   "source": [
    "## 4. DF 합치기"
   ]
  },
  {
   "cell_type": "code",
   "execution_count": 39,
   "metadata": {},
   "outputs": [
    {
     "name": "stdout",
     "output_type": "stream",
     "text": [
      "<class 'pandas.core.frame.DataFrame'>\n",
      "Int64Index: 300 entries, 0 to 99\n",
      "Data columns (total 4 columns):\n",
      " #   Column  Non-Null Count  Dtype \n",
      "---  ------  --------------  ----- \n",
      " 0   Server  300 non-null    object\n",
      " 1   Rank    300 non-null    int64 \n",
      " 2   Singer  300 non-null    object\n",
      " 3   Title   300 non-null    object\n",
      "dtypes: int64(1), object(3)\n",
      "memory usage: 11.7+ KB\n",
      "None\n"
     ]
    },
    {
     "name": "stderr",
     "output_type": "stream",
     "text": [
      "C:\\Users\\holly\\AppData\\Local\\Temp\\ipykernel_12328\\627453662.py:6: FutureWarning: The frame.append method is deprecated and will be removed from pandas in a future version. Use pandas.concat instead.\n",
      "  appended_data = appended_data.append(pd_data)\n",
      "C:\\Users\\holly\\AppData\\Local\\Temp\\ipykernel_12328\\627453662.py:6: FutureWarning: The frame.append method is deprecated and will be removed from pandas in a future version. Use pandas.concat instead.\n",
      "  appended_data = appended_data.append(pd_data)\n",
      "C:\\Users\\holly\\AppData\\Local\\Temp\\ipykernel_12328\\627453662.py:6: FutureWarning: The frame.append method is deprecated and will be removed from pandas in a future version. Use pandas.concat instead.\n",
      "  appended_data = appended_data.append(pd_data)\n"
     ]
    },
    {
     "data": {
      "text/html": [
       "<div>\n",
       "<style scoped>\n",
       "    .dataframe tbody tr th:only-of-type {\n",
       "        vertical-align: middle;\n",
       "    }\n",
       "\n",
       "    .dataframe tbody tr th {\n",
       "        vertical-align: top;\n",
       "    }\n",
       "\n",
       "    .dataframe thead th {\n",
       "        text-align: right;\n",
       "    }\n",
       "</style>\n",
       "<table border=\"1\" class=\"dataframe\">\n",
       "  <thead>\n",
       "    <tr style=\"text-align: right;\">\n",
       "      <th></th>\n",
       "      <th>Server</th>\n",
       "      <th>Rank</th>\n",
       "      <th>Singer</th>\n",
       "      <th>Title</th>\n",
       "    </tr>\n",
       "  </thead>\n",
       "  <tbody>\n",
       "    <tr>\n",
       "      <th>0</th>\n",
       "      <td>Melon</td>\n",
       "      <td>1</td>\n",
       "      <td>NewJeans</td>\n",
       "      <td>Ditto</td>\n",
       "    </tr>\n",
       "    <tr>\n",
       "      <th>1</th>\n",
       "      <td>Melon</td>\n",
       "      <td>2</td>\n",
       "      <td>NewJeans</td>\n",
       "      <td>OMG</td>\n",
       "    </tr>\n",
       "    <tr>\n",
       "      <th>2</th>\n",
       "      <td>Melon</td>\n",
       "      <td>3</td>\n",
       "      <td>NewJeans</td>\n",
       "      <td>Hype boy</td>\n",
       "    </tr>\n",
       "    <tr>\n",
       "      <th>3</th>\n",
       "      <td>Melon</td>\n",
       "      <td>4</td>\n",
       "      <td>윤하 (YOUNHA)</td>\n",
       "      <td>사건의 지평선</td>\n",
       "    </tr>\n",
       "    <tr>\n",
       "      <th>4</th>\n",
       "      <td>Melon</td>\n",
       "      <td>5</td>\n",
       "      <td>LE SSERAFIM (르세라핌)</td>\n",
       "      <td>ANTIFRAGILE</td>\n",
       "    </tr>\n",
       "  </tbody>\n",
       "</table>\n",
       "</div>"
      ],
      "text/plain": [
       "  Server  Rank              Singer        Title\n",
       "0  Melon     1            NewJeans        Ditto\n",
       "1  Melon     2            NewJeans          OMG\n",
       "2  Melon     3            NewJeans     Hype boy\n",
       "3  Melon     4         윤하 (YOUNHA)      사건의 지평선\n",
       "4  Melon     5  LE SSERAFIM (르세라핌)  ANTIFRAGILE"
      ]
     },
     "execution_count": 39,
     "metadata": {},
     "output_type": "execute_result"
    }
   ],
   "source": [
    "excel_names = ['c:/my_web/myexam/melon.xlsx', 'c:/my_web/myexam/bugs.xlsx', 'c:/my_web/myexam/genie.xlsx']\n",
    "\n",
    "appended_data = pd.DataFrame()\n",
    "for name in excel_names :\n",
    "    pd_data = pd.read_excel(name)\n",
    "    appended_data = appended_data.append(pd_data)\n",
    "    \n",
    "print(appended_data.info())\n",
    "appended_data.head()\n"
   ]
  },
  {
   "cell_type": "code",
   "execution_count": 40,
   "metadata": {},
   "outputs": [],
   "source": [
    "# 저장\n",
    "appended_data.to_excel('c:/my_web/myexam/Songs_chart.xlsx', index = False)"
   ]
  },
  {
   "cell_type": "code",
   "execution_count": null,
   "metadata": {},
   "outputs": [],
   "source": []
  }
 ],
 "metadata": {
  "kernelspec": {
   "display_name": "base",
   "language": "python",
   "name": "python3"
  },
  "language_info": {
   "codemirror_mode": {
    "name": "ipython",
    "version": 3
   },
   "file_extension": ".py",
   "mimetype": "text/x-python",
   "name": "python",
   "nbconvert_exporter": "python",
   "pygments_lexer": "ipython3",
   "version": "3.9.13 (main, Aug 25 2022, 23:51:50) [MSC v.1916 64 bit (AMD64)]"
  },
  "orig_nbformat": 4,
  "vscode": {
   "interpreter": {
    "hash": "d7288e82646d3164eca24130947288f8779d11454649f2c02a5dfc42af7f324c"
   }
  }
 },
 "nbformat": 4,
 "nbformat_minor": 2
}
