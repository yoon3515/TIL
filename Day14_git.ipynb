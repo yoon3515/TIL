{
 "cells": [
  {
   "cell_type": "code",
   "execution_count": 1,
   "metadata": {},
   "outputs": [],
   "source": [
    "import pandas as pd\n",
    "import numpy as np"
   ]
  },
  {
   "cell_type": "code",
   "execution_count": 2,
   "metadata": {},
   "outputs": [],
   "source": [
    "emp = pd.read_csv('c:\\my_python\\data\\emp.csv')\n",
    "dept = pd.read_csv('c:\\my_python\\data\\dept.csv')"
   ]
  },
  {
   "attachments": {},
   "cell_type": "markdown",
   "metadata": {},
   "source": [
    "## 1. select job, max(sal) from emp group by job\n",
    "- result_index()키워드는 Series(=칼럼)를 출력하는게 아니라 \n",
    "- DataFrame(테이블)로 출력하는 키워드 "
   ]
  },
  {
   "cell_type": "code",
   "execution_count": 3,
   "metadata": {},
   "outputs": [
    {
     "name": "stdout",
     "output_type": "stream",
     "text": [
      "         job   sal\n",
      "0    ANALYST  3000\n",
      "1      CLERK  1300\n",
      "2    MANAGER  2975\n",
      "3  PRESIDENT  5000\n",
      "4   SALESMAN  1600\n"
     ]
    }
   ],
   "source": [
    "result = emp.groupby('job')['sal'].max().reset_index()\n",
    "print(result)"
   ]
  },
  {
   "attachments": {},
   "cell_type": "markdown",
   "metadata": {},
   "source": [
    "## 2. \n",
    "```bash \n",
    "select deptno, sum(sal)\n",
    "from emp\n",
    "where deptno != 20\n",
    "group by deptno ;\n",
    "```"
   ]
  },
  {
   "cell_type": "code",
   "execution_count": 6,
   "metadata": {},
   "outputs": [
    {
     "name": "stdout",
     "output_type": "stream",
     "text": [
      "   deptno   sal\n",
      "0      10  8750\n",
      "2      30  9400\n"
     ]
    }
   ],
   "source": [
    "result1 = emp.groupby('deptno')['sal'].sum().reset_index()\n",
    "print(result1[['deptno','sal']][result1['deptno']!=20]) #항상 출력할 칼럼 먼저 쓰고 조건(행) 쓰기!!"
   ]
  },
  {
   "attachments": {},
   "cell_type": "markdown",
   "metadata": {},
   "source": [
    "## 3. 부서번호, 부서별 평균월급 구하기 \n",
    "```bash\n",
    "select deptno, avg(Sal)\n",
    "from emp\n",
    "group by deptno ;\n",
    "```"
   ]
  },
  {
   "cell_type": "code",
   "execution_count": 8,
   "metadata": {},
   "outputs": [
    {
     "name": "stdout",
     "output_type": "stream",
     "text": [
      "   deptno          sal\n",
      "0      10  2916.666667\n",
      "1      20  2175.000000\n",
      "2      30  1566.666667\n",
      "<class 'pandas.core.frame.DataFrame'>\n"
     ]
    }
   ],
   "source": [
    "result2 = emp.groupby('deptno')['sal'].mean().reset_index()\n",
    "print(result2)\n",
    "print(type(result2)) #<class 'pandas.core.frame.DataFrame'>"
   ]
  },
  {
   "attachments": {},
   "cell_type": "markdown",
   "metadata": {},
   "source": [
    "## 4. 위에서 평균월급 출력할 때 정수 부분만 출력 \n",
    "- astype() 사용 "
   ]
  },
  {
   "cell_type": "code",
   "execution_count": 9,
   "metadata": {},
   "outputs": [
    {
     "name": "stdout",
     "output_type": "stream",
     "text": [
      "   deptno   sal\n",
      "0      10  2916\n",
      "1      20  2175\n",
      "2      30  1566\n"
     ]
    }
   ],
   "source": [
    "result3 = emp.groupby('deptno')['sal'].mean().reset_index().astype('int')\n",
    "print(result3)"
   ]
  },
  {
   "attachments": {},
   "cell_type": "markdown",
   "metadata": {},
   "source": [
    "## 5. 부서위치별 월급의 합 \n",
    "- 판다스의 merge() 사용 \n",
    "```bash\n",
    "select loc, sum(Sal)\n",
    "from emp e, deptno d\n",
    "where e.deptno = d.deptno \n",
    "group by  d.loc ;\n",
    "```\n",
    "\n",
    "```bash\n",
    "select loc, sum(sal)\n",
    "from emp join dept using(deptno)\n",
    "group by loc \n",
    "```\n",
    "- join 할 때 on : 붙이려는 칼럼명이 다를 때 각 테이블의 이름 명시해주고 붙여주기 "
   ]
  },
  {
   "cell_type": "code",
   "execution_count": 10,
   "metadata": {},
   "outputs": [
    {
     "name": "stdout",
     "output_type": "stream",
     "text": [
      "<class 'pandas.core.frame.DataFrame'>\n",
      "        loc    sal\n",
      "0   CHICAGO   9400\n",
      "1    DALLAS  10875\n",
      "2  NEW YORK   8750\n"
     ]
    }
   ],
   "source": [
    "result4 = pd.merge(emp, dept, on = 'deptno')\n",
    "print(type(result4)) #<class 'pandas.core.frame.DataFrame'>\n",
    "result4_1 = result4.groupby('loc')['sal'].sum().reset_index()\n",
    "print(result4_1) "
   ]
  },
  {
   "attachments": {},
   "cell_type": "markdown",
   "metadata": {},
   "source": [
    "## 6.\n",
    "```bash\n",
    "select loc, sum(sal)\n",
    "from emp outer right join dept using deptno\n",
    "group by loc \n",
    "```"
   ]
  },
  {
   "attachments": {},
   "cell_type": "markdown",
   "metadata": {},
   "source": [
    "DataFrame.merge(right, how = 'inner', on = None, left_on = None, right_on = None, left_index = False,\n",
    "               right_index = False, sort = False, suffixes = ('_x', '_y'), copy = True, indicator = False, \n",
    "                validate = None)\n",
    "pandas.merge( emp_left, dept_right, how='inner', on='deptno')\n",
    "\n",
    "- how ='inner' : emp 와 dept 데이터 프레임에 공통적으로 존재하는 교집합일 경우에만 추출하겠다.\n",
    "        \n",
    "- how ='outer' : 열의 데이터가 양쪽 데이터 프레임에 공통적으로 존재하는 교집합이 아니어도 추출하겠다.\n",
    "                           \n",
    "- how ='left'  :   왼쪽 데이터 프레임의 키열에 속하는 데이터값을 기준으로 병합하겠다.\n",
    "        \n",
    "- how = 'right' :  오른쪽 데이터 프레임의 키열에 속하는 데이터 값을 기준으로 병합하겠다."
   ]
  },
  {
   "cell_type": "code",
   "execution_count": 12,
   "metadata": {},
   "outputs": [
    {
     "name": "stdout",
     "output_type": "stream",
     "text": [
      "        loc      sal\n",
      "0    BOSTON      0.0\n",
      "1   CHICAGO   9400.0\n",
      "2    DALLAS  10875.0\n",
      "3  NEW YORK   8750.0\n"
     ]
    }
   ],
   "source": [
    "result5 = pd.merge(emp, dept, how='outer', on = 'deptno')\n",
    "result5_1 = result5.groupby('loc')['sal'].sum().reset_index()\n",
    "print(result5_1)"
   ]
  },
  {
   "attachments": {},
   "cell_type": "markdown",
   "metadata": {},
   "source": [
    "## 7. csv 모듈 이용해서 emp.csv 불러오기"
   ]
  },
  {
   "cell_type": "code",
   "execution_count": 2,
   "metadata": {},
   "outputs": [
    {
     "name": "stdout",
     "output_type": "stream",
     "text": [
      "['7369', 'SMITH', 'CLERK', '7902', '1980-12-17', '800', 'NULL', '20']\n",
      "['7499', 'ALLEN', 'SALESMAN', '7698', '1981-02-20', '1600', '300', '30']\n",
      "['7521', 'WARD', 'SALESMAN', '7698', '1981-02-22', '1250', '500', '30']\n",
      "['7566', 'JONES', 'MANAGER', '7839', '1981-04-02', '2975', 'NULL', '20']\n",
      "['7654', 'MARTIN', 'SALESMAN', '7698', '1981-09-28', '1250', '1400', '30']\n",
      "['7698', 'BLAKE', 'MANAGER', '7839', '1981-05-01', '2850', 'NULL', '30']\n",
      "['7782', 'CLARK', 'MANAGER', '7839', '1981-06-09', '2450', 'NULL', '10']\n",
      "['7788', 'SCOTT', 'ANALYST', '7566', '1987-04-19', '3000', 'NULL', '20']\n",
      "['7839', 'KING', 'PRESIDENT', 'NULL', '1981-11-17', '5000', 'NULL', '10']\n",
      "['7844', 'TURNER', 'SALESMAN', '7698', '1981-09-08', '1500', '0', '30']\n",
      "['7876', 'ADAMS', 'CLERK', '7788', '1987-05-23', '1100', 'NULL', '20']\n",
      "['7900', 'JAMES', 'CLERK', '7698', '1981-12-03', '950', 'NULL', '30']\n",
      "['7902', 'FORD', 'ANALYST', '7566', '1981-12-03', '3000', 'NULL', '20']\n",
      "['7934', 'MILLER', 'CLERK', '7782', '1982-01-23', '1300', 'NULL', '10']\n"
     ]
    }
   ],
   "source": [
    "import csv\n",
    "file = open('c:\\my_python\\data\\emp03.csv') #파일 불러와서 객체에 담기\n",
    "emp_res = csv.reader(file) # 파일 읽기\n",
    "for m_list in emp_res :\n",
    "    print(m_list) "
   ]
  },
  {
   "attachments": {},
   "cell_type": "markdown",
   "metadata": {},
   "source": [
    "## 8. emp_res 객체 통해서 이름, 봉급 구하기 \n",
    "- 단, 봉급 = 월급 * 11.2"
   ]
  },
  {
   "cell_type": "code",
   "execution_count": 17,
   "metadata": {},
   "outputs": [
    {
     "name": "stdout",
     "output_type": "stream",
     "text": [
      "SMITH 8960\n",
      "ALLEN 17920\n",
      "WARD 14000\n",
      "JONES 33320\n",
      "MARTIN 14000\n",
      "BLAKE 31920\n",
      "CLARK 27440\n",
      "SCOTT 33600\n",
      "KING 56000\n",
      "TURNER 16800\n",
      "ADAMS 12320\n",
      "JAMES 10640\n",
      "FORD 33600\n",
      "MILLER 14560\n"
     ]
    }
   ],
   "source": [
    "import csv\n",
    "file = open('c:\\my_python\\data\\emp03.csv') \n",
    "emp_res = csv.reader(file)\n",
    "for m_list in emp_res :\n",
    "    r = float(m_list[5])*11.2\n",
    "    print(m_list[1], round(r))\n"
   ]
  },
  {
   "attachments": {},
   "cell_type": "markdown",
   "metadata": {},
   "source": [
    "## 9. emp_res에서 직업이 'salesman'인 사원의 이름, 직업 출력 "
   ]
  },
  {
   "cell_type": "code",
   "execution_count": 19,
   "metadata": {},
   "outputs": [
    {
     "name": "stdout",
     "output_type": "stream",
     "text": [
      "ALLEN SALESMAN\n",
      "WARD SALESMAN\n",
      "MARTIN SALESMAN\n",
      "TURNER SALESMAN\n"
     ]
    }
   ],
   "source": [
    "file = open('c:\\my_python\\data\\emp03.csv') \n",
    "emp_res = csv.reader(file)\n",
    "for m_list in emp_res :\n",
    "    if m_list[2] == 'SALESMAN' :\n",
    "        print(m_list[1], m_list[2])"
   ]
  },
  {
   "cell_type": "code",
   "execution_count": 21,
   "metadata": {},
   "outputs": [
    {
     "data": {
      "text/plain": [
       "['7934', 'MILLER', 'CLERK', '7782', '1982-01-23', '1300', 'NULL', '10']"
      ]
     },
     "execution_count": 21,
     "metadata": {},
     "output_type": "execute_result"
    }
   ],
   "source": [
    "for m_list in emp_res :\n",
    "    print(m_list)\n",
    "m_list"
   ]
  },
  {
   "attachments": {},
   "cell_type": "markdown",
   "metadata": {},
   "source": [
    "## 10. emp.csv 결측치 확인 하기 \n",
    "- 결측치 = NaN = not a number"
   ]
  },
  {
   "cell_type": "code",
   "execution_count": 24,
   "metadata": {},
   "outputs": [
    {
     "data": {
      "text/plain": [
       "empno        0\n",
       "ename        0\n",
       "job          0\n",
       "mgr          1\n",
       "hiredate     0\n",
       "sal          0\n",
       "comm        10\n",
       "deptno       0\n",
       "dtype: int64"
      ]
     },
     "execution_count": 24,
     "metadata": {},
     "output_type": "execute_result"
    }
   ],
   "source": [
    "import pandas as pd\n",
    "emp = pd.read_csv('c:\\my_python\\data\\emp.csv')\n",
    "emp.isnull().sum()"
   ]
  },
  {
   "cell_type": "code",
   "execution_count": 25,
   "metadata": {},
   "outputs": [
    {
     "data": {
      "text/html": [
       "<div>\n",
       "<style scoped>\n",
       "    .dataframe tbody tr th:only-of-type {\n",
       "        vertical-align: middle;\n",
       "    }\n",
       "\n",
       "    .dataframe tbody tr th {\n",
       "        vertical-align: top;\n",
       "    }\n",
       "\n",
       "    .dataframe thead th {\n",
       "        text-align: right;\n",
       "    }\n",
       "</style>\n",
       "<table border=\"1\" class=\"dataframe\">\n",
       "  <thead>\n",
       "    <tr style=\"text-align: right;\">\n",
       "      <th></th>\n",
       "      <th>ename</th>\n",
       "      <th>comm</th>\n",
       "    </tr>\n",
       "  </thead>\n",
       "  <tbody>\n",
       "    <tr>\n",
       "      <th>0</th>\n",
       "      <td>SMITH</td>\n",
       "      <td>NaN</td>\n",
       "    </tr>\n",
       "    <tr>\n",
       "      <th>3</th>\n",
       "      <td>JONES</td>\n",
       "      <td>NaN</td>\n",
       "    </tr>\n",
       "    <tr>\n",
       "      <th>5</th>\n",
       "      <td>BLAKE</td>\n",
       "      <td>NaN</td>\n",
       "    </tr>\n",
       "    <tr>\n",
       "      <th>6</th>\n",
       "      <td>CLARK</td>\n",
       "      <td>NaN</td>\n",
       "    </tr>\n",
       "    <tr>\n",
       "      <th>7</th>\n",
       "      <td>SCOTT</td>\n",
       "      <td>NaN</td>\n",
       "    </tr>\n",
       "    <tr>\n",
       "      <th>8</th>\n",
       "      <td>KING</td>\n",
       "      <td>NaN</td>\n",
       "    </tr>\n",
       "    <tr>\n",
       "      <th>10</th>\n",
       "      <td>ADAMS</td>\n",
       "      <td>NaN</td>\n",
       "    </tr>\n",
       "    <tr>\n",
       "      <th>11</th>\n",
       "      <td>JAMES</td>\n",
       "      <td>NaN</td>\n",
       "    </tr>\n",
       "    <tr>\n",
       "      <th>12</th>\n",
       "      <td>FORD</td>\n",
       "      <td>NaN</td>\n",
       "    </tr>\n",
       "    <tr>\n",
       "      <th>13</th>\n",
       "      <td>MILLER</td>\n",
       "      <td>NaN</td>\n",
       "    </tr>\n",
       "  </tbody>\n",
       "</table>\n",
       "</div>"
      ],
      "text/plain": [
       "     ename  comm\n",
       "0    SMITH   NaN\n",
       "3    JONES   NaN\n",
       "5    BLAKE   NaN\n",
       "6    CLARK   NaN\n",
       "7    SCOTT   NaN\n",
       "8     KING   NaN\n",
       "10   ADAMS   NaN\n",
       "11   JAMES   NaN\n",
       "12    FORD   NaN\n",
       "13  MILLER   NaN"
      ]
     },
     "execution_count": 25,
     "metadata": {},
     "output_type": "execute_result"
    }
   ],
   "source": [
    "# comm이 null인 사원이름 출력하기 \n",
    "emp[['ename','comm']][emp['comm'].isnull()]"
   ]
  },
  {
   "cell_type": "code",
   "execution_count": 26,
   "metadata": {},
   "outputs": [
    {
     "data": {
      "text/html": [
       "<div>\n",
       "<style scoped>\n",
       "    .dataframe tbody tr th:only-of-type {\n",
       "        vertical-align: middle;\n",
       "    }\n",
       "\n",
       "    .dataframe tbody tr th {\n",
       "        vertical-align: top;\n",
       "    }\n",
       "\n",
       "    .dataframe thead th {\n",
       "        text-align: right;\n",
       "    }\n",
       "</style>\n",
       "<table border=\"1\" class=\"dataframe\">\n",
       "  <thead>\n",
       "    <tr style=\"text-align: right;\">\n",
       "      <th></th>\n",
       "      <th>ename</th>\n",
       "      <th>comm</th>\n",
       "    </tr>\n",
       "  </thead>\n",
       "  <tbody>\n",
       "    <tr>\n",
       "      <th>1</th>\n",
       "      <td>ALLEN</td>\n",
       "      <td>300.0</td>\n",
       "    </tr>\n",
       "    <tr>\n",
       "      <th>2</th>\n",
       "      <td>WARD</td>\n",
       "      <td>500.0</td>\n",
       "    </tr>\n",
       "    <tr>\n",
       "      <th>4</th>\n",
       "      <td>MARTIN</td>\n",
       "      <td>1400.0</td>\n",
       "    </tr>\n",
       "    <tr>\n",
       "      <th>9</th>\n",
       "      <td>TURNER</td>\n",
       "      <td>0.0</td>\n",
       "    </tr>\n",
       "  </tbody>\n",
       "</table>\n",
       "</div>"
      ],
      "text/plain": [
       "    ename    comm\n",
       "1   ALLEN   300.0\n",
       "2    WARD   500.0\n",
       "4  MARTIN  1400.0\n",
       "9  TURNER     0.0"
      ]
     },
     "execution_count": 26,
     "metadata": {},
     "output_type": "execute_result"
    }
   ],
   "source": [
    "# 커미션이 결측치가 아닌 사원의 이름 출력 \n",
    "emp[['ename','comm']][~emp['comm'].isnull()]"
   ]
  },
  {
   "attachments": {},
   "cell_type": "markdown",
   "metadata": {},
   "source": [
    "## 11. 파생데이터 생성  (= 파생변수 생성)"
   ]
  },
  {
   "cell_type": "code",
   "execution_count": 27,
   "metadata": {},
   "outputs": [
    {
     "name": "stdout",
     "output_type": "stream",
     "text": [
      "<class 'pandas.core.frame.DataFrame'>\n",
      "RangeIndex: 14 entries, 0 to 13\n",
      "Data columns (total 9 columns):\n",
      " #   Column    Non-Null Count  Dtype  \n",
      "---  ------    --------------  -----  \n",
      " 0   empno     14 non-null     int64  \n",
      " 1   ename     14 non-null     object \n",
      " 2   job       14 non-null     object \n",
      " 3   mgr       13 non-null     float64\n",
      " 4   hiredate  14 non-null     object \n",
      " 5   sal       14 non-null     int64  \n",
      " 6   comm      4 non-null      float64\n",
      " 7   deptno    14 non-null     int64  \n",
      " 8   sal02     14 non-null     int64  \n",
      "dtypes: float64(2), int64(4), object(3)\n",
      "memory usage: 1.1+ KB\n"
     ]
    }
   ],
   "source": [
    "# emp에 있는 sal을 sal02라는 칼럼을 생성해서 추가하기 \n",
    "emp01 = emp\n",
    "emp01['sal02'] = emp['sal']\n",
    "emp.info()"
   ]
  },
  {
   "attachments": {},
   "cell_type": "markdown",
   "metadata": {},
   "source": [
    "## 12. 이름, 부서위치 출력 "
   ]
  },
  {
   "cell_type": "code",
   "execution_count": 29,
   "metadata": {},
   "outputs": [
    {
     "data": {
      "text/html": [
       "<div>\n",
       "<style scoped>\n",
       "    .dataframe tbody tr th:only-of-type {\n",
       "        vertical-align: middle;\n",
       "    }\n",
       "\n",
       "    .dataframe tbody tr th {\n",
       "        vertical-align: top;\n",
       "    }\n",
       "\n",
       "    .dataframe thead th {\n",
       "        text-align: right;\n",
       "    }\n",
       "</style>\n",
       "<table border=\"1\" class=\"dataframe\">\n",
       "  <thead>\n",
       "    <tr style=\"text-align: right;\">\n",
       "      <th></th>\n",
       "      <th>ename</th>\n",
       "      <th>loc</th>\n",
       "    </tr>\n",
       "  </thead>\n",
       "  <tbody>\n",
       "    <tr>\n",
       "      <th>0</th>\n",
       "      <td>SMITH</td>\n",
       "      <td>DALLAS</td>\n",
       "    </tr>\n",
       "    <tr>\n",
       "      <th>1</th>\n",
       "      <td>JONES</td>\n",
       "      <td>DALLAS</td>\n",
       "    </tr>\n",
       "    <tr>\n",
       "      <th>2</th>\n",
       "      <td>SCOTT</td>\n",
       "      <td>DALLAS</td>\n",
       "    </tr>\n",
       "    <tr>\n",
       "      <th>3</th>\n",
       "      <td>ADAMS</td>\n",
       "      <td>DALLAS</td>\n",
       "    </tr>\n",
       "    <tr>\n",
       "      <th>4</th>\n",
       "      <td>FORD</td>\n",
       "      <td>DALLAS</td>\n",
       "    </tr>\n",
       "    <tr>\n",
       "      <th>5</th>\n",
       "      <td>ALLEN</td>\n",
       "      <td>CHICAGO</td>\n",
       "    </tr>\n",
       "    <tr>\n",
       "      <th>6</th>\n",
       "      <td>WARD</td>\n",
       "      <td>CHICAGO</td>\n",
       "    </tr>\n",
       "    <tr>\n",
       "      <th>7</th>\n",
       "      <td>MARTIN</td>\n",
       "      <td>CHICAGO</td>\n",
       "    </tr>\n",
       "    <tr>\n",
       "      <th>8</th>\n",
       "      <td>BLAKE</td>\n",
       "      <td>CHICAGO</td>\n",
       "    </tr>\n",
       "    <tr>\n",
       "      <th>9</th>\n",
       "      <td>TURNER</td>\n",
       "      <td>CHICAGO</td>\n",
       "    </tr>\n",
       "    <tr>\n",
       "      <th>10</th>\n",
       "      <td>JAMES</td>\n",
       "      <td>CHICAGO</td>\n",
       "    </tr>\n",
       "    <tr>\n",
       "      <th>11</th>\n",
       "      <td>CLARK</td>\n",
       "      <td>NEW YORK</td>\n",
       "    </tr>\n",
       "    <tr>\n",
       "      <th>12</th>\n",
       "      <td>KING</td>\n",
       "      <td>NEW YORK</td>\n",
       "    </tr>\n",
       "    <tr>\n",
       "      <th>13</th>\n",
       "      <td>MILLER</td>\n",
       "      <td>NEW YORK</td>\n",
       "    </tr>\n",
       "  </tbody>\n",
       "</table>\n",
       "</div>"
      ],
      "text/plain": [
       "     ename       loc\n",
       "0    SMITH    DALLAS\n",
       "1    JONES    DALLAS\n",
       "2    SCOTT    DALLAS\n",
       "3    ADAMS    DALLAS\n",
       "4     FORD    DALLAS\n",
       "5    ALLEN   CHICAGO\n",
       "6     WARD   CHICAGO\n",
       "7   MARTIN   CHICAGO\n",
       "8    BLAKE   CHICAGO\n",
       "9   TURNER   CHICAGO\n",
       "10   JAMES   CHICAGO\n",
       "11   CLARK  NEW YORK\n",
       "12    KING  NEW YORK\n",
       "13  MILLER  NEW YORK"
      ]
     },
     "execution_count": 29,
     "metadata": {},
     "output_type": "execute_result"
    }
   ],
   "source": [
    "dept = pd.read_csv('c:\\my_python\\data\\dept.csv')\n",
    "merge_1 = pd.merge(emp, dept, how='inner', on = 'deptno')\n",
    "merge_1[['ename','loc']]"
   ]
  },
  {
   "attachments": {},
   "cell_type": "markdown",
   "metadata": {},
   "source": [
    "## 13. 그래프 그리기 "
   ]
  },
  {
   "cell_type": "code",
   "execution_count": 31,
   "metadata": {},
   "outputs": [
    {
     "name": "stderr",
     "output_type": "stream",
     "text": [
      "UsageError: unrecognized arguments: # plt 객체를 통해 그래프를 show() 랜더링, 대신 사용\n"
     ]
    }
   ],
   "source": [
    "import matplotlib.pyplot as plt\n",
    "import numpy as np\n",
    "%matplotlib inline # plt 객체를 통해 그래프를 show() 랜더링, 대신 사용 "
   ]
  },
  {
   "cell_type": "code",
   "execution_count": 32,
   "metadata": {},
   "outputs": [
    {
     "data": {
      "text/plain": [
       "[<matplotlib.lines.Line2D at 0x246b92fa460>]"
      ]
     },
     "execution_count": 32,
     "metadata": {},
     "output_type": "execute_result"
    },
    {
     "data": {
      "image/png": "[encoded data removed]",
      "text/plain": [
       "<Figure size 640x480 with 1 Axes>"
      ]
     },
     "metadata": {},
     "output_type": "display_data"
    }
   ],
   "source": [
    "d = [0,1,2,3,4]\n",
    "plt.plot(d) # x, y축 값의 인수를 내부 지정"
   ]
  },
  {
   "cell_type": "code",
   "execution_count": 33,
   "metadata": {},
   "outputs": [
    {
     "data": {
      "text/plain": [
       "[<matplotlib.lines.Line2D at 0x246b9becf10>]"
      ]
     },
     "execution_count": 33,
     "metadata": {},
     "output_type": "execute_result"
    },
    {
     "data": {
      "image/png": "[encoded data removed]",
      "text/plain": [
       "<Figure size 640x480 with 1 Axes>"
      ]
     },
     "metadata": {},
     "output_type": "display_data"
    }
   ],
   "source": [
    "# 점과 점을 선으로 연결 : plt.plot(x[i], y[i])\n",
    "x = [0,1,4,8,9]\n",
    "y = [0,3,6,9,11]\n",
    "plt.plot(x, y)"
   ]
  },
  {
   "cell_type": "code",
   "execution_count": 34,
   "metadata": {},
   "outputs": [
    {
     "data": {
      "text/plain": [
       "[<matplotlib.lines.Line2D at 0x246b9a6a340>]"
      ]
     },
     "execution_count": 34,
     "metadata": {},
     "output_type": "execute_result"
    },
    {
     "data": {
      "image/png": "[encoded data removed]",
      "text/plain": [
       "<Figure size 640x480 with 1 Axes>"
      ]
     },
     "metadata": {},
     "output_type": "display_data"
    }
   ],
   "source": [
    "# numpy로 연동해보기 \n",
    "x = [0,1,4,8,9]\n",
    "y = [0,3,6,9,11]\n",
    "array_x = np.array(x)\n",
    "array_y = np.array(y)\n",
    "plt.plot(array_x, array_y)"
   ]
  },
  {
   "cell_type": "code",
   "execution_count": 39,
   "metadata": {},
   "outputs": [
    {
     "data": {
      "text/plain": [
       "<matplotlib.legend.Legend at 0x246b9cacb80>"
      ]
     },
     "execution_count": 39,
     "metadata": {},
     "output_type": "execute_result"
    },
    {
     "data": {
      "image/png": "[encoded data removed]",
      "text/plain": [
       "<Figure size 640x480 with 1 Axes>"
      ]
     },
     "metadata": {},
     "output_type": "display_data"
    }
   ],
   "source": [
    "# 여러개의 선으로 표시 \n",
    "x = [0,1,4,8,9]\n",
    "y = [0,3,6,9,11]\n",
    "data = [1,2,5,8,6]\n",
    "plt.plot(x,y, label = 'x')\n",
    "plt.plot(data, label = 'data')\n",
    "plt.legend()"
   ]
  },
  {
   "cell_type": "code",
   "execution_count": 42,
   "metadata": {},
   "outputs": [
    {
     "data": {
      "image/png": "[encoded data removed]",
      "text/plain": [
       "<Figure size 640x480 with 1 Axes>"
      ]
     },
     "metadata": {},
     "output_type": "display_data"
    }
   ],
   "source": [
    "# 여러개의 선으로 표시, 속성을 확인 linestyle, color, marker \n",
    "x = [0,1,4,8,9]\n",
    "y = [0,3,6,9,11]\n",
    "data = [1,2,5,8,6]\n",
    "plt.plot(x, y, linestyle = '--', color = 'orange', label = 'x')\n",
    "plt.plot(data, linestyle = ':', color = 'green', label = 'data')\n",
    "plt.legend()\n",
    "\n",
    "plt.title('The First Graph made by myself')\n",
    "plt.xlabel('X')\n",
    "plt.ylabel('Y')\n",
    "plt.grid(True)"
   ]
  },
  {
   "cell_type": "code",
   "execution_count": 43,
   "metadata": {},
   "outputs": [
    {
     "data": {
      "text/plain": [
       "[<matplotlib.lines.Line2D at 0x246bae16b20>]"
      ]
     },
     "execution_count": 43,
     "metadata": {},
     "output_type": "execute_result"
    },
    {
     "data": {
      "image/png": "[encoded data removed]",
      "text/plain": [
       "<Figure size 640x480 with 1 Axes>"
      ]
     },
     "metadata": {},
     "output_type": "display_data"
    }
   ],
   "source": [
    "# 곡선 \n",
    "x = np.arange(-np.pi, np.pi, 0.1) # np.pi : 넘파이로 원주율(파이값) 구하기 \n",
    "plt.plot(x, np.cos(x), marker = 'o') #코사인\n",
    "plt.plot(x, np.sin(x)) #사인 "
   ]
  },
  {
   "cell_type": "code",
   "execution_count": null,
   "metadata": {},
   "outputs": [],
   "source": []
  }
 ],
 "metadata": {
  "kernelspec": {
   "display_name": "base",
   "language": "python",
   "name": "python3"
  },
  "language_info": {
   "codemirror_mode": {
    "name": "ipython",
    "version": 3
   },
   "file_extension": ".py",
   "mimetype": "text/x-python",
   "name": "python",
   "nbconvert_exporter": "python",
   "pygments_lexer": "ipython3",
   "version": "3.9.13"
  },
  "orig_nbformat": 4,
  "vscode": {
   "interpreter": {
    "hash": "d7288e82646d3164eca24130947288f8779d11454649f2c02a5dfc42af7f324c"
   }
  }
 },
 "nbformat": 4,
 "nbformat_minor": 2
}
