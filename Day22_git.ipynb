{
 "cells": [
  {
   "attachments": {},
   "cell_type": "markdown",
   "metadata": {},
   "source": [
    "# 함수 복습"
   ]
  },
  {
   "attachments": {},
   "cell_type": "markdown",
   "metadata": {},
   "source": [
    "### 1. return문\n",
    "- 인수 없이 return문만 사용하면 함수를 호출한 측에 아무 값도 전달하지 않는다. \n",
    "- 인수 없이 반환을 하지만, 실제로는 none객체를 전달한다. \n",
    "    - none객체란 : 파이썬 내장객체로, 아무 값도 없음을 표현 "
   ]
  },
  {
   "cell_type": "code",
   "execution_count": 3,
   "metadata": {},
   "outputs": [
    {
     "name": "stdout",
     "output_type": "stream",
     "text": [
      "None\n"
     ]
    }
   ],
   "source": [
    "def nothing() :\n",
    "    return\n",
    "\n",
    "nothing() # 아무것도 반환되지 않음\n",
    "print(nothing()) # none이 반환됨"
   ]
  },
  {
   "cell_type": "code",
   "execution_count": 5,
   "metadata": {},
   "outputs": [
    {
     "name": "stdout",
     "output_type": "stream",
     "text": [
      "None\n"
     ]
    }
   ],
   "source": [
    "# return문 없이 종료하는 경우도 none객체 전달함\n",
    "def simple() :\n",
    "    pass\n",
    "\n",
    "simple() # 아무것도 반환되지 않음\n",
    "print(simple()) # none이 반환됨\n"
   ]
  },
  {
   "cell_type": "code",
   "execution_count": 9,
   "metadata": {},
   "outputs": [
    {
     "name": "stdout",
     "output_type": "stream",
     "text": [
      "(20, 10)\n"
     ]
    }
   ],
   "source": [
    "# return문에 여러개의 값을 사용할 경우, 이들은 튜플로 구성하여 전달 \n",
    "def swap(a, b) :\n",
    "    return b, a\n",
    "\n",
    "a = 10\n",
    "b = 20\n",
    "\n",
    "swap(a, b)\n",
    "print(swap(a, b)) # (20, 10) --> 튜플로 반환됨"
   ]
  },
  {
   "attachments": {},
   "cell_type": "markdown",
   "metadata": {},
   "source": [
    "### 2. 함수 호출"
   ]
  },
  {
   "cell_type": "code",
   "execution_count": 13,
   "metadata": {},
   "outputs": [
    {
     "name": "stdout",
     "output_type": "stream",
     "text": [
      "20\n",
      "None\n"
     ]
    }
   ],
   "source": [
    "# 함수 f에 불가능한 데이터 a를 전달\n",
    "\n",
    "def f(t) :\n",
    "    t = 10 # t에 새로운 객체 10의 참조가 할당 \n",
    "    \n",
    "a = 20\n",
    "f(a) # 참조에 의한 호출 \n",
    "print(a)\n",
    "print(f(a)) # none"
   ]
  },
  {
   "cell_type": "code",
   "execution_count": 14,
   "metadata": {},
   "outputs": [
    {
     "name": "stdout",
     "output_type": "stream",
     "text": [
      "None\n",
      "(5, 6, 7)\n"
     ]
    }
   ],
   "source": [
    "# 변경 불가능한 튜플을 인수로 전달 \n",
    "def h(t) : \n",
    "    t = (1,2,3) # t에 새로운 튜플의 참조가 할당\n",
    "    \n",
    "a = (5,6,7)\n",
    "print(h(a)) # none\n",
    "print(a)\n",
    "    "
   ]
  },
  {
   "cell_type": "code",
   "execution_count": 16,
   "metadata": {},
   "outputs": [
    {
     "name": "stdout",
     "output_type": "stream",
     "text": [
      "None\n",
      "[1, 10, 3]\n"
     ]
    }
   ],
   "source": [
    "# 리스트와 같은 변경 가능한 객체 전달\n",
    "\n",
    "def g(t) :\n",
    "    t[1] = 10\n",
    "    \n",
    "a = [1,2,3] \n",
    "print(g(a)) # 인수로 전달된 참조로 리스트 내용 변경 \n",
    "print(a) # a의 참조가 g()의 t에 전달 "
   ]
  },
  {
   "cell_type": "code",
   "execution_count": 18,
   "metadata": {},
   "outputs": [
    {
     "name": "stdout",
     "output_type": "stream",
     "text": [
      "None\n",
      "[5, 6, 7]\n"
     ]
    }
   ],
   "source": [
    "# 함수 내에서 인수로 전달받은 객체의 참조를 참조하지 않고 다른 객체 값을 치환하는 경우는 \n",
    "# 변경된 내용이 함수를 호출한 측에 반영되지 않는다. \n",
    "\n",
    "def gg(a) :\n",
    "    t = [1,2,3] # 새로운 리스트 생성\n",
    "    \n",
    "a = [5,6,7]\n",
    "print(gg(a)) # none\n",
    "print(a) # [5,6,7]\n",
    "\n",
    "# 모든 인수는 인수 자체가 (함수 f,h,gg와 같이) 다른 객체로 치환될 때, 함수를 호출한 측에 아무런 영향을 미치지 못한다. \n",
    "# 변경 가능한 인수는 참조를 이용하여 내부 객체를 변경할 때 변경이 호출한 측에 반영된다. \n",
    "# 이러한 파이썬의 독특한 호출 방식을 객체참조에 의한 호출(call by object reference) 또는 공유의 의한 호출(call by sharing)이라고 함."
   ]
  },
  {
   "attachments": {},
   "cell_type": "markdown",
   "metadata": {},
   "source": [
    "### 3. 유효범위\n",
    "- 유효범위 규칙(Scope Rule) 이란 : 변수가 유효하게 사용되는 문맥(context)범위를 정하는 규칙 \n",
    "- 변수가 특정 범위에서 유효한지를 결정\n",
    "- 파이썬에서 이름 공간을 찾는 규칙을 **LEGB규칙** 이라고 한다.\n",
    "    - L : Local (함수 내에 정의되는 지역변수)\n",
    "    - E : Enclosing Function Local (함수를 내포하는 또 다른 함수 영역)\n",
    "    - G : Global (함수영역에 포함되지 않는 모듈 영역)\n",
    "    - B : Built-in (내장영역)\n",
    "\n",
    "- 변수가 함수 내에 정의 -> 함수의 지역변수(Local)\n",
    "- 변수가 함수 외부에 정의 -> 해당 모듈의 전역변수(Global)"
   ]
  },
  {
   "cell_type": "code",
   "execution_count": 19,
   "metadata": {},
   "outputs": [
    {
     "name": "stdout",
     "output_type": "stream",
     "text": [
      "30 20 11\n",
      "30 40 11\n"
     ]
    }
   ],
   "source": [
    "x = 10 # 전역변수(Global)\n",
    "y = 11\n",
    "\n",
    "def foo() :\n",
    "    x = 20   # foo 함수의 지역변수(Local)에 해당 + bar 함수의 Enclosing Function Local에 해당\n",
    "    def bar() :\n",
    "        a = 30          # bar함수의 지역변수(Local)에 해당\n",
    "        print(a,x,y)    # 각각 L,E,G에 해당 \n",
    "    bar()\n",
    "    x = 40\n",
    "    bar()\n",
    "\n",
    "foo()\n",
    "\n",
    "# 변수의 이름은 항상 안쪽에서 바깥쪽으로 찾아 나간다. \n",
    "# 동일한 이름이 있으면 안쪽에 있는 이름공간의 이름이 먼저 사용되는것이 원칙 "
   ]
  },
  {
   "cell_type": "code",
   "execution_count": 23,
   "metadata": {},
   "outputs": [
    {
     "ename": "TypeError",
     "evalue": "'int' object is not callable",
     "output_type": "error",
     "traceback": [
      "\u001b[1;31m---------------------------------------------------------------------------\u001b[0m",
      "\u001b[1;31mTypeError\u001b[0m                                 Traceback (most recent call last)",
      "\u001b[1;32m~\\AppData\\Local\\Temp\\ipykernel_15192\\1710242877.py\u001b[0m in \u001b[0;36m<module>\u001b[1;34m\u001b[0m\n\u001b[0;32m      1\u001b[0m \u001b[0mabs\u001b[0m \u001b[1;31m# 내장함수 abs(), <function abs(x, /)>\u001b[0m\u001b[1;33m\u001b[0m\u001b[1;33m\u001b[0m\u001b[0m\n\u001b[0;32m      2\u001b[0m \u001b[0mabs\u001b[0m \u001b[1;33m=\u001b[0m \u001b[1;36m10\u001b[0m \u001b[1;31m# 전역변수 abs\u001b[0m\u001b[1;33m\u001b[0m\u001b[1;33m\u001b[0m\u001b[0m\n\u001b[1;32m----> 3\u001b[1;33m \u001b[0mabs\u001b[0m\u001b[1;33m(\u001b[0m\u001b[1;33m-\u001b[0m\u001b[1;36m5\u001b[0m\u001b[1;33m)\u001b[0m \u001b[1;31m# 전역변수 abs에 의해서 내장함수 abs()가 가려짐\u001b[0m\u001b[1;33m\u001b[0m\u001b[1;33m\u001b[0m\u001b[0m\n\u001b[0m\u001b[0;32m      4\u001b[0m \u001b[1;32mdel\u001b[0m \u001b[0mabs\u001b[0m \u001b[1;31m# 전역변수 삭제\u001b[0m\u001b[1;33m\u001b[0m\u001b[1;33m\u001b[0m\u001b[0m\n\u001b[0;32m      5\u001b[0m \u001b[0mabs\u001b[0m\u001b[1;33m(\u001b[0m\u001b[1;33m-\u001b[0m\u001b[1;36m5\u001b[0m\u001b[1;33m)\u001b[0m\u001b[1;33m\u001b[0m\u001b[1;33m\u001b[0m\u001b[0m\n",
      "\u001b[1;31mTypeError\u001b[0m: 'int' object is not callable"
     ]
    }
   ],
   "source": [
    "abs # 내장함수 abs(), <function abs(x, /)>\n",
    "abs = 10 # 전역변수 abs\n",
    "abs(-5) # 전역변수 abs에 의해서 내장함수 abs()가 가려짐 \n",
    "del abs # 전역변수 삭제 \n",
    "abs(-5) "
   ]
  },
  {
   "cell_type": "code",
   "execution_count": 24,
   "metadata": {},
   "outputs": [
    {
     "name": "stdout",
     "output_type": "stream",
     "text": [
      "['ArithmeticError', 'AssertionError', 'AttributeError', 'BaseException', 'BlockingIOError', 'BrokenPipeError', 'BufferError', 'BytesWarning', 'ChildProcessError', 'ConnectionAbortedError', 'ConnectionError', 'ConnectionRefusedError', 'ConnectionResetError', 'DeprecationWarning', 'EOFError', 'Ellipsis', 'EnvironmentError', 'Exception', 'False', 'FileExistsError', 'FileNotFoundError', 'FloatingPointError', 'FutureWarning', 'GeneratorExit', 'IOError', 'ImportError', 'ImportWarning', 'IndentationError', 'IndexError', 'InterruptedError', 'IsADirectoryError', 'KeyError', 'KeyboardInterrupt', 'LookupError', 'MemoryError', 'ModuleNotFoundError', 'NameError', 'None', 'NotADirectoryError', 'NotImplemented', 'NotImplementedError', 'OSError', 'OverflowError', 'PendingDeprecationWarning', 'PermissionError', 'ProcessLookupError', 'RecursionError', 'ReferenceError', 'ResourceWarning', 'RuntimeError', 'RuntimeWarning', 'StopAsyncIteration', 'StopIteration', 'SyntaxError', 'SyntaxWarning', 'SystemError', 'SystemExit', 'TabError', 'TimeoutError', 'True', 'TypeError', 'UnboundLocalError', 'UnicodeDecodeError', 'UnicodeEncodeError', 'UnicodeError', 'UnicodeTranslateError', 'UnicodeWarning', 'UserWarning', 'ValueError', 'Warning', 'WindowsError', 'ZeroDivisionError', '__IPYTHON__', '__build_class__', '__debug__', '__doc__', '__import__', '__loader__', '__name__', '__package__', '__spec__', 'abs', 'all', 'any', 'ascii', 'bin', 'bool', 'breakpoint', 'bytearray', 'bytes', 'callable', 'chr', 'classmethod', 'compile', 'complex', 'copyright', 'credits', 'delattr', 'dict', 'dir', 'display', 'divmod', 'enumerate', 'eval', 'exec', 'execfile', 'filter', 'float', 'format', 'frozenset', 'get_ipython', 'getattr', 'globals', 'hasattr', 'hash', 'help', 'hex', 'id', 'input', 'int', 'isinstance', 'issubclass', 'iter', 'len', 'license', 'list', 'locals', 'map', 'max', 'memoryview', 'min', 'next', 'object', 'oct', 'open', 'ord', 'pow', 'print', 'property', 'range', 'repr', 'reversed', 'round', 'runfile', 'set', 'setattr', 'slice', 'sorted', 'staticmethod', 'str', 'sum', 'super', 'tuple', 'type', 'vars', 'zip']\n"
     ]
    }
   ],
   "source": [
    "print(dir(__builtins__))"
   ]
  },
  {
   "cell_type": "code",
   "execution_count": 28,
   "metadata": {},
   "outputs": [
    {
     "name": "stdout",
     "output_type": "stream",
     "text": [
      "None\n"
     ]
    },
    {
     "data": {
      "text/plain": [
       "20"
      ]
     },
     "execution_count": 28,
     "metadata": {},
     "output_type": "execute_result"
    }
   ],
   "source": [
    "# 함수 내부에서 값을 치환해서 사용하는 변수를 전역변수로 사용하려면 global 선언자를 사용하여 변수가 전역 변수임을 선언해야 함\n",
    "\n",
    "def f(a) : # a =  지역변수\n",
    "    global h # h = 전역변수\n",
    "    h = a + 10\n",
    "    \n",
    "a = 10\n",
    "print(f(a)) # None\n",
    "h # 전역변수를 호출해야함 "
   ]
  },
  {
   "cell_type": "code",
   "execution_count": null,
   "metadata": {},
   "outputs": [],
   "source": []
  }
 ],
 "metadata": {
  "kernelspec": {
   "display_name": "base",
   "language": "python",
   "name": "python3"
  },
  "language_info": {
   "codemirror_mode": {
    "name": "ipython",
    "version": 3
   },
   "file_extension": ".py",
   "mimetype": "text/x-python",
   "name": "python",
   "nbconvert_exporter": "python",
   "pygments_lexer": "ipython3",
   "version": "3.9.13"
  },
  "orig_nbformat": 4,
  "vscode": {
   "interpreter": {
    "hash": "d7288e82646d3164eca24130947288f8779d11454649f2c02a5dfc42af7f324c"
   }
  }
 },
 "nbformat": 4,
 "nbformat_minor": 2
}
