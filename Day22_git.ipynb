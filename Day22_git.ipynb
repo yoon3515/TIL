{
 "cells": [
  {
   "attachments": {},
   "cell_type": "markdown",
   "metadata": {},
   "source": [
    "# 함수 복습"
   ]
  },
  {
   "attachments": {},
   "cell_type": "markdown",
   "metadata": {},
   "source": [
    "### 1. return문\n",
    "- 인수 없이 return문만 사용하면 함수를 호출한 측에 아무 값도 전달하지 않는다. \n",
    "- 인수 없이 반환을 하지만, 실제로는 none객체를 전달한다. \n",
    "    - none객체란 : 파이썬 내장객체로, 아무 값도 없음을 표현 "
   ]
  },
  {
   "cell_type": "code",
   "execution_count": 3,
   "metadata": {},
   "outputs": [
    {
     "name": "stdout",
     "output_type": "stream",
     "text": [
      "None\n"
     ]
    }
   ],
   "source": [
    "def nothing() :\n",
    "    return\n",
    "\n",
    "nothing() # 아무것도 반환되지 않음\n",
    "print(nothing()) # none이 반환됨"
   ]
  },
  {
   "cell_type": "code",
   "execution_count": 5,
   "metadata": {},
   "outputs": [
    {
     "name": "stdout",
     "output_type": "stream",
     "text": [
      "None\n"
     ]
    }
   ],
   "source": [
    "# return문 없이 종료하는 경우도 none객체 전달함\n",
    "def simple() :\n",
    "    pass\n",
    "\n",
    "simple() # 아무것도 반환되지 않음\n",
    "print(simple()) # none이 반환됨\n"
   ]
  },
  {
   "cell_type": "code",
   "execution_count": 9,
   "metadata": {},
   "outputs": [
    {
     "name": "stdout",
     "output_type": "stream",
     "text": [
      "(20, 10)\n"
     ]
    }
   ],
   "source": [
    "# return문에 여러개의 값을 사용할 경우, 이들은 튜플로 구성하여 전달 \n",
    "def swap(a, b) :\n",
    "    return b, a\n",
    "\n",
    "a = 10\n",
    "b = 20\n",
    "\n",
    "swap(a, b)\n",
    "print(swap(a, b)) # (20, 10) --> 튜플로 반환됨"
   ]
  },
  {
   "attachments": {},
   "cell_type": "markdown",
   "metadata": {},
   "source": [
    "### 2. 함수 호출"
   ]
  },
  {
   "cell_type": "code",
   "execution_count": 13,
   "metadata": {},
   "outputs": [
    {
     "name": "stdout",
     "output_type": "stream",
     "text": [
      "20\n",
      "None\n"
     ]
    }
   ],
   "source": [
    "# 함수 f에 불가능한 데이터 a를 전달\n",
    "\n",
    "def f(t) :\n",
    "    t = 10 # t에 새로운 객체 10의 참조가 할당 \n",
    "    \n",
    "a = 20\n",
    "f(a) # 참조에 의한 호출 \n",
    "print(a)\n",
    "print(f(a)) # none"
   ]
  },
  {
   "cell_type": "code",
   "execution_count": 14,
   "metadata": {},
   "outputs": [
    {
     "name": "stdout",
     "output_type": "stream",
     "text": [
      "None\n",
      "(5, 6, 7)\n"
     ]
    }
   ],
   "source": [
    "# 변경 불가능한 튜플을 인수로 전달 \n",
    "def h(t) : \n",
    "    t = (1,2,3) # t에 새로운 튜플의 참조가 할당\n",
    "    \n",
    "a = (5,6,7)\n",
    "print(h(a)) # none\n",
    "print(a)\n",
    "    "
   ]
  },
  {
   "cell_type": "code",
   "execution_count": 16,
   "metadata": {},
   "outputs": [
    {
     "name": "stdout",
     "output_type": "stream",
     "text": [
      "None\n",
      "[1, 10, 3]\n"
     ]
    }
   ],
   "source": [
    "# 리스트와 같은 변경 가능한 객체 전달\n",
    "\n",
    "def g(t) :\n",
    "    t[1] = 10\n",
    "    \n",
    "a = [1,2,3] \n",
    "print(g(a)) # 인수로 전달된 참조로 리스트 내용 변경 \n",
    "print(a) # a의 참조가 g()의 t에 전달 "
   ]
  },
  {
   "cell_type": "code",
   "execution_count": 18,
   "metadata": {},
   "outputs": [
    {
     "name": "stdout",
     "output_type": "stream",
     "text": [
      "None\n",
      "[5, 6, 7]\n"
     ]
    }
   ],
   "source": [
    "# 함수 내에서 인수로 전달받은 객체의 참조를 참조하지 않고 다른 객체 값을 치환하는 경우는 \n",
    "# 변경된 내용이 함수를 호출한 측에 반영되지 않는다. \n",
    "\n",
    "def gg(a) :\n",
    "    t = [1,2,3] # 새로운 리스트 생성\n",
    "    \n",
    "a = [5,6,7]\n",
    "print(gg(a)) # none\n",
    "print(a) # [5,6,7]\n",
    "\n",
    "# 모든 인수는 인수 자체가 (함수 f,h,gg와 같이) 다른 객체로 치환될 때, 함수를 호출한 측에 아무런 영향을 미치지 못한다. \n",
    "# 변경 가능한 인수는 참조를 이용하여 내부 객체를 변경할 때 변경이 호출한 측에 반영된다. \n",
    "# 이러한 파이썬의 독특한 호출 방식을 객체참조에 의한 호출(call by object reference) 또는 공유의 의한 호출(call by sharing)이라고 함."
   ]
  },
  {
   "attachments": {},
   "cell_type": "markdown",
   "metadata": {},
   "source": [
    "### 3. 유효범위\n",
    "- 유효범위 규칙(Scope Rule) 이란 : 변수가 유효하게 사용되는 문맥(context)범위를 정하는 규칙 \n",
    "- 변수가 특정 범위에서 유효한지를 결정\n",
    "- 파이썬에서 이름 공간을 찾는 규칙을 **LEGB규칙** 이라고 한다.\n",
    "    - L : Local (함수 내에 정의되는 지역변수)\n",
    "    - E : Enclosing Function Local (함수를 내포하는 또 다른 함수 영역)\n",
    "    - G : Global (함수영역에 포함되지 않는 모듈 영역)\n",
    "    - B : Built-in (내장영역)\n",
    "\n",
    "- 변수가 함수 내에 정의 -> 함수의 지역변수(Local)\n",
    "- 변수가 함수 외부에 정의 -> 해당 모듈의 전역변수(Global)"
   ]
  },
  {
   "cell_type": "code",
   "execution_count": 19,
   "metadata": {},
   "outputs": [
    {
     "name": "stdout",
     "output_type": "stream",
     "text": [
      "30 20 11\n",
      "30 40 11\n"
     ]
    }
   ],
   "source": [
    "x = 10 # 전역변수(Global)\n",
    "y = 11\n",
    "\n",
    "def foo() :\n",
    "    x = 20   # foo 함수의 지역변수(Local)에 해당 + bar 함수의 Enclosing Function Local에 해당\n",
    "    def bar() :\n",
    "        a = 30          # bar함수의 지역변수(Local)에 해당\n",
    "        print(a,x,y)    # 각각 L,E,G에 해당 \n",
    "    bar()\n",
    "    x = 40\n",
    "    bar()\n",
    "\n",
    "foo()\n",
    "\n",
    "# 변수의 이름은 항상 안쪽에서 바깥쪽으로 찾아 나간다. \n",
    "# 동일한 이름이 있으면 안쪽에 있는 이름공간의 이름이 먼저 사용되는것이 원칙 "
   ]
  },
  {
   "cell_type": "code",
   "execution_count": 23,
   "metadata": {},
   "outputs": [
    {
     "ename": "TypeError",
     "evalue": "'int' object is not callable",
     "output_type": "error",
     "traceback": [
      "\u001b[1;31m---------------------------------------------------------------------------\u001b[0m",
      "\u001b[1;31mTypeError\u001b[0m                                 Traceback (most recent call last)",
      "\u001b[1;32m~\\AppData\\Local\\Temp\\ipykernel_15192\\1710242877.py\u001b[0m in \u001b[0;36m<module>\u001b[1;34m\u001b[0m\n\u001b[0;32m      1\u001b[0m \u001b[0mabs\u001b[0m \u001b[1;31m# 내장함수 abs(), <function abs(x, /)>\u001b[0m\u001b[1;33m\u001b[0m\u001b[1;33m\u001b[0m\u001b[0m\n\u001b[0;32m      2\u001b[0m \u001b[0mabs\u001b[0m \u001b[1;33m=\u001b[0m \u001b[1;36m10\u001b[0m \u001b[1;31m# 전역변수 abs\u001b[0m\u001b[1;33m\u001b[0m\u001b[1;33m\u001b[0m\u001b[0m\n\u001b[1;32m----> 3\u001b[1;33m \u001b[0mabs\u001b[0m\u001b[1;33m(\u001b[0m\u001b[1;33m-\u001b[0m\u001b[1;36m5\u001b[0m\u001b[1;33m)\u001b[0m \u001b[1;31m# 전역변수 abs에 의해서 내장함수 abs()가 가려짐\u001b[0m\u001b[1;33m\u001b[0m\u001b[1;33m\u001b[0m\u001b[0m\n\u001b[0m\u001b[0;32m      4\u001b[0m \u001b[1;32mdel\u001b[0m \u001b[0mabs\u001b[0m \u001b[1;31m# 전역변수 삭제\u001b[0m\u001b[1;33m\u001b[0m\u001b[1;33m\u001b[0m\u001b[0m\n\u001b[0;32m      5\u001b[0m \u001b[0mabs\u001b[0m\u001b[1;33m(\u001b[0m\u001b[1;33m-\u001b[0m\u001b[1;36m5\u001b[0m\u001b[1;33m)\u001b[0m\u001b[1;33m\u001b[0m\u001b[1;33m\u001b[0m\u001b[0m\n",
      "\u001b[1;31mTypeError\u001b[0m: 'int' object is not callable"
     ]
    }
   ],
   "source": [
    "abs # 내장함수 abs(), <function abs(x, /)>\n",
    "abs = 10 # 전역변수 abs\n",
    "abs(-5) # 전역변수 abs에 의해서 내장함수 abs()가 가려짐 \n",
    "del abs # 전역변수 삭제 \n",
    "abs(-5) "
   ]
  },
  {
   "cell_type": "code",
   "execution_count": 24,
   "metadata": {},
   "outputs": [
    {
     "name": "stdout",
     "output_type": "stream",
     "text": [
      "['ArithmeticError', 'AssertionError', 'AttributeError', 'BaseException', 'BlockingIOError', 'BrokenPipeError', 'BufferError', 'BytesWarning', 'ChildProcessError', 'ConnectionAbortedError', 'ConnectionError', 'ConnectionRefusedError', 'ConnectionResetError', 'DeprecationWarning', 'EOFError', 'Ellipsis', 'EnvironmentError', 'Exception', 'False', 'FileExistsError', 'FileNotFoundError', 'FloatingPointError', 'FutureWarning', 'GeneratorExit', 'IOError', 'ImportError', 'ImportWarning', 'IndentationError', 'IndexError', 'InterruptedError', 'IsADirectoryError', 'KeyError', 'KeyboardInterrupt', 'LookupError', 'MemoryError', 'ModuleNotFoundError', 'NameError', 'None', 'NotADirectoryError', 'NotImplemented', 'NotImplementedError', 'OSError', 'OverflowError', 'PendingDeprecationWarning', 'PermissionError', 'ProcessLookupError', 'RecursionError', 'ReferenceError', 'ResourceWarning', 'RuntimeError', 'RuntimeWarning', 'StopAsyncIteration', 'StopIteration', 'SyntaxError', 'SyntaxWarning', 'SystemError', 'SystemExit', 'TabError', 'TimeoutError', 'True', 'TypeError', 'UnboundLocalError', 'UnicodeDecodeError', 'UnicodeEncodeError', 'UnicodeError', 'UnicodeTranslateError', 'UnicodeWarning', 'UserWarning', 'ValueError', 'Warning', 'WindowsError', 'ZeroDivisionError', '__IPYTHON__', '__build_class__', '__debug__', '__doc__', '__import__', '__loader__', '__name__', '__package__', '__spec__', 'abs', 'all', 'any', 'ascii', 'bin', 'bool', 'breakpoint', 'bytearray', 'bytes', 'callable', 'chr', 'classmethod', 'compile', 'complex', 'copyright', 'credits', 'delattr', 'dict', 'dir', 'display', 'divmod', 'enumerate', 'eval', 'exec', 'execfile', 'filter', 'float', 'format', 'frozenset', 'get_ipython', 'getattr', 'globals', 'hasattr', 'hash', 'help', 'hex', 'id', 'input', 'int', 'isinstance', 'issubclass', 'iter', 'len', 'license', 'list', 'locals', 'map', 'max', 'memoryview', 'min', 'next', 'object', 'oct', 'open', 'ord', 'pow', 'print', 'property', 'range', 'repr', 'reversed', 'round', 'runfile', 'set', 'setattr', 'slice', 'sorted', 'staticmethod', 'str', 'sum', 'super', 'tuple', 'type', 'vars', 'zip']\n"
     ]
    }
   ],
   "source": [
    "print(dir(__builtins__))"
   ]
  },
  {
   "cell_type": "code",
   "execution_count": 28,
   "metadata": {},
   "outputs": [
    {
     "name": "stdout",
     "output_type": "stream",
     "text": [
      "None\n"
     ]
    },
    {
     "data": {
      "text/plain": [
       "20"
      ]
     },
     "execution_count": 28,
     "metadata": {},
     "output_type": "execute_result"
    }
   ],
   "source": [
    "# 함수 내부에서 값을 치환해서 사용하는 변수를 전역변수로 사용하려면 global 선언자를 사용하여 변수가 전역 변수임을 선언해야 함\n",
    "\n",
    "def f(a) : # a =  지역변수\n",
    "    global h # h = 전역변수\n",
    "    h = a + 10\n",
    "    \n",
    "a = 10\n",
    "print(f(a)) # None\n",
    "h # 전역변수를 호출해야함 "
   ]
  },
  {
   "cell_type": "code",
   "execution_count": 1,
   "metadata": {},
   "outputs": [
    {
     "name": "stdout",
     "output_type": "stream",
     "text": [
      "20\n"
     ]
    }
   ],
   "source": [
    "def g(b) : \n",
    "    return b + 10\n",
    "\n",
    "b = 10\n",
    "print(g(b))"
   ]
  },
  {
   "cell_type": "code",
   "execution_count": 2,
   "metadata": {},
   "outputs": [
    {
     "name": "stdout",
     "output_type": "stream",
     "text": [
      "inner : 2\n",
      "outer : 2\n"
     ]
    }
   ],
   "source": [
    "# 전역영역이 아닌 중첩된 함수의 변수를 사용하려고 할 경우, 변수를 nonlocal문으로 선언할 수 있음. \n",
    "# global선언자는 전역 영역의 변수에 접근하는 반면, nonlocal 선언자는 가장 가까운 이름공간에서부터 변수를 찾는다.\n",
    "\n",
    "def outer():\n",
    "    x = 1   #지역변수 \n",
    "    def inner() :\n",
    "        nonlocal x \n",
    "        x = 2       # 함수 inner의 지역변수가 아님 \n",
    "        print('inner :', x)\n",
    "    inner()\n",
    "    print('outer :', x)\n",
    "    \n",
    "outer()"
   ]
  },
  {
   "attachments": {},
   "cell_type": "markdown",
   "metadata": {},
   "source": [
    "### 4. 함수의 인수\n",
    "- 인수에서 기본값이란(default값) 함수를 호출할 때 인수를 넘겨주지 않아도 인수가 자신의 기본값을 취하도록 하는 기능이다. \n",
    "- 기본값을 지정하면 꼭 필요한 인수만 넘겨주면 되므로 함수 호출이 편리하다. \n"
   ]
  },
  {
   "cell_type": "code",
   "execution_count": 5,
   "metadata": {},
   "outputs": [
    {
     "ename": "SyntaxError",
     "evalue": "non-default argument follows default argument (2445604765.py, line 13)",
     "output_type": "error",
     "traceback": [
      "\u001b[1;36m  File \u001b[1;32m\"C:\\Users\\holly\\AppData\\Local\\Temp\\ipykernel_15252\\2445604765.py\"\u001b[1;36m, line \u001b[1;32m13\u001b[0m\n\u001b[1;33m    def dec(step=1, b) : # 순서가 잘못됨 --> error뜸\u001b[0m\n\u001b[1;37m                     ^\u001b[0m\n\u001b[1;31mSyntaxError\u001b[0m\u001b[1;31m:\u001b[0m non-default argument follows default argument\n"
     ]
    }
   ],
   "source": [
    "def inc(a, step=1):\n",
    "    return a + step\n",
    "\n",
    "b=1\n",
    "b = inc(b)\n",
    "print(b)\n",
    "\n",
    "c = inc(b, 10) # 여기서는 위의 코드로 인해 b = 2 임\n",
    "print(c)\n",
    "\n",
    "\n",
    "# 주의 : 기본값이 정의된 인수 다음에 기본값이 없는 인수가 올 수 없다. \n",
    "# def dec(step=1, b) : # 순서가 잘못됨 --> error뜸 \n",
    "#     pass"
   ]
  },
  {
   "cell_type": "code",
   "execution_count": 7,
   "metadata": {},
   "outputs": [
    {
     "name": "stdout",
     "output_type": "stream",
     "text": [
      "200\n",
      "100\n"
     ]
    }
   ],
   "source": [
    "# 함수의 호출에서 키워드 인수란 : 인수 이름으로 값을 전달하는 방식이다.\n",
    "def area(height, width) :\n",
    "    return height * width\n",
    "\n",
    "\n",
    "print(area(width=20, height=10)) # 순서가 아닌 이름으로 값을 전달 --> 이름을 붙이면 순서 상관 없음\n",
    "\n",
    "\n",
    "# 함수를 호출할 때 키워드 인수의 위치는 보통의 인수 이후이다. \n",
    "print(area(20, width=5))\n",
    "# print(area(width=5, 20)) # 키워드 인수를 먼저써서 에러뜸"
   ]
  },
  {
   "cell_type": "code",
   "execution_count": 9,
   "metadata": {},
   "outputs": [
    {
     "name": "stdout",
     "output_type": "stream",
     "text": [
      "1 ()\n",
      "None\n",
      "2 (3,)\n",
      "None\n",
      "2 (3, 4, 5, 6)\n",
      "None\n"
     ]
    }
   ],
   "source": [
    "# 고정되지 않은 수의 인수를 함수에 전달하는 방법이 있음 \n",
    "# 함수를 정의할 때 인수 목록에 반드시 넘겨야 하는 고정 인수를 우선 나열하고, 나머지를 튜플 형식으로 한꺼번에 받는다. \n",
    "\n",
    "def varg(a, *arg) :\n",
    "    print(a, arg)\n",
    "    \n",
    "print(varg(1)) # 1은 인수 목록에 반드시 넘겨야 하는 고정 인수 \n",
    "print(varg(2,3)) # 2는 인수 목록에 반드시 넘겨야 하는 고정 인수, 3은 튜플로 들어감\n",
    "print(varg(2,3,4,5,6)) # 2는 인수 목록에 반드시 넘겨야 하는 고정 인수(정해진 고정인수가 1개 밖에 없기 때문) 나머지는 전부 튜플 형식으로 한꺼번에 받음"
   ]
  },
  {
   "cell_type": "code",
   "execution_count": 12,
   "metadata": {},
   "outputs": [
    {
     "name": "stdout",
     "output_type": "stream",
     "text": [
      "I've spent 6 days and 5 night to do this\n",
      "None\n"
     ]
    }
   ],
   "source": [
    "# 가변 인수는 *var 형식으로 인수 목록 마지막에 하나만 나타날 수 있다. \n",
    "# 가변인수를 사용하면 파이썬으로 c언어의 printf()를 흉내낼 수 있음. \n",
    "\n",
    "#printf.py\n",
    "def printf(format, *args) :\n",
    "    print(format % args)\n",
    "    \n",
    "print(printf(\"I've spent %d days and %d night to do this\", 6, 5))"
   ]
  },
  {
   "cell_type": "code",
   "execution_count": 13,
   "metadata": {},
   "outputs": [
    {
     "name": "stdout",
     "output_type": "stream",
     "text": [
      "10 5\n",
      "{'depth': 10, 'dimension': 3}\n"
     ]
    }
   ],
   "source": [
    "# 키워드 인수를 이용해서 함수를 호출할 때, 만일 미리 정의되어 있지 않은 키워드 인수를 받으려면,\n",
    "# 함수를 정의할 때 마지막에 **kw 형식으로 기술한다. \n",
    "# 전달받는 형식은 사전이다. \n",
    "# 즉, key=키워드(변수명), value=키워드 인수로 전달된 값 \n",
    "\n",
    "def f(width, height, **kw) :\n",
    "    print(width, height)\n",
    "    print(kw)\n",
    "    \n",
    "f(width=10, height=5, depth=10, dimension=3) # 사전 키워드 인수는 함수의 가인수 목록의 제일 마지막에 나와야 한다. \n"
   ]
  },
  {
   "cell_type": "code",
   "execution_count": 17,
   "metadata": {},
   "outputs": [
    {
     "name": "stdout",
     "output_type": "stream",
     "text": [
      "1 2\n",
      "(3, 4)\n",
      "{'c': 5, 'd': 6}\n",
      "1 2 (3, 4) {'c': 5, 'd': 6}\n"
     ]
    }
   ],
   "source": [
    "def g(a, b, *args, **kw) :\n",
    "    print(a, b)\n",
    "    print(args)\n",
    "    print(kw)\n",
    "    print(a,b,args,kw)\n",
    "    \n",
    "g(1,2,3,4,c=5, d=6)"
   ]
  },
  {
   "cell_type": "code",
   "execution_count": 24,
   "metadata": {},
   "outputs": [
    {
     "name": "stdout",
     "output_type": "stream",
     "text": [
      "1 2 3\n",
      "None\n",
      "1 2 3\n",
      "None\n",
      "1 2 3\n",
      "None\n"
     ]
    }
   ],
   "source": [
    "# 만일 함수 호출에 사용하는 인수들이 튜플에 있으면, * 를 이용해서 함수를 호출할 수 있음 \n",
    "\n",
    "def h(a, b, c) :\n",
    "    print(a, b, c)\n",
    "    \n",
    "args = (1,2,3)\n",
    "print(h(*args))\n",
    "\n",
    "\n",
    "# 함수 호출에 사용하는 인수들이 사전에 있다면 **를 이용하여 함수를 호출 \n",
    "dargs = {'a':1, 'b':2, 'c':3}\n",
    "print(h(**dargs))\n",
    "\n",
    "args1 = (1,2)\n",
    "dargs1 = {'c':3}\n",
    "print(h(*args1, **dargs1)) "
   ]
  },
  {
   "attachments": {},
   "cell_type": "markdown",
   "metadata": {},
   "source": [
    "#### 파이썬의 함수는 모두 일급 함수이다. \n",
    "1. 함수를 다른 함수에 인수로 전달할 수 있다. \n",
    "2. 함수의 반환 값으로 전달할 수 있다. \n",
    "3. 변수나 자료 구조에 저장할 수 있다. "
   ]
  },
  {
   "cell_type": "code",
   "execution_count": 27,
   "metadata": {},
   "outputs": [
    {
     "name": "stdout",
     "output_type": "stream",
     "text": [
      "7\n",
      "5\n"
     ]
    },
    {
     "data": {
      "text/plain": [
       "'<i>hello</i>'"
      ]
     },
     "execution_count": 27,
     "metadata": {},
     "output_type": "execute_result"
    }
   ],
   "source": [
    "# 3\n",
    "def add(a, b) :\n",
    "    return a + b\n",
    "\n",
    "addition = add  \n",
    "print(addition(3,4))\n",
    "\n",
    "\n",
    "\n",
    "# 1\n",
    "def f(g, a, b) :\n",
    "    return g(a, b) \n",
    "\n",
    "print(f(add, 2,3))\n",
    "\n",
    "\n",
    "# 2\n",
    "def decorate(type = 'italic') : \n",
    "    def italic(s) :\n",
    "        return '<i>' + s + '</i>'\n",
    "    def bold(s) :\n",
    "        return '<b>' + s + '</b>'\n",
    "    if type == 'italic' :\n",
    "        return italic             # 2\n",
    "    else :\n",
    "        return bold               # 2\n",
    "    \n",
    "dec = decorate()\n",
    "dec('hello')"
   ]
  },
  {
   "attachments": {},
   "cell_type": "markdown",
   "metadata": {},
   "source": [
    "### 5. 함수 안의 함수 \n",
    "- **함수 클로저(Function Closure)** 란 : 함수가 참조할 수 있는 비지역 변수(Non-local Variable)나 자유 변수(Free Variable)를 저장한 심볼 테이블 \\\n",
    "혹은 참조 환경(Reference Environment)이 함수와 함께 제공되는 것을 의미 "
   ]
  },
  {
   "cell_type": "code",
   "execution_count": 29,
   "metadata": {},
   "outputs": [
    {
     "name": "stdout",
     "output_type": "stream",
     "text": [
      "<function quadratic.<locals>.f at 0x0000016B9A3DE4C0>\n",
      "12.48\n"
     ]
    }
   ],
   "source": [
    "def quadratic(a, b, c) :\n",
    "    cache = {}\n",
    "    def f(x) :\n",
    "        if x in cache :\n",
    "            return cache[x]\n",
    "        y = a * x * x + b * x + c\n",
    "        cache[x] = y\n",
    "        return y \n",
    "    return f \n",
    "\n",
    "f1 = quadratic(3, -4, 5) \n",
    "print(f1)\n",
    "\n",
    "f2 = quadratic(-2, 7, 10)\n",
    "print(f2(0.4))\n",
    "\n",
    "# 함수 quadratic의 호출에 의해 반환되는 함수 객체 f는 내부에 지역변수 x, y를 포함하며 \n",
    "# 정적인(static) 비지역 변수 (Non-local Variable) cache, a, b, c를 갖는다. \n",
    "# f1과 f2는 각각 독립적인 비지역 변수를 실행 문맥(Execution Context)으로 갖는다. \n",
    "# 함수 f를 둘러싸고 있는 각각의 자유 변수 영역은 객체 f1이나 f2가 삭제될 때 까지 유지된다. "
   ]
  },
  {
   "cell_type": "code",
   "execution_count": null,
   "metadata": {},
   "outputs": [],
   "source": []
  }
 ],
 "metadata": {
  "kernelspec": {
   "display_name": "base",
   "language": "python",
   "name": "python3"
  },
  "language_info": {
   "codemirror_mode": {
    "name": "ipython",
    "version": 3
   },
   "file_extension": ".py",
   "mimetype": "text/x-python",
   "name": "python",
   "nbconvert_exporter": "python",
   "pygments_lexer": "ipython3",
   "version": "3.9.13 (main, Aug 25 2022, 23:51:50) [MSC v.1916 64 bit (AMD64)]"
  },
  "orig_nbformat": 4,
  "vscode": {
   "interpreter": {
    "hash": "d7288e82646d3164eca24130947288f8779d11454649f2c02a5dfc42af7f324c"
   }
  }
 },
 "nbformat": 4,
 "nbformat_minor": 2
}
